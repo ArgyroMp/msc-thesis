{
 "cells": [
  {
   "cell_type": "markdown",
   "id": "a518bf63",
   "metadata": {},
   "source": [
    "# About Dataset\n",
    "\n",
    "### **Context**\n",
    "This Online Retail II dataset contains all the transactions occurring for a UK-based and registered, non-store online retail between 01.12.2009 and 09.12.2011. The company mainly sells unique all-occasion gift-ware. Many customers of the company are wholesalers.\n",
    "\n",
    "The dataset is available on Kaggle (https://www.kaggle.com/datasets/kabilan45/online-retail-ii-datase) and on UCI Machine Learning Repository (https://archive.ics.uci.edu/dataset/502/online+retail+ii).\n",
    "\n",
    "### **Content**\n",
    "#### **Attribute Information:**\n",
    "\n",
    "- `Invoice`: Invoice number. Nominal. A 6-digit integral number uniquely assigned to each transaction. If this code starts with the letter 'c', it indicates a cancellation.\n",
    "- `StockCode`: Product (item) code. Nominal. A 5-digit integral number uniquely assigned to each distinct product.\n",
    "- `Description`: Product (item) name. Nominal.\n",
    "- `Quantity`: The quantities of each product (item) per transaction. Numeric.\n",
    "- `InvoiceDate`: Invoice date and time. Numeric. The day and time when a transaction was generated.\n",
    "- `Price`: Unit price. Numeric. Product price per unit in sterling (Â£).\n",
    "- `Customer ID`: Customer number. Nominal. A 5-digit integral number uniquely assigned to each customer.\n",
    "- `Country`: Country name. Nominal. The name of the country where a customer resides.\n",
    "---"
   ]
  },
  {
   "cell_type": "markdown",
   "id": "6014fe80",
   "metadata": {},
   "source": [
    "# 1. Getting to know our Dataset"
   ]
  },
  {
   "cell_type": "code",
   "execution_count": 1,
   "id": "a0b86c09",
   "metadata": {},
   "outputs": [],
   "source": [
    "# Import libraries\n",
    "import numpy as np \n",
    "import pandas as pd \n",
    "import datetime as dt\n",
    "import matplotlib.pyplot as plt \n",
    "from IPython.display import display\n",
    "from collections import defaultdict"
   ]
  },
  {
   "cell_type": "code",
   "execution_count": 2,
   "id": "9add78fc",
   "metadata": {},
   "outputs": [],
   "source": [
    "# Read excel's two sheets and merge them into a single Dataframe\n",
    "df1_raw = pd.read_excel(\"online_retail_II.xlsx\", sheet_name = \"Year 2009-2010\")\n",
    "df2_raw = pd.read_excel(\"online_retail_II.xlsx\", sheet_name = \"Year 2010-2011\")\n",
    "df_raw = pd.concat([df1_raw, df2_raw])"
   ]
  },
  {
   "cell_type": "code",
   "execution_count": 3,
   "id": "5deb0019",
   "metadata": {},
   "outputs": [
    {
     "name": "stdout",
     "output_type": "stream",
     "text": [
      "<class 'pandas.core.frame.DataFrame'>\n",
      "Int64Index: 1067371 entries, 0 to 541909\n",
      "Data columns (total 8 columns):\n",
      " #   Column       Non-Null Count    Dtype         \n",
      "---  ------       --------------    -----         \n",
      " 0   Invoice      1067371 non-null  object        \n",
      " 1   StockCode    1067371 non-null  object        \n",
      " 2   Description  1062989 non-null  object        \n",
      " 3   Quantity     1067371 non-null  int64         \n",
      " 4   InvoiceDate  1067371 non-null  datetime64[ns]\n",
      " 5   Price        1067371 non-null  float64       \n",
      " 6   Customer ID  824364 non-null   float64       \n",
      " 7   Country      1067371 non-null  object        \n",
      "dtypes: datetime64[ns](1), float64(2), int64(1), object(4)\n",
      "memory usage: 73.3+ MB\n"
     ]
    }
   ],
   "source": [
    "# Review info on columns\n",
    "df_raw.info()"
   ]
  },
  {
   "cell_type": "code",
   "execution_count": 4,
   "id": "6e30e1e6",
   "metadata": {},
   "outputs": [
    {
     "data": {
      "text/html": [
       "<div>\n",
       "<style scoped>\n",
       "    .dataframe tbody tr th:only-of-type {\n",
       "        vertical-align: middle;\n",
       "    }\n",
       "\n",
       "    .dataframe tbody tr th {\n",
       "        vertical-align: top;\n",
       "    }\n",
       "\n",
       "    .dataframe thead th {\n",
       "        text-align: right;\n",
       "    }\n",
       "</style>\n",
       "<table border=\"1\" class=\"dataframe\">\n",
       "  <thead>\n",
       "    <tr style=\"text-align: right;\">\n",
       "      <th></th>\n",
       "      <th>Invoice</th>\n",
       "      <th>StockCode</th>\n",
       "      <th>Description</th>\n",
       "      <th>Quantity</th>\n",
       "      <th>InvoiceDate</th>\n",
       "      <th>Price</th>\n",
       "      <th>Customer ID</th>\n",
       "      <th>Country</th>\n",
       "    </tr>\n",
       "  </thead>\n",
       "  <tbody>\n",
       "    <tr>\n",
       "      <th>0</th>\n",
       "      <td>489434</td>\n",
       "      <td>85048</td>\n",
       "      <td>15CM CHRISTMAS GLASS BALL 20 LIGHTS</td>\n",
       "      <td>12</td>\n",
       "      <td>2009-12-01 07:45:00</td>\n",
       "      <td>6.95</td>\n",
       "      <td>13085.0</td>\n",
       "      <td>United Kingdom</td>\n",
       "    </tr>\n",
       "    <tr>\n",
       "      <th>1</th>\n",
       "      <td>489434</td>\n",
       "      <td>79323P</td>\n",
       "      <td>PINK CHERRY LIGHTS</td>\n",
       "      <td>12</td>\n",
       "      <td>2009-12-01 07:45:00</td>\n",
       "      <td>6.75</td>\n",
       "      <td>13085.0</td>\n",
       "      <td>United Kingdom</td>\n",
       "    </tr>\n",
       "    <tr>\n",
       "      <th>2</th>\n",
       "      <td>489434</td>\n",
       "      <td>79323W</td>\n",
       "      <td>WHITE CHERRY LIGHTS</td>\n",
       "      <td>12</td>\n",
       "      <td>2009-12-01 07:45:00</td>\n",
       "      <td>6.75</td>\n",
       "      <td>13085.0</td>\n",
       "      <td>United Kingdom</td>\n",
       "    </tr>\n",
       "    <tr>\n",
       "      <th>3</th>\n",
       "      <td>489434</td>\n",
       "      <td>22041</td>\n",
       "      <td>RECORD FRAME 7\" SINGLE SIZE</td>\n",
       "      <td>48</td>\n",
       "      <td>2009-12-01 07:45:00</td>\n",
       "      <td>2.10</td>\n",
       "      <td>13085.0</td>\n",
       "      <td>United Kingdom</td>\n",
       "    </tr>\n",
       "    <tr>\n",
       "      <th>4</th>\n",
       "      <td>489434</td>\n",
       "      <td>21232</td>\n",
       "      <td>STRAWBERRY CERAMIC TRINKET BOX</td>\n",
       "      <td>24</td>\n",
       "      <td>2009-12-01 07:45:00</td>\n",
       "      <td>1.25</td>\n",
       "      <td>13085.0</td>\n",
       "      <td>United Kingdom</td>\n",
       "    </tr>\n",
       "  </tbody>\n",
       "</table>\n",
       "</div>"
      ],
      "text/plain": [
       "  Invoice StockCode                          Description  Quantity  \\\n",
       "0  489434     85048  15CM CHRISTMAS GLASS BALL 20 LIGHTS        12   \n",
       "1  489434    79323P                   PINK CHERRY LIGHTS        12   \n",
       "2  489434    79323W                  WHITE CHERRY LIGHTS        12   \n",
       "3  489434     22041         RECORD FRAME 7\" SINGLE SIZE         48   \n",
       "4  489434     21232       STRAWBERRY CERAMIC TRINKET BOX        24   \n",
       "\n",
       "          InvoiceDate  Price  Customer ID         Country  \n",
       "0 2009-12-01 07:45:00   6.95      13085.0  United Kingdom  \n",
       "1 2009-12-01 07:45:00   6.75      13085.0  United Kingdom  \n",
       "2 2009-12-01 07:45:00   6.75      13085.0  United Kingdom  \n",
       "3 2009-12-01 07:45:00   2.10      13085.0  United Kingdom  \n",
       "4 2009-12-01 07:45:00   1.25      13085.0  United Kingdom  "
      ]
     },
     "execution_count": 4,
     "metadata": {},
     "output_type": "execute_result"
    }
   ],
   "source": [
    "# Review first rows of dataset\n",
    "df_raw.head()"
   ]
  },
  {
   "cell_type": "code",
   "execution_count": 5,
   "id": "529425ac",
   "metadata": {},
   "outputs": [
    {
     "data": {
      "text/plain": [
       "(1067371, 8)"
      ]
     },
     "execution_count": 5,
     "metadata": {},
     "output_type": "execute_result"
    }
   ],
   "source": [
    "# Shape of merged dataset\n",
    "df_raw.shape"
   ]
  },
  {
   "cell_type": "markdown",
   "id": "f2e7f8c8",
   "metadata": {},
   "source": [
    "It looks like we have **8 columns** with **1067371 rows**. "
   ]
  },
  {
   "cell_type": "markdown",
   "id": "90c79326",
   "metadata": {},
   "source": [
    "### **1.1 Check for duplicates**\n"
   ]
  },
  {
   "cell_type": "code",
   "execution_count": 6,
   "id": "b1c9018e",
   "metadata": {},
   "outputs": [
    {
     "name": "stdout",
     "output_type": "stream",
     "text": [
      "Number of duplicate rows:  34335\n"
     ]
    }
   ],
   "source": [
    "# Check for duplicates\n",
    "print(\"Number of duplicate rows: \", df_raw.sort_values(by = \"InvoiceDate\").duplicated().sum())"
   ]
  },
  {
   "cell_type": "code",
   "execution_count": 7,
   "id": "051c5500",
   "metadata": {},
   "outputs": [
    {
     "data": {
      "text/html": [
       "<div>\n",
       "<style scoped>\n",
       "    .dataframe tbody tr th:only-of-type {\n",
       "        vertical-align: middle;\n",
       "    }\n",
       "\n",
       "    .dataframe tbody tr th {\n",
       "        vertical-align: top;\n",
       "    }\n",
       "\n",
       "    .dataframe thead th {\n",
       "        text-align: right;\n",
       "    }\n",
       "</style>\n",
       "<table border=\"1\" class=\"dataframe\">\n",
       "  <thead>\n",
       "    <tr style=\"text-align: right;\">\n",
       "      <th></th>\n",
       "      <th>Invoice</th>\n",
       "      <th>StockCode</th>\n",
       "      <th>Description</th>\n",
       "      <th>Quantity</th>\n",
       "      <th>InvoiceDate</th>\n",
       "      <th>Price</th>\n",
       "      <th>Customer ID</th>\n",
       "      <th>Country</th>\n",
       "    </tr>\n",
       "  </thead>\n",
       "  <tbody>\n",
       "    <tr>\n",
       "      <th>379</th>\n",
       "      <td>489517</td>\n",
       "      <td>21491</td>\n",
       "      <td>SET OF THREE VINTAGE GIFT WRAPS</td>\n",
       "      <td>1</td>\n",
       "      <td>2009-12-01 11:34:00</td>\n",
       "      <td>1.95</td>\n",
       "      <td>16329.0</td>\n",
       "      <td>United Kingdom</td>\n",
       "    </tr>\n",
       "    <tr>\n",
       "      <th>391</th>\n",
       "      <td>489517</td>\n",
       "      <td>21491</td>\n",
       "      <td>SET OF THREE VINTAGE GIFT WRAPS</td>\n",
       "      <td>1</td>\n",
       "      <td>2009-12-01 11:34:00</td>\n",
       "      <td>1.95</td>\n",
       "      <td>16329.0</td>\n",
       "      <td>United Kingdom</td>\n",
       "    </tr>\n",
       "    <tr>\n",
       "      <th>365</th>\n",
       "      <td>489517</td>\n",
       "      <td>21821</td>\n",
       "      <td>GLITTER STAR GARLAND WITH BELLS</td>\n",
       "      <td>1</td>\n",
       "      <td>2009-12-01 11:34:00</td>\n",
       "      <td>3.75</td>\n",
       "      <td>16329.0</td>\n",
       "      <td>United Kingdom</td>\n",
       "    </tr>\n",
       "    <tr>\n",
       "      <th>386</th>\n",
       "      <td>489517</td>\n",
       "      <td>21821</td>\n",
       "      <td>GLITTER STAR GARLAND WITH BELLS</td>\n",
       "      <td>1</td>\n",
       "      <td>2009-12-01 11:34:00</td>\n",
       "      <td>3.75</td>\n",
       "      <td>16329.0</td>\n",
       "      <td>United Kingdom</td>\n",
       "    </tr>\n",
       "    <tr>\n",
       "      <th>363</th>\n",
       "      <td>489517</td>\n",
       "      <td>21912</td>\n",
       "      <td>VINTAGE SNAKES &amp; LADDERS</td>\n",
       "      <td>1</td>\n",
       "      <td>2009-12-01 11:34:00</td>\n",
       "      <td>3.75</td>\n",
       "      <td>16329.0</td>\n",
       "      <td>United Kingdom</td>\n",
       "    </tr>\n",
       "    <tr>\n",
       "      <th>...</th>\n",
       "      <td>...</td>\n",
       "      <td>...</td>\n",
       "      <td>...</td>\n",
       "      <td>...</td>\n",
       "      <td>...</td>\n",
       "      <td>...</td>\n",
       "      <td>...</td>\n",
       "      <td>...</td>\n",
       "    </tr>\n",
       "    <tr>\n",
       "      <th>541655</th>\n",
       "      <td>581538</td>\n",
       "      <td>23275</td>\n",
       "      <td>SET OF 3 HANGING OWLS OLLIE BEAK</td>\n",
       "      <td>1</td>\n",
       "      <td>2011-12-09 11:34:00</td>\n",
       "      <td>1.25</td>\n",
       "      <td>14446.0</td>\n",
       "      <td>United Kingdom</td>\n",
       "    </tr>\n",
       "    <tr>\n",
       "      <th>541656</th>\n",
       "      <td>581538</td>\n",
       "      <td>23318</td>\n",
       "      <td>BOX OF 6 MINI VINTAGE CRACKERS</td>\n",
       "      <td>1</td>\n",
       "      <td>2011-12-09 11:34:00</td>\n",
       "      <td>2.49</td>\n",
       "      <td>14446.0</td>\n",
       "      <td>United Kingdom</td>\n",
       "    </tr>\n",
       "    <tr>\n",
       "      <th>541689</th>\n",
       "      <td>581538</td>\n",
       "      <td>23318</td>\n",
       "      <td>BOX OF 6 MINI VINTAGE CRACKERS</td>\n",
       "      <td>1</td>\n",
       "      <td>2011-12-09 11:34:00</td>\n",
       "      <td>2.49</td>\n",
       "      <td>14446.0</td>\n",
       "      <td>United Kingdom</td>\n",
       "    </tr>\n",
       "    <tr>\n",
       "      <th>541666</th>\n",
       "      <td>581538</td>\n",
       "      <td>23343</td>\n",
       "      <td>JUMBO BAG VINTAGE CHRISTMAS</td>\n",
       "      <td>1</td>\n",
       "      <td>2011-12-09 11:34:00</td>\n",
       "      <td>2.08</td>\n",
       "      <td>14446.0</td>\n",
       "      <td>United Kingdom</td>\n",
       "    </tr>\n",
       "    <tr>\n",
       "      <th>541701</th>\n",
       "      <td>581538</td>\n",
       "      <td>23343</td>\n",
       "      <td>JUMBO BAG VINTAGE CHRISTMAS</td>\n",
       "      <td>1</td>\n",
       "      <td>2011-12-09 11:34:00</td>\n",
       "      <td>2.08</td>\n",
       "      <td>14446.0</td>\n",
       "      <td>United Kingdom</td>\n",
       "    </tr>\n",
       "  </tbody>\n",
       "</table>\n",
       "<p>67242 rows × 8 columns</p>\n",
       "</div>"
      ],
      "text/plain": [
       "       Invoice StockCode                       Description  Quantity  \\\n",
       "379     489517     21491   SET OF THREE VINTAGE GIFT WRAPS         1   \n",
       "391     489517     21491   SET OF THREE VINTAGE GIFT WRAPS         1   \n",
       "365     489517     21821  GLITTER STAR GARLAND WITH BELLS          1   \n",
       "386     489517     21821  GLITTER STAR GARLAND WITH BELLS          1   \n",
       "363     489517     21912          VINTAGE SNAKES & LADDERS         1   \n",
       "...        ...       ...                               ...       ...   \n",
       "541655  581538     23275  SET OF 3 HANGING OWLS OLLIE BEAK         1   \n",
       "541656  581538     23318    BOX OF 6 MINI VINTAGE CRACKERS         1   \n",
       "541689  581538     23318    BOX OF 6 MINI VINTAGE CRACKERS         1   \n",
       "541666  581538     23343      JUMBO BAG VINTAGE CHRISTMAS          1   \n",
       "541701  581538     23343      JUMBO BAG VINTAGE CHRISTMAS          1   \n",
       "\n",
       "               InvoiceDate  Price  Customer ID         Country  \n",
       "379    2009-12-01 11:34:00   1.95      16329.0  United Kingdom  \n",
       "391    2009-12-01 11:34:00   1.95      16329.0  United Kingdom  \n",
       "365    2009-12-01 11:34:00   3.75      16329.0  United Kingdom  \n",
       "386    2009-12-01 11:34:00   3.75      16329.0  United Kingdom  \n",
       "363    2009-12-01 11:34:00   3.75      16329.0  United Kingdom  \n",
       "...                    ...    ...          ...             ...  \n",
       "541655 2011-12-09 11:34:00   1.25      14446.0  United Kingdom  \n",
       "541656 2011-12-09 11:34:00   2.49      14446.0  United Kingdom  \n",
       "541689 2011-12-09 11:34:00   2.49      14446.0  United Kingdom  \n",
       "541666 2011-12-09 11:34:00   2.08      14446.0  United Kingdom  \n",
       "541701 2011-12-09 11:34:00   2.08      14446.0  United Kingdom  \n",
       "\n",
       "[67242 rows x 8 columns]"
      ]
     },
     "execution_count": 7,
     "metadata": {},
     "output_type": "execute_result"
    }
   ],
   "source": [
    "# Visually inspect duplicate data records\n",
    "_duplicated = df_raw[df_raw.duplicated(keep = False)].sort_values(by = [\"InvoiceDate\", \"Invoice\", \"StockCode\"])\n",
    "_duplicated"
   ]
  },
  {
   "cell_type": "markdown",
   "id": "fab8704b",
   "metadata": {},
   "source": [
    "It is fair to suspect that some of the **34335** duplicate records occurred due to merging data from the two excel sheets (*Years 2009-2010*, *Years 2010-2011*). We review the final date of the ***df1_raw*** and the first date of the ***df2_raw*** in order to confirm this assumption."
   ]
  },
  {
   "cell_type": "code",
   "execution_count": 8,
   "id": "b07ddc76",
   "metadata": {},
   "outputs": [
    {
     "name": "stdout",
     "output_type": "stream",
     "text": [
      "Final date of the 'Year 2009-2010' dataset: 2010-12-09 20:01:00\n",
      "Start date of the 'Year 2010-2011' dataset: 2010-12-01 08:26:00\n"
     ]
    }
   ],
   "source": [
    "# Review the final date of the *df1_raw* and the first date of the *df2_raw*.   \n",
    "\n",
    "df1_raw_final_date = df1_raw[\"InvoiceDate\"].max()\n",
    "df2_raw_start_date = df2_raw[\"InvoiceDate\"].min()\n",
    "\n",
    "print(\"Final date of the 'Year 2009-2010' dataset:\", df1_raw_final_date)\n",
    "print(\"Start date of the 'Year 2010-2011' dataset:\", df2_raw_start_date)"
   ]
  },
  {
   "cell_type": "markdown",
   "id": "9dc8f8e4",
   "metadata": {},
   "source": [
    "It appears there is a data overlap of 9 days of transactions between the two excel sheets.\n",
    "This can also be seen visually by filtering **df1_raw** by InvoiceDate, i.e. *InvoiceDate>=01.12.2010* and printing the first few rows of the resulted dataframe, while also printing the first few rows of **df2_raw**."
   ]
  },
  {
   "cell_type": "code",
   "execution_count": 9,
   "id": "64c4fb74",
   "metadata": {},
   "outputs": [
    {
     "data": {
      "text/html": [
       "<div>\n",
       "<style scoped>\n",
       "    .dataframe tbody tr th:only-of-type {\n",
       "        vertical-align: middle;\n",
       "    }\n",
       "\n",
       "    .dataframe tbody tr th {\n",
       "        vertical-align: top;\n",
       "    }\n",
       "\n",
       "    .dataframe thead th {\n",
       "        text-align: right;\n",
       "    }\n",
       "</style>\n",
       "<table border=\"1\" class=\"dataframe\">\n",
       "  <thead>\n",
       "    <tr style=\"text-align: right;\">\n",
       "      <th></th>\n",
       "      <th>Invoice</th>\n",
       "      <th>StockCode</th>\n",
       "      <th>Description</th>\n",
       "      <th>Quantity</th>\n",
       "      <th>InvoiceDate</th>\n",
       "      <th>Price</th>\n",
       "      <th>Customer ID</th>\n",
       "      <th>Country</th>\n",
       "    </tr>\n",
       "  </thead>\n",
       "  <tbody>\n",
       "    <tr>\n",
       "      <th>502938</th>\n",
       "      <td>536365</td>\n",
       "      <td>85123A</td>\n",
       "      <td>WHITE HANGING HEART T-LIGHT HOLDER</td>\n",
       "      <td>6</td>\n",
       "      <td>2010-12-01 08:26:00</td>\n",
       "      <td>2.55</td>\n",
       "      <td>17850.0</td>\n",
       "      <td>United Kingdom</td>\n",
       "    </tr>\n",
       "    <tr>\n",
       "      <th>502939</th>\n",
       "      <td>536365</td>\n",
       "      <td>71053</td>\n",
       "      <td>WHITE METAL LANTERN</td>\n",
       "      <td>6</td>\n",
       "      <td>2010-12-01 08:26:00</td>\n",
       "      <td>3.39</td>\n",
       "      <td>17850.0</td>\n",
       "      <td>United Kingdom</td>\n",
       "    </tr>\n",
       "    <tr>\n",
       "      <th>502940</th>\n",
       "      <td>536365</td>\n",
       "      <td>84406B</td>\n",
       "      <td>CREAM CUPID HEARTS COAT HANGER</td>\n",
       "      <td>8</td>\n",
       "      <td>2010-12-01 08:26:00</td>\n",
       "      <td>2.75</td>\n",
       "      <td>17850.0</td>\n",
       "      <td>United Kingdom</td>\n",
       "    </tr>\n",
       "    <tr>\n",
       "      <th>502941</th>\n",
       "      <td>536365</td>\n",
       "      <td>84029G</td>\n",
       "      <td>KNITTED UNION FLAG HOT WATER BOTTLE</td>\n",
       "      <td>6</td>\n",
       "      <td>2010-12-01 08:26:00</td>\n",
       "      <td>3.39</td>\n",
       "      <td>17850.0</td>\n",
       "      <td>United Kingdom</td>\n",
       "    </tr>\n",
       "    <tr>\n",
       "      <th>502942</th>\n",
       "      <td>536365</td>\n",
       "      <td>84029E</td>\n",
       "      <td>RED WOOLLY HOTTIE WHITE HEART.</td>\n",
       "      <td>6</td>\n",
       "      <td>2010-12-01 08:26:00</td>\n",
       "      <td>3.39</td>\n",
       "      <td>17850.0</td>\n",
       "      <td>United Kingdom</td>\n",
       "    </tr>\n",
       "  </tbody>\n",
       "</table>\n",
       "</div>"
      ],
      "text/plain": [
       "       Invoice StockCode                          Description  Quantity  \\\n",
       "502938  536365    85123A   WHITE HANGING HEART T-LIGHT HOLDER         6   \n",
       "502939  536365     71053                  WHITE METAL LANTERN         6   \n",
       "502940  536365    84406B       CREAM CUPID HEARTS COAT HANGER         8   \n",
       "502941  536365    84029G  KNITTED UNION FLAG HOT WATER BOTTLE         6   \n",
       "502942  536365    84029E       RED WOOLLY HOTTIE WHITE HEART.         6   \n",
       "\n",
       "               InvoiceDate  Price  Customer ID         Country  \n",
       "502938 2010-12-01 08:26:00   2.55      17850.0  United Kingdom  \n",
       "502939 2010-12-01 08:26:00   3.39      17850.0  United Kingdom  \n",
       "502940 2010-12-01 08:26:00   2.75      17850.0  United Kingdom  \n",
       "502941 2010-12-01 08:26:00   3.39      17850.0  United Kingdom  \n",
       "502942 2010-12-01 08:26:00   3.39      17850.0  United Kingdom  "
      ]
     },
     "execution_count": 9,
     "metadata": {},
     "output_type": "execute_result"
    }
   ],
   "source": [
    "# First few rows from 12.2010 from the sheet 'Year 2009-2010'\n",
    "df1_raw[df1_raw[\"InvoiceDate\"] >= dt.datetime(2010,12,1)].sort_values(by = \"InvoiceDate\").head()"
   ]
  },
  {
   "cell_type": "code",
   "execution_count": 10,
   "id": "8ef75d8c",
   "metadata": {},
   "outputs": [
    {
     "data": {
      "text/html": [
       "<div>\n",
       "<style scoped>\n",
       "    .dataframe tbody tr th:only-of-type {\n",
       "        vertical-align: middle;\n",
       "    }\n",
       "\n",
       "    .dataframe tbody tr th {\n",
       "        vertical-align: top;\n",
       "    }\n",
       "\n",
       "    .dataframe thead th {\n",
       "        text-align: right;\n",
       "    }\n",
       "</style>\n",
       "<table border=\"1\" class=\"dataframe\">\n",
       "  <thead>\n",
       "    <tr style=\"text-align: right;\">\n",
       "      <th></th>\n",
       "      <th>Invoice</th>\n",
       "      <th>StockCode</th>\n",
       "      <th>Description</th>\n",
       "      <th>Quantity</th>\n",
       "      <th>InvoiceDate</th>\n",
       "      <th>Price</th>\n",
       "      <th>Customer ID</th>\n",
       "      <th>Country</th>\n",
       "    </tr>\n",
       "  </thead>\n",
       "  <tbody>\n",
       "    <tr>\n",
       "      <th>0</th>\n",
       "      <td>536365</td>\n",
       "      <td>85123A</td>\n",
       "      <td>WHITE HANGING HEART T-LIGHT HOLDER</td>\n",
       "      <td>6</td>\n",
       "      <td>2010-12-01 08:26:00</td>\n",
       "      <td>2.55</td>\n",
       "      <td>17850.0</td>\n",
       "      <td>United Kingdom</td>\n",
       "    </tr>\n",
       "    <tr>\n",
       "      <th>1</th>\n",
       "      <td>536365</td>\n",
       "      <td>71053</td>\n",
       "      <td>WHITE METAL LANTERN</td>\n",
       "      <td>6</td>\n",
       "      <td>2010-12-01 08:26:00</td>\n",
       "      <td>3.39</td>\n",
       "      <td>17850.0</td>\n",
       "      <td>United Kingdom</td>\n",
       "    </tr>\n",
       "    <tr>\n",
       "      <th>2</th>\n",
       "      <td>536365</td>\n",
       "      <td>84406B</td>\n",
       "      <td>CREAM CUPID HEARTS COAT HANGER</td>\n",
       "      <td>8</td>\n",
       "      <td>2010-12-01 08:26:00</td>\n",
       "      <td>2.75</td>\n",
       "      <td>17850.0</td>\n",
       "      <td>United Kingdom</td>\n",
       "    </tr>\n",
       "    <tr>\n",
       "      <th>3</th>\n",
       "      <td>536365</td>\n",
       "      <td>84029G</td>\n",
       "      <td>KNITTED UNION FLAG HOT WATER BOTTLE</td>\n",
       "      <td>6</td>\n",
       "      <td>2010-12-01 08:26:00</td>\n",
       "      <td>3.39</td>\n",
       "      <td>17850.0</td>\n",
       "      <td>United Kingdom</td>\n",
       "    </tr>\n",
       "    <tr>\n",
       "      <th>4</th>\n",
       "      <td>536365</td>\n",
       "      <td>84029E</td>\n",
       "      <td>RED WOOLLY HOTTIE WHITE HEART.</td>\n",
       "      <td>6</td>\n",
       "      <td>2010-12-01 08:26:00</td>\n",
       "      <td>3.39</td>\n",
       "      <td>17850.0</td>\n",
       "      <td>United Kingdom</td>\n",
       "    </tr>\n",
       "  </tbody>\n",
       "</table>\n",
       "</div>"
      ],
      "text/plain": [
       "  Invoice StockCode                          Description  Quantity  \\\n",
       "0  536365    85123A   WHITE HANGING HEART T-LIGHT HOLDER         6   \n",
       "1  536365     71053                  WHITE METAL LANTERN         6   \n",
       "2  536365    84406B       CREAM CUPID HEARTS COAT HANGER         8   \n",
       "3  536365    84029G  KNITTED UNION FLAG HOT WATER BOTTLE         6   \n",
       "4  536365    84029E       RED WOOLLY HOTTIE WHITE HEART.         6   \n",
       "\n",
       "          InvoiceDate  Price  Customer ID         Country  \n",
       "0 2010-12-01 08:26:00   2.55      17850.0  United Kingdom  \n",
       "1 2010-12-01 08:26:00   3.39      17850.0  United Kingdom  \n",
       "2 2010-12-01 08:26:00   2.75      17850.0  United Kingdom  \n",
       "3 2010-12-01 08:26:00   3.39      17850.0  United Kingdom  \n",
       "4 2010-12-01 08:26:00   3.39      17850.0  United Kingdom  "
      ]
     },
     "execution_count": 10,
     "metadata": {},
     "output_type": "execute_result"
    }
   ],
   "source": [
    "# First rows from the sheet 'Year 2010-2011'\n",
    "df2_raw.head()"
   ]
  },
  {
   "cell_type": "markdown",
   "id": "c6267d8a",
   "metadata": {},
   "source": [
    "We remove the overlap in the dataset and create a new dataframe named **df**."
   ]
  },
  {
   "cell_type": "code",
   "execution_count": 11,
   "id": "c25fac65",
   "metadata": {},
   "outputs": [],
   "source": [
    "# Remove overlapped records, create df \n",
    "df = pd.concat([df1_raw[df1_raw[\"InvoiceDate\"] < df2_raw_start_date], df2_raw])"
   ]
  },
  {
   "cell_type": "code",
   "execution_count": 12,
   "id": "f8ef1d86",
   "metadata": {},
   "outputs": [
    {
     "data": {
      "text/plain": [
       "(1044848, 8)"
      ]
     },
     "execution_count": 12,
     "metadata": {},
     "output_type": "execute_result"
    }
   ],
   "source": [
    "df.shape"
   ]
  },
  {
   "cell_type": "code",
   "execution_count": 13,
   "id": "908423e7",
   "metadata": {},
   "outputs": [
    {
     "name": "stdout",
     "output_type": "stream",
     "text": [
      "Number of duplicate rows: 11812\n"
     ]
    }
   ],
   "source": [
    " print(\"Number of duplicate rows:\", df.sort_values(by = \"InvoiceDate\").duplicated().sum())"
   ]
  },
  {
   "cell_type": "code",
   "execution_count": 14,
   "id": "306e9bea",
   "metadata": {},
   "outputs": [
    {
     "data": {
      "text/html": [
       "<div>\n",
       "<style scoped>\n",
       "    .dataframe tbody tr th:only-of-type {\n",
       "        vertical-align: middle;\n",
       "    }\n",
       "\n",
       "    .dataframe tbody tr th {\n",
       "        vertical-align: top;\n",
       "    }\n",
       "\n",
       "    .dataframe thead th {\n",
       "        text-align: right;\n",
       "    }\n",
       "</style>\n",
       "<table border=\"1\" class=\"dataframe\">\n",
       "  <thead>\n",
       "    <tr style=\"text-align: right;\">\n",
       "      <th></th>\n",
       "      <th>Invoice</th>\n",
       "      <th>StockCode</th>\n",
       "      <th>Description</th>\n",
       "      <th>Quantity</th>\n",
       "      <th>InvoiceDate</th>\n",
       "      <th>Price</th>\n",
       "      <th>Customer ID</th>\n",
       "      <th>Country</th>\n",
       "    </tr>\n",
       "  </thead>\n",
       "  <tbody>\n",
       "    <tr>\n",
       "      <th>379</th>\n",
       "      <td>489517</td>\n",
       "      <td>21491</td>\n",
       "      <td>SET OF THREE VINTAGE GIFT WRAPS</td>\n",
       "      <td>1</td>\n",
       "      <td>2009-12-01 11:34:00</td>\n",
       "      <td>1.95</td>\n",
       "      <td>16329.0</td>\n",
       "      <td>United Kingdom</td>\n",
       "    </tr>\n",
       "    <tr>\n",
       "      <th>391</th>\n",
       "      <td>489517</td>\n",
       "      <td>21491</td>\n",
       "      <td>SET OF THREE VINTAGE GIFT WRAPS</td>\n",
       "      <td>1</td>\n",
       "      <td>2009-12-01 11:34:00</td>\n",
       "      <td>1.95</td>\n",
       "      <td>16329.0</td>\n",
       "      <td>United Kingdom</td>\n",
       "    </tr>\n",
       "    <tr>\n",
       "      <th>365</th>\n",
       "      <td>489517</td>\n",
       "      <td>21821</td>\n",
       "      <td>GLITTER STAR GARLAND WITH BELLS</td>\n",
       "      <td>1</td>\n",
       "      <td>2009-12-01 11:34:00</td>\n",
       "      <td>3.75</td>\n",
       "      <td>16329.0</td>\n",
       "      <td>United Kingdom</td>\n",
       "    </tr>\n",
       "    <tr>\n",
       "      <th>386</th>\n",
       "      <td>489517</td>\n",
       "      <td>21821</td>\n",
       "      <td>GLITTER STAR GARLAND WITH BELLS</td>\n",
       "      <td>1</td>\n",
       "      <td>2009-12-01 11:34:00</td>\n",
       "      <td>3.75</td>\n",
       "      <td>16329.0</td>\n",
       "      <td>United Kingdom</td>\n",
       "    </tr>\n",
       "    <tr>\n",
       "      <th>363</th>\n",
       "      <td>489517</td>\n",
       "      <td>21912</td>\n",
       "      <td>VINTAGE SNAKES &amp; LADDERS</td>\n",
       "      <td>1</td>\n",
       "      <td>2009-12-01 11:34:00</td>\n",
       "      <td>3.75</td>\n",
       "      <td>16329.0</td>\n",
       "      <td>United Kingdom</td>\n",
       "    </tr>\n",
       "    <tr>\n",
       "      <th>...</th>\n",
       "      <td>...</td>\n",
       "      <td>...</td>\n",
       "      <td>...</td>\n",
       "      <td>...</td>\n",
       "      <td>...</td>\n",
       "      <td>...</td>\n",
       "      <td>...</td>\n",
       "      <td>...</td>\n",
       "    </tr>\n",
       "    <tr>\n",
       "      <th>541655</th>\n",
       "      <td>581538</td>\n",
       "      <td>23275</td>\n",
       "      <td>SET OF 3 HANGING OWLS OLLIE BEAK</td>\n",
       "      <td>1</td>\n",
       "      <td>2011-12-09 11:34:00</td>\n",
       "      <td>1.25</td>\n",
       "      <td>14446.0</td>\n",
       "      <td>United Kingdom</td>\n",
       "    </tr>\n",
       "    <tr>\n",
       "      <th>541656</th>\n",
       "      <td>581538</td>\n",
       "      <td>23318</td>\n",
       "      <td>BOX OF 6 MINI VINTAGE CRACKERS</td>\n",
       "      <td>1</td>\n",
       "      <td>2011-12-09 11:34:00</td>\n",
       "      <td>2.49</td>\n",
       "      <td>14446.0</td>\n",
       "      <td>United Kingdom</td>\n",
       "    </tr>\n",
       "    <tr>\n",
       "      <th>541689</th>\n",
       "      <td>581538</td>\n",
       "      <td>23318</td>\n",
       "      <td>BOX OF 6 MINI VINTAGE CRACKERS</td>\n",
       "      <td>1</td>\n",
       "      <td>2011-12-09 11:34:00</td>\n",
       "      <td>2.49</td>\n",
       "      <td>14446.0</td>\n",
       "      <td>United Kingdom</td>\n",
       "    </tr>\n",
       "    <tr>\n",
       "      <th>541666</th>\n",
       "      <td>581538</td>\n",
       "      <td>23343</td>\n",
       "      <td>JUMBO BAG VINTAGE CHRISTMAS</td>\n",
       "      <td>1</td>\n",
       "      <td>2011-12-09 11:34:00</td>\n",
       "      <td>2.08</td>\n",
       "      <td>14446.0</td>\n",
       "      <td>United Kingdom</td>\n",
       "    </tr>\n",
       "    <tr>\n",
       "      <th>541701</th>\n",
       "      <td>581538</td>\n",
       "      <td>23343</td>\n",
       "      <td>JUMBO BAG VINTAGE CHRISTMAS</td>\n",
       "      <td>1</td>\n",
       "      <td>2011-12-09 11:34:00</td>\n",
       "      <td>2.08</td>\n",
       "      <td>14446.0</td>\n",
       "      <td>United Kingdom</td>\n",
       "    </tr>\n",
       "  </tbody>\n",
       "</table>\n",
       "<p>22813 rows × 8 columns</p>\n",
       "</div>"
      ],
      "text/plain": [
       "       Invoice StockCode                       Description  Quantity  \\\n",
       "379     489517     21491   SET OF THREE VINTAGE GIFT WRAPS         1   \n",
       "391     489517     21491   SET OF THREE VINTAGE GIFT WRAPS         1   \n",
       "365     489517     21821  GLITTER STAR GARLAND WITH BELLS          1   \n",
       "386     489517     21821  GLITTER STAR GARLAND WITH BELLS          1   \n",
       "363     489517     21912          VINTAGE SNAKES & LADDERS         1   \n",
       "...        ...       ...                               ...       ...   \n",
       "541655  581538     23275  SET OF 3 HANGING OWLS OLLIE BEAK         1   \n",
       "541656  581538     23318    BOX OF 6 MINI VINTAGE CRACKERS         1   \n",
       "541689  581538     23318    BOX OF 6 MINI VINTAGE CRACKERS         1   \n",
       "541666  581538     23343      JUMBO BAG VINTAGE CHRISTMAS          1   \n",
       "541701  581538     23343      JUMBO BAG VINTAGE CHRISTMAS          1   \n",
       "\n",
       "               InvoiceDate  Price  Customer ID         Country  \n",
       "379    2009-12-01 11:34:00   1.95      16329.0  United Kingdom  \n",
       "391    2009-12-01 11:34:00   1.95      16329.0  United Kingdom  \n",
       "365    2009-12-01 11:34:00   3.75      16329.0  United Kingdom  \n",
       "386    2009-12-01 11:34:00   3.75      16329.0  United Kingdom  \n",
       "363    2009-12-01 11:34:00   3.75      16329.0  United Kingdom  \n",
       "...                    ...    ...          ...             ...  \n",
       "541655 2011-12-09 11:34:00   1.25      14446.0  United Kingdom  \n",
       "541656 2011-12-09 11:34:00   2.49      14446.0  United Kingdom  \n",
       "541689 2011-12-09 11:34:00   2.49      14446.0  United Kingdom  \n",
       "541666 2011-12-09 11:34:00   2.08      14446.0  United Kingdom  \n",
       "541701 2011-12-09 11:34:00   2.08      14446.0  United Kingdom  \n",
       "\n",
       "[22813 rows x 8 columns]"
      ]
     },
     "execution_count": 14,
     "metadata": {},
     "output_type": "execute_result"
    }
   ],
   "source": [
    "duplicated = df[df.duplicated(keep = False)].sort_values(by = [\"InvoiceDate\", \"Invoice\", \"StockCode\"])\n",
    "duplicated"
   ]
  },
  {
   "cell_type": "code",
   "execution_count": 15,
   "id": "cd303795",
   "metadata": {},
   "outputs": [],
   "source": [
    "# Export df to excel in order to load in PowerBI\n",
    "# df.to_excel(r'C:\\Users\\argyr\\OneDrive\\Υπολογιστής\\Diplvm\\Giftware dataset\\online_retail_II_removed duplicates.xlsx', index=False)"
   ]
  },
  {
   "cell_type": "code",
   "execution_count": 16,
   "id": "17083f11",
   "metadata": {},
   "outputs": [
    {
     "name": "stdout",
     "output_type": "stream",
     "text": [
      "<class 'pandas.core.frame.DataFrame'>\n",
      "Int64Index: 1044848 entries, 0 to 541909\n",
      "Data columns (total 8 columns):\n",
      " #   Column       Non-Null Count    Dtype         \n",
      "---  ------       --------------    -----         \n",
      " 0   Invoice      1044848 non-null  object        \n",
      " 1   StockCode    1044848 non-null  object        \n",
      " 2   Description  1040573 non-null  object        \n",
      " 3   Quantity     1044848 non-null  int64         \n",
      " 4   InvoiceDate  1044848 non-null  datetime64[ns]\n",
      " 5   Price        1044848 non-null  float64       \n",
      " 6   Customer ID  809561 non-null   float64       \n",
      " 7   Country      1044848 non-null  object        \n",
      "dtypes: datetime64[ns](1), float64(2), int64(1), object(4)\n",
      "memory usage: 71.7+ MB\n"
     ]
    }
   ],
   "source": [
    "# List columns and see data types\n",
    "df.info()"
   ]
  },
  {
   "cell_type": "code",
   "execution_count": 17,
   "id": "0eb5c973",
   "metadata": {},
   "outputs": [
    {
     "data": {
      "text/html": [
       "<div>\n",
       "<style scoped>\n",
       "    .dataframe tbody tr th:only-of-type {\n",
       "        vertical-align: middle;\n",
       "    }\n",
       "\n",
       "    .dataframe tbody tr th {\n",
       "        vertical-align: top;\n",
       "    }\n",
       "\n",
       "    .dataframe thead th {\n",
       "        text-align: right;\n",
       "    }\n",
       "</style>\n",
       "<table border=\"1\" class=\"dataframe\">\n",
       "  <thead>\n",
       "    <tr style=\"text-align: right;\">\n",
       "      <th></th>\n",
       "      <th>Quantity</th>\n",
       "      <th>Price</th>\n",
       "      <th>Customer ID</th>\n",
       "    </tr>\n",
       "  </thead>\n",
       "  <tbody>\n",
       "    <tr>\n",
       "      <th>count</th>\n",
       "      <td>1.044848e+06</td>\n",
       "      <td>1.044848e+06</td>\n",
       "      <td>809561.000000</td>\n",
       "    </tr>\n",
       "    <tr>\n",
       "      <th>mean</th>\n",
       "      <td>9.993649e+00</td>\n",
       "      <td>4.590546e+00</td>\n",
       "      <td>15319.760422</td>\n",
       "    </tr>\n",
       "    <tr>\n",
       "      <th>std</th>\n",
       "      <td>1.742185e+02</td>\n",
       "      <td>1.217042e+02</td>\n",
       "      <td>1695.812057</td>\n",
       "    </tr>\n",
       "    <tr>\n",
       "      <th>min</th>\n",
       "      <td>-8.099500e+04</td>\n",
       "      <td>-5.359436e+04</td>\n",
       "      <td>12346.000000</td>\n",
       "    </tr>\n",
       "    <tr>\n",
       "      <th>25%</th>\n",
       "      <td>1.000000e+00</td>\n",
       "      <td>1.250000e+00</td>\n",
       "      <td>13969.000000</td>\n",
       "    </tr>\n",
       "    <tr>\n",
       "      <th>50%</th>\n",
       "      <td>3.000000e+00</td>\n",
       "      <td>2.100000e+00</td>\n",
       "      <td>15248.000000</td>\n",
       "    </tr>\n",
       "    <tr>\n",
       "      <th>75%</th>\n",
       "      <td>1.000000e+01</td>\n",
       "      <td>4.130000e+00</td>\n",
       "      <td>16792.000000</td>\n",
       "    </tr>\n",
       "    <tr>\n",
       "      <th>max</th>\n",
       "      <td>8.099500e+04</td>\n",
       "      <td>3.897000e+04</td>\n",
       "      <td>18287.000000</td>\n",
       "    </tr>\n",
       "  </tbody>\n",
       "</table>\n",
       "</div>"
      ],
      "text/plain": [
       "           Quantity         Price    Customer ID\n",
       "count  1.044848e+06  1.044848e+06  809561.000000\n",
       "mean   9.993649e+00  4.590546e+00   15319.760422\n",
       "std    1.742185e+02  1.217042e+02    1695.812057\n",
       "min   -8.099500e+04 -5.359436e+04   12346.000000\n",
       "25%    1.000000e+00  1.250000e+00   13969.000000\n",
       "50%    3.000000e+00  2.100000e+00   15248.000000\n",
       "75%    1.000000e+01  4.130000e+00   16792.000000\n",
       "max    8.099500e+04  3.897000e+04   18287.000000"
      ]
     },
     "execution_count": 17,
     "metadata": {},
     "output_type": "execute_result"
    }
   ],
   "source": [
    "# Take a closer look at column distributions\n",
    "df.describe()"
   ]
  },
  {
   "cell_type": "markdown",
   "id": "2e64d7bc",
   "metadata": {},
   "source": [
    "### **1.2 Identify Missing Values**\n"
   ]
  },
  {
   "cell_type": "code",
   "execution_count": 18,
   "id": "412fdafd",
   "metadata": {},
   "outputs": [
    {
     "name": "stdout",
     "output_type": "stream",
     "text": [
      "Invoice             0\n",
      "StockCode           0\n",
      "Description      4275\n",
      "Quantity            0\n",
      "InvoiceDate         0\n",
      "Price               0\n",
      "Customer ID    235287\n",
      "Country             0\n",
      "dtype: int64\n"
     ]
    }
   ],
   "source": [
    "# Identify missing values\n",
    "missing = df.isnull().sum()\n",
    "print(missing)"
   ]
  },
  {
   "cell_type": "code",
   "execution_count": 19,
   "id": "0e74fce3",
   "metadata": {},
   "outputs": [
    {
     "data": {
      "text/plain": [
       "Invoice         0.000000\n",
       "StockCode       0.000000\n",
       "Description     0.409150\n",
       "Quantity        0.000000\n",
       "InvoiceDate     0.000000\n",
       "Price           0.000000\n",
       "Customer ID    22.518778\n",
       "Country         0.000000\n",
       "dtype: float64"
      ]
     },
     "execution_count": 19,
     "metadata": {},
     "output_type": "execute_result"
    }
   ],
   "source": [
    "# Percentage of missing values in each column\n",
    "missing/len(df) * 100"
   ]
  },
  {
   "cell_type": "markdown",
   "id": "ec341f3d",
   "metadata": {},
   "source": [
    "---\n",
    "# 2. Exploratory Data Analysis"
   ]
  },
  {
   "cell_type": "markdown",
   "id": "6bd24310",
   "metadata": {},
   "source": [
    "### 2.1 Invoice Column"
   ]
  },
  {
   "cell_type": "code",
   "execution_count": 20,
   "id": "7cc779f3",
   "metadata": {},
   "outputs": [],
   "source": [
    "# Convert column Invoice's data type to string\n",
    "df[\"Invoice\"] = df[\"Invoice\"].astype(str)"
   ]
  },
  {
   "cell_type": "code",
   "execution_count": 21,
   "id": "3692c6e8",
   "metadata": {},
   "outputs": [
    {
     "data": {
      "text/plain": [
       "53628"
      ]
     },
     "execution_count": 21,
     "metadata": {},
     "output_type": "execute_result"
    }
   ],
   "source": [
    "# Unique number of invoices\n",
    "len(df[\"Invoice\"].unique())"
   ]
  },
  {
   "cell_type": "code",
   "execution_count": 22,
   "id": "ecae9e47",
   "metadata": {
    "scrolled": true
   },
   "outputs": [
    {
     "data": {
      "text/html": [
       "<div>\n",
       "<style scoped>\n",
       "    .dataframe tbody tr th:only-of-type {\n",
       "        vertical-align: middle;\n",
       "    }\n",
       "\n",
       "    .dataframe tbody tr th {\n",
       "        vertical-align: top;\n",
       "    }\n",
       "\n",
       "    .dataframe thead th {\n",
       "        text-align: right;\n",
       "    }\n",
       "</style>\n",
       "<table border=\"1\" class=\"dataframe\">\n",
       "  <thead>\n",
       "    <tr style=\"text-align: right;\">\n",
       "      <th></th>\n",
       "      <th>Invoice</th>\n",
       "      <th>StockCode</th>\n",
       "      <th>Description</th>\n",
       "      <th>Quantity</th>\n",
       "      <th>InvoiceDate</th>\n",
       "      <th>Price</th>\n",
       "      <th>Customer ID</th>\n",
       "      <th>Country</th>\n",
       "    </tr>\n",
       "  </thead>\n",
       "  <tbody>\n",
       "    <tr>\n",
       "      <th>178</th>\n",
       "      <td>C489449</td>\n",
       "      <td>22087</td>\n",
       "      <td>PAPER BUNTING WHITE LACE</td>\n",
       "      <td>-12</td>\n",
       "      <td>2009-12-01 10:33:00</td>\n",
       "      <td>2.95</td>\n",
       "      <td>16321.0</td>\n",
       "      <td>Australia</td>\n",
       "    </tr>\n",
       "    <tr>\n",
       "      <th>179</th>\n",
       "      <td>C489449</td>\n",
       "      <td>85206A</td>\n",
       "      <td>CREAM FELT EASTER EGG BASKET</td>\n",
       "      <td>-6</td>\n",
       "      <td>2009-12-01 10:33:00</td>\n",
       "      <td>1.65</td>\n",
       "      <td>16321.0</td>\n",
       "      <td>Australia</td>\n",
       "    </tr>\n",
       "    <tr>\n",
       "      <th>180</th>\n",
       "      <td>C489449</td>\n",
       "      <td>21895</td>\n",
       "      <td>POTTING SHED SOW 'N' GROW SET</td>\n",
       "      <td>-4</td>\n",
       "      <td>2009-12-01 10:33:00</td>\n",
       "      <td>4.25</td>\n",
       "      <td>16321.0</td>\n",
       "      <td>Australia</td>\n",
       "    </tr>\n",
       "    <tr>\n",
       "      <th>181</th>\n",
       "      <td>C489449</td>\n",
       "      <td>21896</td>\n",
       "      <td>POTTING SHED TWINE</td>\n",
       "      <td>-6</td>\n",
       "      <td>2009-12-01 10:33:00</td>\n",
       "      <td>2.10</td>\n",
       "      <td>16321.0</td>\n",
       "      <td>Australia</td>\n",
       "    </tr>\n",
       "    <tr>\n",
       "      <th>182</th>\n",
       "      <td>C489449</td>\n",
       "      <td>22083</td>\n",
       "      <td>PAPER CHAIN KIT RETRO SPOT</td>\n",
       "      <td>-12</td>\n",
       "      <td>2009-12-01 10:33:00</td>\n",
       "      <td>2.95</td>\n",
       "      <td>16321.0</td>\n",
       "      <td>Australia</td>\n",
       "    </tr>\n",
       "  </tbody>\n",
       "</table>\n",
       "</div>"
      ],
      "text/plain": [
       "     Invoice StockCode                    Description  Quantity  \\\n",
       "178  C489449     22087       PAPER BUNTING WHITE LACE       -12   \n",
       "179  C489449    85206A   CREAM FELT EASTER EGG BASKET        -6   \n",
       "180  C489449     21895  POTTING SHED SOW 'N' GROW SET        -4   \n",
       "181  C489449     21896             POTTING SHED TWINE        -6   \n",
       "182  C489449     22083     PAPER CHAIN KIT RETRO SPOT       -12   \n",
       "\n",
       "            InvoiceDate  Price  Customer ID    Country  \n",
       "178 2009-12-01 10:33:00   2.95      16321.0  Australia  \n",
       "179 2009-12-01 10:33:00   1.65      16321.0  Australia  \n",
       "180 2009-12-01 10:33:00   4.25      16321.0  Australia  \n",
       "181 2009-12-01 10:33:00   2.10      16321.0  Australia  \n",
       "182 2009-12-01 10:33:00   2.95      16321.0  Australia  "
      ]
     },
     "execution_count": 22,
     "metadata": {},
     "output_type": "execute_result"
    }
   ],
   "source": [
    "# Create a DataFrame with the records of cancelled invoices\n",
    "df_cancelled_inv = df[df[\"Invoice\"].str.contains(\"C\")]\n",
    "df_cancelled_inv.head()"
   ]
  },
  {
   "cell_type": "code",
   "execution_count": 23,
   "id": "3884833f",
   "metadata": {},
   "outputs": [
    {
     "data": {
      "text/plain": [
       "(19165, 8)"
      ]
     },
     "execution_count": 23,
     "metadata": {},
     "output_type": "execute_result"
    }
   ],
   "source": [
    "# Review dimensions of cancelled invoices DataFrame\n",
    "df_cancelled_inv.shape"
   ]
  },
  {
   "cell_type": "markdown",
   "id": "4f42458a",
   "metadata": {},
   "source": [
    "The transactions that contain cancelled invoices (Invoice starts with \"C\") are **19165**. Out of these 19165 transactions, only 1 has positive value on Quantity column, while the other 19164 Invoices that start with \"C\" also have negative values on Quantity column."
   ]
  },
  {
   "cell_type": "code",
   "execution_count": 24,
   "id": "cde2e8e6",
   "metadata": {},
   "outputs": [
    {
     "data": {
      "text/html": [
       "<div>\n",
       "<style scoped>\n",
       "    .dataframe tbody tr th:only-of-type {\n",
       "        vertical-align: middle;\n",
       "    }\n",
       "\n",
       "    .dataframe tbody tr th {\n",
       "        vertical-align: top;\n",
       "    }\n",
       "\n",
       "    .dataframe thead th {\n",
       "        text-align: right;\n",
       "    }\n",
       "</style>\n",
       "<table border=\"1\" class=\"dataframe\">\n",
       "  <thead>\n",
       "    <tr style=\"text-align: right;\">\n",
       "      <th></th>\n",
       "      <th>Invoice</th>\n",
       "      <th>StockCode</th>\n",
       "      <th>Description</th>\n",
       "      <th>Quantity</th>\n",
       "      <th>InvoiceDate</th>\n",
       "      <th>Price</th>\n",
       "      <th>Customer ID</th>\n",
       "      <th>Country</th>\n",
       "    </tr>\n",
       "  </thead>\n",
       "  <tbody>\n",
       "    <tr>\n",
       "      <th>178</th>\n",
       "      <td>C489449</td>\n",
       "      <td>22087</td>\n",
       "      <td>PAPER BUNTING WHITE LACE</td>\n",
       "      <td>-12</td>\n",
       "      <td>2009-12-01 10:33:00</td>\n",
       "      <td>2.95</td>\n",
       "      <td>16321.0</td>\n",
       "      <td>Australia</td>\n",
       "    </tr>\n",
       "    <tr>\n",
       "      <th>179</th>\n",
       "      <td>C489449</td>\n",
       "      <td>85206A</td>\n",
       "      <td>CREAM FELT EASTER EGG BASKET</td>\n",
       "      <td>-6</td>\n",
       "      <td>2009-12-01 10:33:00</td>\n",
       "      <td>1.65</td>\n",
       "      <td>16321.0</td>\n",
       "      <td>Australia</td>\n",
       "    </tr>\n",
       "    <tr>\n",
       "      <th>180</th>\n",
       "      <td>C489449</td>\n",
       "      <td>21895</td>\n",
       "      <td>POTTING SHED SOW 'N' GROW SET</td>\n",
       "      <td>-4</td>\n",
       "      <td>2009-12-01 10:33:00</td>\n",
       "      <td>4.25</td>\n",
       "      <td>16321.0</td>\n",
       "      <td>Australia</td>\n",
       "    </tr>\n",
       "    <tr>\n",
       "      <th>181</th>\n",
       "      <td>C489449</td>\n",
       "      <td>21896</td>\n",
       "      <td>POTTING SHED TWINE</td>\n",
       "      <td>-6</td>\n",
       "      <td>2009-12-01 10:33:00</td>\n",
       "      <td>2.10</td>\n",
       "      <td>16321.0</td>\n",
       "      <td>Australia</td>\n",
       "    </tr>\n",
       "    <tr>\n",
       "      <th>182</th>\n",
       "      <td>C489449</td>\n",
       "      <td>22083</td>\n",
       "      <td>PAPER CHAIN KIT RETRO SPOT</td>\n",
       "      <td>-12</td>\n",
       "      <td>2009-12-01 10:33:00</td>\n",
       "      <td>2.95</td>\n",
       "      <td>16321.0</td>\n",
       "      <td>Australia</td>\n",
       "    </tr>\n",
       "    <tr>\n",
       "      <th>...</th>\n",
       "      <td>...</td>\n",
       "      <td>...</td>\n",
       "      <td>...</td>\n",
       "      <td>...</td>\n",
       "      <td>...</td>\n",
       "      <td>...</td>\n",
       "      <td>...</td>\n",
       "      <td>...</td>\n",
       "    </tr>\n",
       "    <tr>\n",
       "      <th>540449</th>\n",
       "      <td>C581490</td>\n",
       "      <td>23144</td>\n",
       "      <td>ZINC T-LIGHT HOLDER STARS SMALL</td>\n",
       "      <td>-11</td>\n",
       "      <td>2011-12-09 09:57:00</td>\n",
       "      <td>0.83</td>\n",
       "      <td>14397.0</td>\n",
       "      <td>United Kingdom</td>\n",
       "    </tr>\n",
       "    <tr>\n",
       "      <th>541541</th>\n",
       "      <td>C581499</td>\n",
       "      <td>M</td>\n",
       "      <td>Manual</td>\n",
       "      <td>-1</td>\n",
       "      <td>2011-12-09 10:28:00</td>\n",
       "      <td>224.69</td>\n",
       "      <td>15498.0</td>\n",
       "      <td>United Kingdom</td>\n",
       "    </tr>\n",
       "    <tr>\n",
       "      <th>541715</th>\n",
       "      <td>C581568</td>\n",
       "      <td>21258</td>\n",
       "      <td>VICTORIAN SEWING BOX LARGE</td>\n",
       "      <td>-5</td>\n",
       "      <td>2011-12-09 11:57:00</td>\n",
       "      <td>10.95</td>\n",
       "      <td>15311.0</td>\n",
       "      <td>United Kingdom</td>\n",
       "    </tr>\n",
       "    <tr>\n",
       "      <th>541716</th>\n",
       "      <td>C581569</td>\n",
       "      <td>84978</td>\n",
       "      <td>HANGING HEART JAR T-LIGHT HOLDER</td>\n",
       "      <td>-1</td>\n",
       "      <td>2011-12-09 11:58:00</td>\n",
       "      <td>1.25</td>\n",
       "      <td>17315.0</td>\n",
       "      <td>United Kingdom</td>\n",
       "    </tr>\n",
       "    <tr>\n",
       "      <th>541717</th>\n",
       "      <td>C581569</td>\n",
       "      <td>20979</td>\n",
       "      <td>36 PENCILS TUBE RED RETROSPOT</td>\n",
       "      <td>-5</td>\n",
       "      <td>2011-12-09 11:58:00</td>\n",
       "      <td>1.25</td>\n",
       "      <td>17315.0</td>\n",
       "      <td>United Kingdom</td>\n",
       "    </tr>\n",
       "  </tbody>\n",
       "</table>\n",
       "<p>19164 rows × 8 columns</p>\n",
       "</div>"
      ],
      "text/plain": [
       "        Invoice StockCode                       Description  Quantity  \\\n",
       "178     C489449     22087          PAPER BUNTING WHITE LACE       -12   \n",
       "179     C489449    85206A      CREAM FELT EASTER EGG BASKET        -6   \n",
       "180     C489449     21895     POTTING SHED SOW 'N' GROW SET        -4   \n",
       "181     C489449     21896                POTTING SHED TWINE        -6   \n",
       "182     C489449     22083        PAPER CHAIN KIT RETRO SPOT       -12   \n",
       "...         ...       ...                               ...       ...   \n",
       "540449  C581490     23144   ZINC T-LIGHT HOLDER STARS SMALL       -11   \n",
       "541541  C581499         M                            Manual        -1   \n",
       "541715  C581568     21258        VICTORIAN SEWING BOX LARGE        -5   \n",
       "541716  C581569     84978  HANGING HEART JAR T-LIGHT HOLDER        -1   \n",
       "541717  C581569     20979     36 PENCILS TUBE RED RETROSPOT        -5   \n",
       "\n",
       "               InvoiceDate   Price  Customer ID         Country  \n",
       "178    2009-12-01 10:33:00    2.95      16321.0       Australia  \n",
       "179    2009-12-01 10:33:00    1.65      16321.0       Australia  \n",
       "180    2009-12-01 10:33:00    4.25      16321.0       Australia  \n",
       "181    2009-12-01 10:33:00    2.10      16321.0       Australia  \n",
       "182    2009-12-01 10:33:00    2.95      16321.0       Australia  \n",
       "...                    ...     ...          ...             ...  \n",
       "540449 2011-12-09 09:57:00    0.83      14397.0  United Kingdom  \n",
       "541541 2011-12-09 10:28:00  224.69      15498.0  United Kingdom  \n",
       "541715 2011-12-09 11:57:00   10.95      15311.0  United Kingdom  \n",
       "541716 2011-12-09 11:58:00    1.25      17315.0  United Kingdom  \n",
       "541717 2011-12-09 11:58:00    1.25      17315.0  United Kingdom  \n",
       "\n",
       "[19164 rows x 8 columns]"
      ]
     },
     "execution_count": 24,
     "metadata": {},
     "output_type": "execute_result"
    }
   ],
   "source": [
    "# Invoices that start with \"C\" and Quantity < 0\n",
    "df_cancelled_inv[df_cancelled_inv[\"Quantity\"] < 0]"
   ]
  },
  {
   "cell_type": "code",
   "execution_count": 25,
   "id": "16b253ab",
   "metadata": {},
   "outputs": [
    {
     "data": {
      "text/html": [
       "<div>\n",
       "<style scoped>\n",
       "    .dataframe tbody tr th:only-of-type {\n",
       "        vertical-align: middle;\n",
       "    }\n",
       "\n",
       "    .dataframe tbody tr th {\n",
       "        vertical-align: top;\n",
       "    }\n",
       "\n",
       "    .dataframe thead th {\n",
       "        text-align: right;\n",
       "    }\n",
       "</style>\n",
       "<table border=\"1\" class=\"dataframe\">\n",
       "  <thead>\n",
       "    <tr style=\"text-align: right;\">\n",
       "      <th></th>\n",
       "      <th>Invoice</th>\n",
       "      <th>StockCode</th>\n",
       "      <th>Description</th>\n",
       "      <th>Quantity</th>\n",
       "      <th>InvoiceDate</th>\n",
       "      <th>Price</th>\n",
       "      <th>Customer ID</th>\n",
       "      <th>Country</th>\n",
       "    </tr>\n",
       "  </thead>\n",
       "  <tbody>\n",
       "    <tr>\n",
       "      <th>76799</th>\n",
       "      <td>C496350</td>\n",
       "      <td>M</td>\n",
       "      <td>Manual</td>\n",
       "      <td>1</td>\n",
       "      <td>2010-02-01 08:24:00</td>\n",
       "      <td>373.57</td>\n",
       "      <td>NaN</td>\n",
       "      <td>United Kingdom</td>\n",
       "    </tr>\n",
       "  </tbody>\n",
       "</table>\n",
       "</div>"
      ],
      "text/plain": [
       "       Invoice StockCode Description  Quantity         InvoiceDate   Price  \\\n",
       "76799  C496350         M      Manual         1 2010-02-01 08:24:00  373.57   \n",
       "\n",
       "       Customer ID         Country  \n",
       "76799          NaN  United Kingdom  "
      ]
     },
     "execution_count": 25,
     "metadata": {},
     "output_type": "execute_result"
    }
   ],
   "source": [
    "# Invoices that start with \"C\" and Quantity > 0\n",
    "df_cancelled_inv[df_cancelled_inv[\"Quantity\"] > 0]"
   ]
  },
  {
   "cell_type": "markdown",
   "id": "d6090685",
   "metadata": {},
   "source": [
    "Moreover, there are some records where Invoice starts with \"**A**\". Let's try to figure out the meaning of these records."
   ]
  },
  {
   "cell_type": "code",
   "execution_count": 26,
   "id": "6088ad7d",
   "metadata": {},
   "outputs": [
    {
     "data": {
      "text/html": [
       "<div>\n",
       "<style scoped>\n",
       "    .dataframe tbody tr th:only-of-type {\n",
       "        vertical-align: middle;\n",
       "    }\n",
       "\n",
       "    .dataframe tbody tr th {\n",
       "        vertical-align: top;\n",
       "    }\n",
       "\n",
       "    .dataframe thead th {\n",
       "        text-align: right;\n",
       "    }\n",
       "</style>\n",
       "<table border=\"1\" class=\"dataframe\">\n",
       "  <thead>\n",
       "    <tr style=\"text-align: right;\">\n",
       "      <th></th>\n",
       "      <th>Invoice</th>\n",
       "      <th>StockCode</th>\n",
       "      <th>Description</th>\n",
       "      <th>Quantity</th>\n",
       "      <th>InvoiceDate</th>\n",
       "      <th>Price</th>\n",
       "      <th>Customer ID</th>\n",
       "      <th>Country</th>\n",
       "    </tr>\n",
       "  </thead>\n",
       "  <tbody>\n",
       "    <tr>\n",
       "      <th>179403</th>\n",
       "      <td>A506401</td>\n",
       "      <td>B</td>\n",
       "      <td>Adjust bad debt</td>\n",
       "      <td>1</td>\n",
       "      <td>2010-04-29 13:36:00</td>\n",
       "      <td>-53594.36</td>\n",
       "      <td>NaN</td>\n",
       "      <td>United Kingdom</td>\n",
       "    </tr>\n",
       "    <tr>\n",
       "      <th>276274</th>\n",
       "      <td>A516228</td>\n",
       "      <td>B</td>\n",
       "      <td>Adjust bad debt</td>\n",
       "      <td>1</td>\n",
       "      <td>2010-07-19 11:24:00</td>\n",
       "      <td>-44031.79</td>\n",
       "      <td>NaN</td>\n",
       "      <td>United Kingdom</td>\n",
       "    </tr>\n",
       "    <tr>\n",
       "      <th>403472</th>\n",
       "      <td>A528059</td>\n",
       "      <td>B</td>\n",
       "      <td>Adjust bad debt</td>\n",
       "      <td>1</td>\n",
       "      <td>2010-10-20 12:04:00</td>\n",
       "      <td>-38925.87</td>\n",
       "      <td>NaN</td>\n",
       "      <td>United Kingdom</td>\n",
       "    </tr>\n",
       "    <tr>\n",
       "      <th>299982</th>\n",
       "      <td>A563185</td>\n",
       "      <td>B</td>\n",
       "      <td>Adjust bad debt</td>\n",
       "      <td>1</td>\n",
       "      <td>2011-08-12 14:50:00</td>\n",
       "      <td>11062.06</td>\n",
       "      <td>NaN</td>\n",
       "      <td>United Kingdom</td>\n",
       "    </tr>\n",
       "    <tr>\n",
       "      <th>299983</th>\n",
       "      <td>A563186</td>\n",
       "      <td>B</td>\n",
       "      <td>Adjust bad debt</td>\n",
       "      <td>1</td>\n",
       "      <td>2011-08-12 14:51:00</td>\n",
       "      <td>-11062.06</td>\n",
       "      <td>NaN</td>\n",
       "      <td>United Kingdom</td>\n",
       "    </tr>\n",
       "    <tr>\n",
       "      <th>299984</th>\n",
       "      <td>A563187</td>\n",
       "      <td>B</td>\n",
       "      <td>Adjust bad debt</td>\n",
       "      <td>1</td>\n",
       "      <td>2011-08-12 14:52:00</td>\n",
       "      <td>-11062.06</td>\n",
       "      <td>NaN</td>\n",
       "      <td>United Kingdom</td>\n",
       "    </tr>\n",
       "  </tbody>\n",
       "</table>\n",
       "</div>"
      ],
      "text/plain": [
       "        Invoice StockCode      Description  Quantity         InvoiceDate  \\\n",
       "179403  A506401         B  Adjust bad debt         1 2010-04-29 13:36:00   \n",
       "276274  A516228         B  Adjust bad debt         1 2010-07-19 11:24:00   \n",
       "403472  A528059         B  Adjust bad debt         1 2010-10-20 12:04:00   \n",
       "299982  A563185         B  Adjust bad debt         1 2011-08-12 14:50:00   \n",
       "299983  A563186         B  Adjust bad debt         1 2011-08-12 14:51:00   \n",
       "299984  A563187         B  Adjust bad debt         1 2011-08-12 14:52:00   \n",
       "\n",
       "           Price  Customer ID         Country  \n",
       "179403 -53594.36          NaN  United Kingdom  \n",
       "276274 -44031.79          NaN  United Kingdom  \n",
       "403472 -38925.87          NaN  United Kingdom  \n",
       "299982  11062.06          NaN  United Kingdom  \n",
       "299983 -11062.06          NaN  United Kingdom  \n",
       "299984 -11062.06          NaN  United Kingdom  "
      ]
     },
     "execution_count": 26,
     "metadata": {},
     "output_type": "execute_result"
    }
   ],
   "source": [
    "# Invoices that start with \"A\"\n",
    "df[df[\"Invoice\"].str.contains(\"A\")]"
   ]
  },
  {
   "cell_type": "code",
   "execution_count": 27,
   "id": "0bd303e4",
   "metadata": {},
   "outputs": [
    {
     "data": {
      "text/plain": [
       "(6, 8)"
      ]
     },
     "execution_count": 27,
     "metadata": {},
     "output_type": "execute_result"
    }
   ],
   "source": [
    "df[df[\"Invoice\"].str.contains(\"A\")].shape"
   ]
  },
  {
   "cell_type": "markdown",
   "id": "ff72a1fe",
   "metadata": {},
   "source": [
    "There are only 6 transactions of what appears to be adjustments regarding debts of the company. This explains the strongly negative values on **Price** column. There is only one exception regarding Invoice \"A563185\" with *Price = 11062.06* (positive value). Invoice *A563185* seems to be related with *A563186* and *A563187*, although they cannot be characterised as duplicates."
   ]
  },
  {
   "cell_type": "code",
   "execution_count": 28,
   "id": "010d1331",
   "metadata": {},
   "outputs": [
    {
     "data": {
      "text/plain": [
       "719"
      ]
     },
     "execution_count": 28,
     "metadata": {},
     "output_type": "execute_result"
    }
   ],
   "source": [
    "# Invoice starts with \"C\" and Customer ID is blank\n",
    "df_cancelled_inv[\"Customer ID\"].isnull().sum()"
   ]
  },
  {
   "cell_type": "markdown",
   "id": "5761e61a",
   "metadata": {},
   "source": [
    "### 2.2 Quantity Column"
   ]
  },
  {
   "cell_type": "code",
   "execution_count": 29,
   "id": "21c15c85",
   "metadata": {},
   "outputs": [
    {
     "data": {
      "text/plain": [
       "22557"
      ]
     },
     "execution_count": 29,
     "metadata": {},
     "output_type": "execute_result"
    }
   ],
   "source": [
    "# Number of records where Quantity < 0 \n",
    "len(df[(df[\"Quantity\"] < 0)])"
   ]
  },
  {
   "cell_type": "markdown",
   "id": "bdc199e5",
   "metadata": {},
   "source": [
    "There are **22557** records with negative value on Quantity. These records are more than the cancelled invoices with negative value on Quantity (19164), which means that negative quantity can be linked to other kinds of transactions too, not only cancelled invoices/returns of products."
   ]
  },
  {
   "cell_type": "code",
   "execution_count": 63,
   "id": "bc41e988",
   "metadata": {},
   "outputs": [
    {
     "data": {
      "text/plain": [
       "0"
      ]
     },
     "execution_count": 63,
     "metadata": {},
     "output_type": "execute_result"
    }
   ],
   "source": [
    "df[\"Quantity\"].isnull().sum()"
   ]
  },
  {
   "cell_type": "code",
   "execution_count": 30,
   "id": "4f312345",
   "metadata": {},
   "outputs": [
    {
     "data": {
      "text/html": [
       "<div>\n",
       "<style scoped>\n",
       "    .dataframe tbody tr th:only-of-type {\n",
       "        vertical-align: middle;\n",
       "    }\n",
       "\n",
       "    .dataframe tbody tr th {\n",
       "        vertical-align: top;\n",
       "    }\n",
       "\n",
       "    .dataframe thead th {\n",
       "        text-align: right;\n",
       "    }\n",
       "</style>\n",
       "<table border=\"1\" class=\"dataframe\">\n",
       "  <thead>\n",
       "    <tr style=\"text-align: right;\">\n",
       "      <th></th>\n",
       "      <th>Invoice</th>\n",
       "      <th>StockCode</th>\n",
       "      <th>Description</th>\n",
       "      <th>Quantity</th>\n",
       "      <th>InvoiceDate</th>\n",
       "      <th>Price</th>\n",
       "      <th>Customer ID</th>\n",
       "      <th>Country</th>\n",
       "    </tr>\n",
       "  </thead>\n",
       "  <tbody>\n",
       "    <tr>\n",
       "      <th>263</th>\n",
       "      <td>489464</td>\n",
       "      <td>21733</td>\n",
       "      <td>85123a mixed</td>\n",
       "      <td>-96</td>\n",
       "      <td>2009-12-01 10:52:00</td>\n",
       "      <td>0.0</td>\n",
       "      <td>NaN</td>\n",
       "      <td>United Kingdom</td>\n",
       "    </tr>\n",
       "    <tr>\n",
       "      <th>283</th>\n",
       "      <td>489463</td>\n",
       "      <td>71477</td>\n",
       "      <td>short</td>\n",
       "      <td>-240</td>\n",
       "      <td>2009-12-01 10:52:00</td>\n",
       "      <td>0.0</td>\n",
       "      <td>NaN</td>\n",
       "      <td>United Kingdom</td>\n",
       "    </tr>\n",
       "    <tr>\n",
       "      <th>284</th>\n",
       "      <td>489467</td>\n",
       "      <td>85123A</td>\n",
       "      <td>21733 mixed</td>\n",
       "      <td>-192</td>\n",
       "      <td>2009-12-01 10:53:00</td>\n",
       "      <td>0.0</td>\n",
       "      <td>NaN</td>\n",
       "      <td>United Kingdom</td>\n",
       "    </tr>\n",
       "    <tr>\n",
       "      <th>470</th>\n",
       "      <td>489521</td>\n",
       "      <td>21646</td>\n",
       "      <td>NaN</td>\n",
       "      <td>-50</td>\n",
       "      <td>2009-12-01 11:44:00</td>\n",
       "      <td>0.0</td>\n",
       "      <td>NaN</td>\n",
       "      <td>United Kingdom</td>\n",
       "    </tr>\n",
       "    <tr>\n",
       "      <th>3114</th>\n",
       "      <td>489655</td>\n",
       "      <td>20683</td>\n",
       "      <td>NaN</td>\n",
       "      <td>-44</td>\n",
       "      <td>2009-12-01 17:26:00</td>\n",
       "      <td>0.0</td>\n",
       "      <td>NaN</td>\n",
       "      <td>United Kingdom</td>\n",
       "    </tr>\n",
       "    <tr>\n",
       "      <th>...</th>\n",
       "      <td>...</td>\n",
       "      <td>...</td>\n",
       "      <td>...</td>\n",
       "      <td>...</td>\n",
       "      <td>...</td>\n",
       "      <td>...</td>\n",
       "      <td>...</td>\n",
       "      <td>...</td>\n",
       "    </tr>\n",
       "    <tr>\n",
       "      <th>535333</th>\n",
       "      <td>581210</td>\n",
       "      <td>23395</td>\n",
       "      <td>check</td>\n",
       "      <td>-26</td>\n",
       "      <td>2011-12-07 18:36:00</td>\n",
       "      <td>0.0</td>\n",
       "      <td>NaN</td>\n",
       "      <td>United Kingdom</td>\n",
       "    </tr>\n",
       "    <tr>\n",
       "      <th>535335</th>\n",
       "      <td>581212</td>\n",
       "      <td>22578</td>\n",
       "      <td>lost</td>\n",
       "      <td>-1050</td>\n",
       "      <td>2011-12-07 18:38:00</td>\n",
       "      <td>0.0</td>\n",
       "      <td>NaN</td>\n",
       "      <td>United Kingdom</td>\n",
       "    </tr>\n",
       "    <tr>\n",
       "      <th>535336</th>\n",
       "      <td>581213</td>\n",
       "      <td>22576</td>\n",
       "      <td>check</td>\n",
       "      <td>-30</td>\n",
       "      <td>2011-12-07 18:38:00</td>\n",
       "      <td>0.0</td>\n",
       "      <td>NaN</td>\n",
       "      <td>United Kingdom</td>\n",
       "    </tr>\n",
       "    <tr>\n",
       "      <th>536910</th>\n",
       "      <td>581226</td>\n",
       "      <td>23090</td>\n",
       "      <td>missing</td>\n",
       "      <td>-338</td>\n",
       "      <td>2011-12-08 09:56:00</td>\n",
       "      <td>0.0</td>\n",
       "      <td>NaN</td>\n",
       "      <td>United Kingdom</td>\n",
       "    </tr>\n",
       "    <tr>\n",
       "      <th>538925</th>\n",
       "      <td>581422</td>\n",
       "      <td>23169</td>\n",
       "      <td>smashed</td>\n",
       "      <td>-235</td>\n",
       "      <td>2011-12-08 15:24:00</td>\n",
       "      <td>0.0</td>\n",
       "      <td>NaN</td>\n",
       "      <td>United Kingdom</td>\n",
       "    </tr>\n",
       "  </tbody>\n",
       "</table>\n",
       "<p>4111 rows × 8 columns</p>\n",
       "</div>"
      ],
      "text/plain": [
       "       Invoice StockCode   Description  Quantity         InvoiceDate  Price  \\\n",
       "263     489464     21733  85123a mixed       -96 2009-12-01 10:52:00    0.0   \n",
       "283     489463     71477         short      -240 2009-12-01 10:52:00    0.0   \n",
       "284     489467    85123A   21733 mixed      -192 2009-12-01 10:53:00    0.0   \n",
       "470     489521     21646           NaN       -50 2009-12-01 11:44:00    0.0   \n",
       "3114    489655     20683           NaN       -44 2009-12-01 17:26:00    0.0   \n",
       "...        ...       ...           ...       ...                 ...    ...   \n",
       "535333  581210     23395         check       -26 2011-12-07 18:36:00    0.0   \n",
       "535335  581212     22578          lost     -1050 2011-12-07 18:38:00    0.0   \n",
       "535336  581213     22576         check       -30 2011-12-07 18:38:00    0.0   \n",
       "536910  581226     23090       missing      -338 2011-12-08 09:56:00    0.0   \n",
       "538925  581422     23169       smashed      -235 2011-12-08 15:24:00    0.0   \n",
       "\n",
       "        Customer ID         Country  \n",
       "263             NaN  United Kingdom  \n",
       "283             NaN  United Kingdom  \n",
       "284             NaN  United Kingdom  \n",
       "470             NaN  United Kingdom  \n",
       "3114            NaN  United Kingdom  \n",
       "...             ...             ...  \n",
       "535333          NaN  United Kingdom  \n",
       "535335          NaN  United Kingdom  \n",
       "535336          NaN  United Kingdom  \n",
       "536910          NaN  United Kingdom  \n",
       "538925          NaN  United Kingdom  \n",
       "\n",
       "[4111 rows x 8 columns]"
      ]
     },
     "execution_count": 30,
     "metadata": {},
     "output_type": "execute_result"
    }
   ],
   "source": [
    "# Number of records where Quantity < 0 and Customer ID is blank\n",
    "df[(df[\"Quantity\"] < 0) & df[\"Customer ID\"].isnull()]"
   ]
  },
  {
   "cell_type": "code",
   "execution_count": 31,
   "id": "96bea4a5",
   "metadata": {},
   "outputs": [
    {
     "data": {
      "text/html": [
       "<div>\n",
       "<style scoped>\n",
       "    .dataframe tbody tr th:only-of-type {\n",
       "        vertical-align: middle;\n",
       "    }\n",
       "\n",
       "    .dataframe tbody tr th {\n",
       "        vertical-align: top;\n",
       "    }\n",
       "\n",
       "    .dataframe thead th {\n",
       "        text-align: right;\n",
       "    }\n",
       "</style>\n",
       "<table border=\"1\" class=\"dataframe\">\n",
       "  <thead>\n",
       "    <tr style=\"text-align: right;\">\n",
       "      <th></th>\n",
       "      <th>Invoice</th>\n",
       "      <th>StockCode</th>\n",
       "      <th>Description</th>\n",
       "      <th>Quantity</th>\n",
       "      <th>InvoiceDate</th>\n",
       "      <th>Price</th>\n",
       "      <th>Customer ID</th>\n",
       "      <th>Country</th>\n",
       "    </tr>\n",
       "  </thead>\n",
       "  <tbody>\n",
       "    <tr>\n",
       "      <th>5897</th>\n",
       "      <td>C489859</td>\n",
       "      <td>M</td>\n",
       "      <td>Manual</td>\n",
       "      <td>-1</td>\n",
       "      <td>2009-12-02 14:45:00</td>\n",
       "      <td>69.57</td>\n",
       "      <td>NaN</td>\n",
       "      <td>United Kingdom</td>\n",
       "    </tr>\n",
       "    <tr>\n",
       "      <th>5898</th>\n",
       "      <td>C489860</td>\n",
       "      <td>90029</td>\n",
       "      <td>NEW BAROQUE SMALL NECKLACE BLACK</td>\n",
       "      <td>-1</td>\n",
       "      <td>2009-12-02 14:49:00</td>\n",
       "      <td>8.50</td>\n",
       "      <td>NaN</td>\n",
       "      <td>United Kingdom</td>\n",
       "    </tr>\n",
       "    <tr>\n",
       "      <th>6376</th>\n",
       "      <td>C489881</td>\n",
       "      <td>21102</td>\n",
       "      <td>CANDLE IN JAR COLLAGE , VANILLA</td>\n",
       "      <td>-31</td>\n",
       "      <td>2009-12-02 16:20:00</td>\n",
       "      <td>2.55</td>\n",
       "      <td>NaN</td>\n",
       "      <td>Nigeria</td>\n",
       "    </tr>\n",
       "    <tr>\n",
       "      <th>6377</th>\n",
       "      <td>C489881</td>\n",
       "      <td>72802A</td>\n",
       "      <td>ROSE SCENT CANDLE IN JEWELLED BOX</td>\n",
       "      <td>-16</td>\n",
       "      <td>2009-12-02 16:20:00</td>\n",
       "      <td>4.25</td>\n",
       "      <td>NaN</td>\n",
       "      <td>Nigeria</td>\n",
       "    </tr>\n",
       "    <tr>\n",
       "      <th>11553</th>\n",
       "      <td>C490307</td>\n",
       "      <td>POST</td>\n",
       "      <td>POSTAGE</td>\n",
       "      <td>-1</td>\n",
       "      <td>2009-12-04 14:49:00</td>\n",
       "      <td>8.97</td>\n",
       "      <td>NaN</td>\n",
       "      <td>United Kingdom</td>\n",
       "    </tr>\n",
       "    <tr>\n",
       "      <th>...</th>\n",
       "      <td>...</td>\n",
       "      <td>...</td>\n",
       "      <td>...</td>\n",
       "      <td>...</td>\n",
       "      <td>...</td>\n",
       "      <td>...</td>\n",
       "      <td>...</td>\n",
       "      <td>...</td>\n",
       "    </tr>\n",
       "    <tr>\n",
       "      <th>492207</th>\n",
       "      <td>C578097</td>\n",
       "      <td>22112</td>\n",
       "      <td>CHOCOLATE HOT WATER BOTTLE</td>\n",
       "      <td>-48</td>\n",
       "      <td>2011-11-22 17:31:00</td>\n",
       "      <td>4.25</td>\n",
       "      <td>NaN</td>\n",
       "      <td>United Kingdom</td>\n",
       "    </tr>\n",
       "    <tr>\n",
       "      <th>514984</th>\n",
       "      <td>C579757</td>\n",
       "      <td>47469</td>\n",
       "      <td>ASSORTED SHAPES PHOTO CLIP SILVER</td>\n",
       "      <td>-24</td>\n",
       "      <td>2011-11-30 14:56:00</td>\n",
       "      <td>0.65</td>\n",
       "      <td>NaN</td>\n",
       "      <td>United Kingdom</td>\n",
       "    </tr>\n",
       "    <tr>\n",
       "      <th>516454</th>\n",
       "      <td>C579907</td>\n",
       "      <td>22169</td>\n",
       "      <td>FAMILY ALBUM WHITE PICTURE FRAME</td>\n",
       "      <td>-2</td>\n",
       "      <td>2011-12-01 08:48:00</td>\n",
       "      <td>7.65</td>\n",
       "      <td>NaN</td>\n",
       "      <td>EIRE</td>\n",
       "    </tr>\n",
       "    <tr>\n",
       "      <th>524601</th>\n",
       "      <td>C580604</td>\n",
       "      <td>AMAZONFEE</td>\n",
       "      <td>AMAZON FEE</td>\n",
       "      <td>-1</td>\n",
       "      <td>2011-12-05 11:35:00</td>\n",
       "      <td>11586.50</td>\n",
       "      <td>NaN</td>\n",
       "      <td>United Kingdom</td>\n",
       "    </tr>\n",
       "    <tr>\n",
       "      <th>524602</th>\n",
       "      <td>C580605</td>\n",
       "      <td>AMAZONFEE</td>\n",
       "      <td>AMAZON FEE</td>\n",
       "      <td>-1</td>\n",
       "      <td>2011-12-05 11:36:00</td>\n",
       "      <td>17836.46</td>\n",
       "      <td>NaN</td>\n",
       "      <td>United Kingdom</td>\n",
       "    </tr>\n",
       "  </tbody>\n",
       "</table>\n",
       "<p>718 rows × 8 columns</p>\n",
       "</div>"
      ],
      "text/plain": [
       "        Invoice  StockCode                         Description  Quantity  \\\n",
       "5897    C489859          M                              Manual        -1   \n",
       "5898    C489860      90029    NEW BAROQUE SMALL NECKLACE BLACK        -1   \n",
       "6376    C489881      21102     CANDLE IN JAR COLLAGE , VANILLA       -31   \n",
       "6377    C489881     72802A   ROSE SCENT CANDLE IN JEWELLED BOX       -16   \n",
       "11553   C490307       POST                             POSTAGE        -1   \n",
       "...         ...        ...                                 ...       ...   \n",
       "492207  C578097      22112          CHOCOLATE HOT WATER BOTTLE       -48   \n",
       "514984  C579757      47469  ASSORTED SHAPES PHOTO CLIP SILVER        -24   \n",
       "516454  C579907      22169    FAMILY ALBUM WHITE PICTURE FRAME        -2   \n",
       "524601  C580604  AMAZONFEE                          AMAZON FEE        -1   \n",
       "524602  C580605  AMAZONFEE                          AMAZON FEE        -1   \n",
       "\n",
       "               InvoiceDate     Price  Customer ID         Country  \n",
       "5897   2009-12-02 14:45:00     69.57          NaN  United Kingdom  \n",
       "5898   2009-12-02 14:49:00      8.50          NaN  United Kingdom  \n",
       "6376   2009-12-02 16:20:00      2.55          NaN         Nigeria  \n",
       "6377   2009-12-02 16:20:00      4.25          NaN         Nigeria  \n",
       "11553  2009-12-04 14:49:00      8.97          NaN  United Kingdom  \n",
       "...                    ...       ...          ...             ...  \n",
       "492207 2011-11-22 17:31:00      4.25          NaN  United Kingdom  \n",
       "514984 2011-11-30 14:56:00      0.65          NaN  United Kingdom  \n",
       "516454 2011-12-01 08:48:00      7.65          NaN            EIRE  \n",
       "524601 2011-12-05 11:35:00  11586.50          NaN  United Kingdom  \n",
       "524602 2011-12-05 11:36:00  17836.46          NaN  United Kingdom  \n",
       "\n",
       "[718 rows x 8 columns]"
      ]
     },
     "execution_count": 31,
     "metadata": {},
     "output_type": "execute_result"
    }
   ],
   "source": [
    "# Number of records where Quantity < 0, Customer ID is blank and Invoice starts with \"C\"\n",
    "df_cancelled_inv[(df_cancelled_inv[\"Quantity\"] < 0) & df_cancelled_inv[\"Customer ID\"].isnull()]"
   ]
  },
  {
   "cell_type": "markdown",
   "id": "c0880cdb",
   "metadata": {},
   "source": [
    "### 2.3 Customer ID Column"
   ]
  },
  {
   "cell_type": "code",
   "execution_count": 32,
   "id": "99b74dfd",
   "metadata": {},
   "outputs": [
    {
     "data": {
      "text/plain": [
       "235287"
      ]
     },
     "execution_count": 32,
     "metadata": {},
     "output_type": "execute_result"
    }
   ],
   "source": [
    "# Number of records where Customer ID is blank \n",
    "len(df[(df[\"Customer ID\"].isnull())])"
   ]
  },
  {
   "cell_type": "markdown",
   "id": "1e8162a7",
   "metadata": {},
   "source": [
    "Customer ID column refers to the unique ID number given to each customer. There are **235287** missing values in this column, namely **22.5%** of the total number of transactions (1044848). This proportion is of great importance, and given the chance we would ask of the data collectors to explain this gap in the dataset. Given the fact that this is not possible, we assume that these customers had not registered to the online shop and thus, were never assigned a customer ID. "
   ]
  },
  {
   "cell_type": "code",
   "execution_count": 33,
   "id": "b39448ec",
   "metadata": {},
   "outputs": [
    {
     "name": "stdout",
     "output_type": "stream",
     "text": [
      "There are 5942 unique Customer IDs in the dataset.\n"
     ]
    }
   ],
   "source": [
    "# Number of unique customers \n",
    "unique_customers = len(df[\"Customer ID\"].unique())\n",
    "print(\"There are {} unique Customer IDs in the dataset.\".format(unique_customers - 1))"
   ]
  },
  {
   "cell_type": "markdown",
   "id": "b9815253",
   "metadata": {},
   "source": [
    "We substract 1, which represents the distinct count of null values in Customer ID column. "
   ]
  },
  {
   "cell_type": "code",
   "execution_count": 34,
   "id": "8e51162d",
   "metadata": {},
   "outputs": [
    {
     "name": "stdout",
     "output_type": "stream",
     "text": [
      "For the customer segmentation analysis that will follow, we will drop missing values from Customer ID column and thus the shape of the DataFrame will be reduced to (809561, 8).\n"
     ]
    }
   ],
   "source": [
    "# Drop missing values in Customer ID (235 287)\n",
    "df_nnz_customerID = df.dropna(subset = [\"Customer ID\"])\n",
    "print(\"For the customer segmentation analysis that will follow, we will drop missing values from \" \n",
    "      \"Customer ID column and thus the shape of the DataFrame will be reduced to {}.\".format(df_nnz_customerID.shape))"
   ]
  },
  {
   "cell_type": "markdown",
   "id": "cb4a45d4",
   "metadata": {},
   "source": [
    "### 2.4 Country Column"
   ]
  },
  {
   "cell_type": "code",
   "execution_count": 35,
   "id": "90c587ef",
   "metadata": {},
   "outputs": [
    {
     "name": "stdout",
     "output_type": "stream",
     "text": [
      "The number of countries in the dataset is 43 and they are listed below:\n",
      "\n",
      " ['United Kingdom' 'France' 'USA' 'Belgium' 'Australia' 'EIRE' 'Germany'\n",
      " 'Portugal' 'Japan' 'Denmark' 'Nigeria' 'Netherlands' 'Poland' 'Spain'\n",
      " 'Channel Islands' 'Italy' 'Cyprus' 'Greece' 'Norway' 'Austria' 'Sweden'\n",
      " 'United Arab Emirates' 'Finland' 'Switzerland' 'Unspecified' 'Malta'\n",
      " 'Bahrain' 'RSA' 'Bermuda' 'Hong Kong' 'Singapore' 'Thailand' 'Israel'\n",
      " 'Lithuania' 'West Indies' 'Lebanon' 'Korea' 'Brazil' 'Canada' 'Iceland'\n",
      " 'Saudi Arabia' 'Czech Republic' 'European Community']\n"
     ]
    }
   ],
   "source": [
    "# List of countries \n",
    "countries_list = df[\"Country\"].unique()\n",
    "number_of_countries = len(df[\"Country\"].unique())\n",
    "print(\"The number of countries in the dataset is {} and they are listed below:\\n\\n\".format(number_of_countries), countries_list)"
   ]
  },
  {
   "cell_type": "code",
   "execution_count": 36,
   "id": "b3a3e21e",
   "metadata": {},
   "outputs": [
    {
     "data": {
      "text/plain": [
       "756"
      ]
     },
     "execution_count": 36,
     "metadata": {},
     "output_type": "execute_result"
    }
   ],
   "source": [
    "# Number of records where country is \"Unspecified\"\n",
    "len(df[df[\"Country\"] == \"Unspecified\"])"
   ]
  },
  {
   "cell_type": "code",
   "execution_count": 37,
   "id": "37392b14",
   "metadata": {},
   "outputs": [
    {
     "name": "stdout",
     "output_type": "stream",
     "text": [
      "United Kingdom    91.877766\n",
      "EIRE               1.692974\n",
      "Germany            1.661773\n",
      "France             1.345555\n",
      "Netherlands        0.491746\n",
      "Spain              0.360435\n",
      "Switzerland        0.304638\n",
      "Belgium            0.297747\n",
      "Portugal           0.243098\n",
      "Australia          0.180983\n",
      "Name: Country, dtype: float64\n"
     ]
    }
   ],
   "source": [
    "# Top 10 countries by number of transactions\n",
    "print(df[\"Country\"].value_counts()[:10]/len(df) * 100)"
   ]
  },
  {
   "cell_type": "markdown",
   "id": "844d7a0b",
   "metadata": {},
   "source": [
    "A large proportion of the customers buy from United Kingdom (**91.8%**), which is also the base of the online shop."
   ]
  },
  {
   "cell_type": "markdown",
   "id": "62ffc9ec",
   "metadata": {},
   "source": [
    "### 2.5 StockCode Column"
   ]
  },
  {
   "cell_type": "code",
   "execution_count": 38,
   "id": "3c93d536",
   "metadata": {},
   "outputs": [
    {
     "name": "stdout",
     "output_type": "stream",
     "text": [
      "The number of unique StockCodes is 5305\n"
     ]
    }
   ],
   "source": [
    "# Number of unique StockCode items\n",
    "number_of_StockCodes = pd.unique(df[\"StockCode\"])\n",
    "print(\"The number of unique StockCodes is\", len(number_of_StockCodes))"
   ]
  },
  {
   "cell_type": "markdown",
   "id": "b288e938",
   "metadata": {},
   "source": [
    "According to Python, the unique values of the column StockCode is **5305**.\n",
    "In parallel with Python we conducted the same analysis using Microsoft Power BI, where we constructed a measure using the DAX expression *DISTINCTCOUNT* in order to count the unique values of the column. The result in Power BI is **5131**. We tried to figure out which of these results was the right one.\n",
    "It's reasonable to assume that Python internally regards certain values as distinct whereas Power BI does not. Otherwise, this discrepancy wouldn't arise. In order to investigate whether this suspicion is correct, we must first level the playing field with regard to the values of the column. To this end, we cast all values as type string and subsequently turn all strings to upppercase.  In this way all values are comparable with each other.\n",
    "After the execution of these commands, we see that the unique values of column StockCode are **5132**!"
   ]
  },
  {
   "cell_type": "code",
   "execution_count": 39,
   "id": "e372c844",
   "metadata": {},
   "outputs": [
    {
     "data": {
      "text/plain": [
       "5132"
      ]
     },
     "execution_count": 39,
     "metadata": {},
     "output_type": "execute_result"
    }
   ],
   "source": [
    "len(df['StockCode'].astype(str).str.upper().sort_values().unique())"
   ]
  },
  {
   "cell_type": "markdown",
   "id": "11b22763",
   "metadata": {},
   "source": [
    "In order to find that one value that remains as a difference, we exported both lists of unique StockCodes to excel. The value *47503J* was spotted as written with two different ways, namely **\"47503J \"** and **\"47503J\"**. We used the command *str.strip()* in order to substract the blank space that caused this and finally reached the conclusion that the unique values of column StockCode are **5131**."
   ]
  },
  {
   "cell_type": "code",
   "execution_count": 40,
   "id": "fb0c477e",
   "metadata": {},
   "outputs": [],
   "source": [
    "# df_2222 = pd.DataFrame(df['StockCode'].astype(str).str.upper().sort_values().unique())\n",
    "# df_2222.to_excel(r'C:\\Users\\argyr\\OneDrive\\Υπολογιστής\\Diplvm\\Giftware dataset\\online_retail_II_stockcodepy.xlsx', index=False)"
   ]
  },
  {
   "cell_type": "code",
   "execution_count": 41,
   "id": "7787b5ce",
   "metadata": {},
   "outputs": [
    {
     "data": {
      "text/plain": [
       "1"
      ]
     },
     "execution_count": 41,
     "metadata": {},
     "output_type": "execute_result"
    }
   ],
   "source": [
    "(df['StockCode'].astype(str).str.upper().sort_values().unique() == '47503J').sum()"
   ]
  },
  {
   "cell_type": "code",
   "execution_count": 42,
   "id": "22743285",
   "metadata": {},
   "outputs": [
    {
     "data": {
      "text/plain": [
       "1"
      ]
     },
     "execution_count": 42,
     "metadata": {},
     "output_type": "execute_result"
    }
   ],
   "source": [
    "(df['StockCode'].astype(str).str.upper().sort_values().unique() == '47503J ').sum()"
   ]
  },
  {
   "cell_type": "markdown",
   "id": "14d8fe89",
   "metadata": {},
   "source": [
    "Using Power BI, we didn't have to perform all these steps to reach the right number of unique StockCodes because the command *DISTINCTCOUNTNOBLANK* counts the unique values of a column ignoring the fact that there may be blank spaces or uppercase/lowercase letters in value names. While here this has been helpful,it is not always the case. Each dataset is unique and it is absolutely necessary for the analyst to deeply understand its peculiarities before heading on with (and trusting?) any analysis tool."
   ]
  },
  {
   "cell_type": "markdown",
   "id": "584be7c1",
   "metadata": {},
   "source": [
    "We create a new DataFrame (**df2**) in order to store the values of *StockCode* in their updated version. From now on, **df2** is the base for our analysis."
   ]
  },
  {
   "cell_type": "code",
   "execution_count": 43,
   "id": "bfe984b4",
   "metadata": {},
   "outputs": [],
   "source": [
    "# New version of df. This is the base version for the next steps of the analysis.\n",
    "df['StockCode'] = df['StockCode'].astype(str).str.upper().str.strip()\n",
    "df2 = df.copy()"
   ]
  },
  {
   "cell_type": "code",
   "execution_count": 44,
   "id": "aaaa6f43",
   "metadata": {},
   "outputs": [
    {
     "data": {
      "text/plain": [
       "5131"
      ]
     },
     "execution_count": 44,
     "metadata": {},
     "output_type": "execute_result"
    }
   ],
   "source": [
    "unique_stockcodes = df['StockCode'].unique()\n",
    "len(unique_stockcodes)"
   ]
  },
  {
   "cell_type": "markdown",
   "id": "f3eee52b",
   "metadata": {},
   "source": [
    "#### Top 10 StockCodes"
   ]
  },
  {
   "cell_type": "code",
   "execution_count": 65,
   "id": "35985f0d",
   "metadata": {},
   "outputs": [
    {
     "data": {
      "text/plain": [
       "0"
      ]
     },
     "execution_count": 65,
     "metadata": {},
     "output_type": "execute_result"
    }
   ],
   "source": [
    "df2[\"StockCode\"].isnull().sum()"
   ]
  },
  {
   "cell_type": "code",
   "execution_count": 45,
   "id": "3e36a3d7",
   "metadata": {
    "scrolled": false
   },
   "outputs": [],
   "source": [
    "# We would like to subtract records whose Price is zero.\n",
    "# However Python and Power BI do not seem to agree on the representation of zero.\n",
    "# Therefore in order to determine which products should be excluded from the top ten analysis,\n",
    "# we will find out which products have positive price, which have negative, and then subtract\n",
    "# these from the lot."
   ]
  },
  {
   "cell_type": "code",
   "execution_count": 46,
   "id": "ba3dc910",
   "metadata": {
    "scrolled": true
   },
   "outputs": [
    {
     "data": {
      "text/plain": [
       "(1038819, 8)"
      ]
     },
     "execution_count": 46,
     "metadata": {},
     "output_type": "execute_result"
    }
   ],
   "source": [
    "df_price_positive = df2[df2[\"Price\"] > 0.0]\n",
    "df_price_positive.shape"
   ]
  },
  {
   "cell_type": "code",
   "execution_count": 47,
   "id": "c09b7a5d",
   "metadata": {
    "scrolled": true
   },
   "outputs": [
    {
     "data": {
      "text/plain": [
       "(5, 8)"
      ]
     },
     "execution_count": 47,
     "metadata": {},
     "output_type": "execute_result"
    }
   ],
   "source": [
    "df_price_negative = df2[df2[\"Price\"] < 0.0]\n",
    "df_price_negative.shape"
   ]
  },
  {
   "cell_type": "code",
   "execution_count": 48,
   "id": "f6db3316",
   "metadata": {},
   "outputs": [
    {
     "data": {
      "text/plain": [
       "(6024, 8)"
      ]
     },
     "execution_count": 48,
     "metadata": {},
     "output_type": "execute_result"
    }
   ],
   "source": [
    "df_price_zero = df2[df2[\"Price\"] == 0]\n",
    "df_price_zero.shape"
   ]
  },
  {
   "cell_type": "code",
   "execution_count": 49,
   "id": "36d11132",
   "metadata": {},
   "outputs": [],
   "source": [
    "# The above three sizes agree with those extracted from Power BI."
   ]
  },
  {
   "cell_type": "code",
   "execution_count": 50,
   "id": "5d130bef",
   "metadata": {},
   "outputs": [],
   "source": [
    "# We concatenate the two DataFrames.\n",
    "df_nnz_prices = pd.concat([df_price_positive, df_price_negative])"
   ]
  },
  {
   "cell_type": "code",
   "execution_count": 51,
   "id": "c0fdcbdf",
   "metadata": {
    "scrolled": false
   },
   "outputs": [
    {
     "name": "stdout",
     "output_type": "stream",
     "text": [
      "StockCode\n",
      "84077     104675\n",
      "85099B     96137\n",
      "21212      93862\n",
      "85123A     91202\n",
      "22197      87733\n",
      "84879      79782\n",
      "17003      69665\n",
      "21977      56011\n",
      "84991      53856\n",
      "15036      43343\n",
      "Name: Quantity, dtype: int64\n"
     ]
    }
   ],
   "source": [
    "# We group by StockCode and sum the values of Quantity in order to review the ten most popular StockCodes of the online shop.\n",
    "df_fixed_stockcodes = df_nnz_prices.copy()\n",
    "most_preferred_products = df_fixed_stockcodes.groupby([\"StockCode\"])[\"Quantity\"].sum().sort_values(ascending=False)[:10]\n",
    "print(most_preferred_products)\n",
    "most_preferred_products = pd.DataFrame(most_preferred_products)"
   ]
  },
  {
   "cell_type": "code",
   "execution_count": 52,
   "id": "ff890332",
   "metadata": {},
   "outputs": [
    {
     "name": "stdout",
     "output_type": "stream",
     "text": [
      "['84077', '85099B', '21212', '85123A', '22197', '84879', '17003', '21977', '84991', '15036']\n"
     ]
    }
   ],
   "source": [
    "top10_stockcodes = most_preferred_products.index.tolist()\n",
    "print(top10_stockcodes)"
   ]
  },
  {
   "cell_type": "code",
   "execution_count": 53,
   "id": "4610501d",
   "metadata": {},
   "outputs": [
    {
     "name": "stdout",
     "output_type": "stream",
     "text": [
      "1309    WORLD WAR 2 GLIDERS ASSTD DESIGNS\n",
      "Name: Description, dtype: object\n",
      "161    JUMBO BAG RED WHITE SPOTTY \n",
      "Name: Description, dtype: object\n",
      "246    PACK OF 72 RETRO SPOT CAKE CASES\n",
      "Name: Description, dtype: object\n",
      "102    WHITE HANGING HEART T-LIGHT HOLDER\n",
      "Name: Description, dtype: object\n",
      "550    POPCORN HOLDER , SMALL \n",
      "Name: Description, dtype: object\n",
      "15    ASSORTED COLOUR BIRD ORNAMENT\n",
      "Name: Description, dtype: object\n",
      "2937    BROCADE RING PURSE \n",
      "Name: Description, dtype: object\n",
      "210    PACK OF 60 PINK PAISLEY CAKE CASES\n",
      "Name: Description, dtype: object\n",
      "211    60 TEATIME FAIRY CAKE CASES\n",
      "Name: Description, dtype: object\n",
      "2922    ASSORTED COLOURS SILK FAN\n",
      "Name: Description, dtype: object\n"
     ]
    }
   ],
   "source": [
    "# Print the descriptions of the ten most popular StockCodes\n",
    "for i in range(len(top10_stockcodes)):\n",
    "    print(df[df[\"StockCode\"] == top10_stockcodes[i]][\"Description\"][:1])"
   ]
  },
  {
   "cell_type": "markdown",
   "id": "3b0f0b5a",
   "metadata": {},
   "source": [
    "### 2.6 InvoiceDate Column"
   ]
  },
  {
   "cell_type": "markdown",
   "id": "2a5b3201",
   "metadata": {},
   "source": [
    "The column **InvoiceDate** refers to the date and time that a transaction was generated. The transactions range from 01.12.2009 to 09.12.2011, as described at the start of the analysis."
   ]
  },
  {
   "cell_type": "code",
   "execution_count": 54,
   "id": "c055c19c",
   "metadata": {},
   "outputs": [],
   "source": [
    "# There are only 5 records whose price is negative. These transactions, as we have mentioned above,\n",
    "# are purely logistical and do not reflect sales. "
   ]
  },
  {
   "cell_type": "code",
   "execution_count": 55,
   "id": "6730e6bb",
   "metadata": {},
   "outputs": [],
   "source": [
    "# Our goal now is to find out which month has the most sales. \n",
    "# We restrict our analysis only to products whose price is positive.\n",
    "df3 = df_price_positive.copy()"
   ]
  },
  {
   "cell_type": "code",
   "execution_count": 56,
   "id": "935e4c07",
   "metadata": {},
   "outputs": [
    {
     "name": "stdout",
     "output_type": "stream",
     "text": [
      "The data ranges from 01-12-2009 to 09-12-2011.\n"
     ]
    }
   ],
   "source": [
    "earliest_invoice_date = df3[\"InvoiceDate\"].min()\n",
    "latest_invoice_date = df3[\"InvoiceDate\"].max()\n",
    "date_fmt = \"%d-%m-%Y\"\n",
    "print(\"The data ranges from {} to {}.\".format(earliest_invoice_date.strftime(date_fmt), \n",
    "                                             latest_invoice_date.strftime(date_fmt) \n",
    "                                            )\n",
    "     )"
   ]
  },
  {
   "cell_type": "code",
   "execution_count": 57,
   "id": "46a7344f",
   "metadata": {},
   "outputs": [],
   "source": [
    "# Convert InvoiceDate column to datetime format\n",
    "df3[\"InvoiceDate\"] = pd.to_datetime(df3[\"InvoiceDate\"])\n",
    "\n",
    "# Create Month column\n",
    "df3[\"Month\"] = df3[\"InvoiceDate\"].dt.strftime(\"%B\")\n",
    "\n",
    "# Create TotalAmount column\n",
    "df3[\"TotalAmount\"] = df3[\"Price\"] * df3[\"Quantity\"] "
   ]
  },
  {
   "cell_type": "code",
   "execution_count": 58,
   "id": "84f67d99",
   "metadata": {},
   "outputs": [
    {
     "name": "stdout",
     "output_type": "stream",
     "text": [
      "Month\n",
      "November     2884410.892\n",
      "October      2154798.890\n",
      "December     1982490.140\n",
      "September    1873338.053\n",
      "March        1449115.841\n",
      "June         1370909.730\n",
      "August       1361580.970\n",
      "May          1338656.340\n",
      "July         1300568.261\n",
      "January      1184033.152\n",
      "April        1137381.913\n",
      "February     1031154.076\n",
      "Name: TotalAmount, dtype: float64\n"
     ]
    }
   ],
   "source": [
    "# Monthly sales\n",
    "monthly_sales = df3.groupby([\"Month\"])[\"TotalAmount\"].sum().sort_values(ascending=False)\n",
    "print(monthly_sales)"
   ]
  },
  {
   "cell_type": "code",
   "execution_count": 59,
   "id": "06e14c0b",
   "metadata": {},
   "outputs": [],
   "source": [
    "# Our goal now is to find out which hour of the day has the most distinct orders. \n",
    "# We restrict our analysis only to products whose price is positive.\n",
    "\n",
    "# Create Hour column\n",
    "df3[\"Hour\"] = df3[\"InvoiceDate\"].dt.strftime(\"%H\")"
   ]
  },
  {
   "cell_type": "code",
   "execution_count": 60,
   "id": "3709289c",
   "metadata": {
    "scrolled": false
   },
   "outputs": [
    {
     "name": "stdout",
     "output_type": "stream",
     "text": [
      "Hour\n",
      "06      22\n",
      "07     110\n",
      "08    1145\n",
      "09    3230\n",
      "10    5457\n",
      "11    6014\n",
      "12    7469\n",
      "13    6672\n",
      "14    5934\n",
      "15    5381\n",
      "16    3538\n",
      "17    2014\n",
      "18     721\n",
      "19     560\n",
      "20     102\n",
      "21       1\n",
      "Name: Invoice, dtype: int64\n"
     ]
    }
   ],
   "source": [
    "# Number of orders \n",
    "hourly_invoices = df3.groupby([\"Hour\"])[\"Invoice\"].nunique()\n",
    "print(hourly_invoices)"
   ]
  }
 ],
 "metadata": {
  "kernelspec": {
   "display_name": "Python 3 (ipykernel)",
   "language": "python",
   "name": "python3"
  },
  "language_info": {
   "codemirror_mode": {
    "name": "ipython",
    "version": 3
   },
   "file_extension": ".py",
   "mimetype": "text/x-python",
   "name": "python",
   "nbconvert_exporter": "python",
   "pygments_lexer": "ipython3",
   "version": "3.9.12"
  }
 },
 "nbformat": 4,
 "nbformat_minor": 5
}
