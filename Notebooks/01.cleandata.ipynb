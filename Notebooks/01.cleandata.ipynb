{
 "cells": [
  {
   "cell_type": "markdown",
   "id": "c0856b78",
   "metadata": {},
   "source": [
    "## Data Cleaning"
   ]
  },
  {
   "cell_type": "code",
   "execution_count": 77,
   "id": "a0b86c09",
   "metadata": {},
   "outputs": [],
   "source": [
    "# Import libraries\n",
    "import numpy as np \n",
    "import pandas as pd \n",
    "import datetime as dt\n",
    "import matplotlib.pyplot as plt \n",
    "from IPython.display import display\n",
    "from collections import defaultdict"
   ]
  },
  {
   "cell_type": "code",
   "execution_count": 78,
   "id": "9add78fc",
   "metadata": {
    "scrolled": true
   },
   "outputs": [
    {
     "data": {
      "text/plain": [
       "(1067371, 8)"
      ]
     },
     "execution_count": 78,
     "metadata": {},
     "output_type": "execute_result"
    }
   ],
   "source": [
    "# Merge τα δύο spreadsheets\n",
    "df1_raw = pd.read_excel(\"online_retail_II.xlsx\", sheet_name = \"Year 2009-2010\")\n",
    "df1_raw.reset_index()\n",
    "df2_raw = pd.read_excel(\"online_retail_II.xlsx\", sheet_name = \"Year 2010-2011\")\n",
    "df_raw = pd.concat([df1_raw, df2_raw])\n",
    "df_raw.shape"
   ]
  },
  {
   "cell_type": "code",
   "execution_count": 79,
   "id": "c25fac65",
   "metadata": {},
   "outputs": [
    {
     "data": {
      "text/plain": [
       "(1044848, 8)"
      ]
     },
     "execution_count": 79,
     "metadata": {},
     "output_type": "execute_result"
    }
   ],
   "source": [
    "# Remove 9 days overlap\n",
    "df2_raw_start_date = df2_raw[\"InvoiceDate\"].min()\n",
    "df = pd.concat([df1_raw[df1_raw[\"InvoiceDate\"] < df2_raw_start_date], df2_raw])\n",
    "df.shape "
   ]
  },
  {
   "cell_type": "code",
   "execution_count": 80,
   "id": "7cc779f3",
   "metadata": {},
   "outputs": [
    {
     "data": {
      "text/plain": [
       "(1044848, 8)"
      ]
     },
     "execution_count": 80,
     "metadata": {},
     "output_type": "execute_result"
    }
   ],
   "source": [
    "# Column datatype conversions: Invoice to string \n",
    "df[\"Invoice\"] = df[\"Invoice\"].astype(str)\n",
    "df.shape"
   ]
  },
  {
   "cell_type": "code",
   "execution_count": 81,
   "id": "673db691",
   "metadata": {},
   "outputs": [
    {
     "data": {
      "text/plain": [
       "(1044848, 8)"
      ]
     },
     "execution_count": 81,
     "metadata": {},
     "output_type": "execute_result"
    }
   ],
   "source": [
    "# Column datatype conversions: StockCode to string, uppercase letters, substract blank space from value names\n",
    "df['StockCode'] = df['StockCode'].astype(str).str.upper().str.strip()\n",
    "df.shape"
   ]
  },
  {
   "cell_type": "code",
   "execution_count": 82,
   "id": "be73d7d3",
   "metadata": {},
   "outputs": [
    {
     "data": {
      "text/plain": [
       "(809561, 8)"
      ]
     },
     "execution_count": 82,
     "metadata": {},
     "output_type": "execute_result"
    }
   ],
   "source": [
    "# Drop missing values in Customer ID (235 287)\n",
    "df = df.dropna(subset = [\"Customer ID\"])\n",
    "df.shape"
   ]
  },
  {
   "cell_type": "code",
   "execution_count": 83,
   "id": "8faf7486",
   "metadata": {},
   "outputs": [],
   "source": [
    "#duplicated = df[df.duplicated(keep = 'first')]\n",
    "#duplicated\n",
    "#df = df.drop_duplicates()\n",
    "#df.shape"
   ]
  },
  {
   "cell_type": "code",
   "execution_count": 84,
   "id": "30fac316",
   "metadata": {
    "scrolled": true
   },
   "outputs": [
    {
     "data": {
      "text/plain": [
       "18446"
      ]
     },
     "execution_count": 84,
     "metadata": {},
     "output_type": "execute_result"
    }
   ],
   "source": [
    "len(df[df[\"Quantity\"] < 0])"
   ]
  },
  {
   "cell_type": "markdown",
   "id": "0957fc6d",
   "metadata": {},
   "source": [
    "---\n",
    "---\n",
    "---"
   ]
  },
  {
   "cell_type": "code",
   "execution_count": 85,
   "id": "77db81b0",
   "metadata": {},
   "outputs": [],
   "source": [
    "#df_grp_cid_stc=df.groupby(['Customer ID', 'StockCode'], as_index=True, sort=False, group_keys=True)['Quantity'].sum()\n",
    "#df_grp_cid_stc = pd.DataFrame(df_grp_cid_stc) # equivalent to the command below\n",
    "# https://stackoverflow.com/questions/34113203/python-pandas-setting-groupby-group-labels-as-index-in-a-new-dataframe\n",
    "#df_grp_cid_stc = pd.DataFrame(df_grp_cid_stc.values, index=df_grp_cid_stc.index.values, columns=['Quantity'])\n",
    "#df_grp_cid_stc\n",
    "#df_grp_cid_stc.head(30)"
   ]
  },
  {
   "cell_type": "code",
   "execution_count": 86,
   "id": "b4bef6db",
   "metadata": {},
   "outputs": [
    {
     "data": {
      "text/plain": [
       "(809561, 8)"
      ]
     },
     "execution_count": 86,
     "metadata": {},
     "output_type": "execute_result"
    }
   ],
   "source": [
    "# Before\n",
    "rows_before_negq_drop = df.shape[0]\n",
    "df.shape"
   ]
  },
  {
   "cell_type": "code",
   "execution_count": 87,
   "id": "ff8eec54",
   "metadata": {},
   "outputs": [
    {
     "data": {
      "text/plain": [
       "18446"
      ]
     },
     "execution_count": 87,
     "metadata": {},
     "output_type": "execute_result"
    }
   ],
   "source": [
    "# Before\n",
    "len(df[df['Quantity'] < 0])"
   ]
  },
  {
   "cell_type": "code",
   "execution_count": 88,
   "id": "72d73ae1",
   "metadata": {},
   "outputs": [
    {
     "data": {
      "text/plain": [
       "(809561, 9)"
      ]
     },
     "execution_count": 88,
     "metadata": {},
     "output_type": "execute_result"
    }
   ],
   "source": [
    "# https://stackoverflow.com/a/49216587\n",
    "df['CIDxSC Summed Quantity'] = df.groupby(['Customer ID', 'StockCode'])['Quantity'].transform('sum')\n",
    "df.shape"
   ]
  },
  {
   "cell_type": "code",
   "execution_count": 89,
   "id": "bfac0721",
   "metadata": {},
   "outputs": [
    {
     "data": {
      "text/html": [
       "<div>\n",
       "<style scoped>\n",
       "    .dataframe tbody tr th:only-of-type {\n",
       "        vertical-align: middle;\n",
       "    }\n",
       "\n",
       "    .dataframe tbody tr th {\n",
       "        vertical-align: top;\n",
       "    }\n",
       "\n",
       "    .dataframe thead th {\n",
       "        text-align: right;\n",
       "    }\n",
       "</style>\n",
       "<table border=\"1\" class=\"dataframe\">\n",
       "  <thead>\n",
       "    <tr style=\"text-align: right;\">\n",
       "      <th></th>\n",
       "      <th>Invoice</th>\n",
       "      <th>StockCode</th>\n",
       "      <th>Description</th>\n",
       "      <th>Quantity</th>\n",
       "      <th>InvoiceDate</th>\n",
       "      <th>Price</th>\n",
       "      <th>Customer ID</th>\n",
       "      <th>Country</th>\n",
       "      <th>CIDxSC Summed Quantity</th>\n",
       "    </tr>\n",
       "  </thead>\n",
       "  <tbody>\n",
       "    <tr>\n",
       "      <th>0</th>\n",
       "      <td>489434</td>\n",
       "      <td>85048</td>\n",
       "      <td>15CM CHRISTMAS GLASS BALL 20 LIGHTS</td>\n",
       "      <td>12</td>\n",
       "      <td>2009-12-01 07:45:00</td>\n",
       "      <td>6.95</td>\n",
       "      <td>13085.0</td>\n",
       "      <td>United Kingdom</td>\n",
       "      <td>12</td>\n",
       "    </tr>\n",
       "    <tr>\n",
       "      <th>1</th>\n",
       "      <td>489434</td>\n",
       "      <td>79323P</td>\n",
       "      <td>PINK CHERRY LIGHTS</td>\n",
       "      <td>12</td>\n",
       "      <td>2009-12-01 07:45:00</td>\n",
       "      <td>6.75</td>\n",
       "      <td>13085.0</td>\n",
       "      <td>United Kingdom</td>\n",
       "      <td>28</td>\n",
       "    </tr>\n",
       "    <tr>\n",
       "      <th>2</th>\n",
       "      <td>489434</td>\n",
       "      <td>79323W</td>\n",
       "      <td>WHITE CHERRY LIGHTS</td>\n",
       "      <td>12</td>\n",
       "      <td>2009-12-01 07:45:00</td>\n",
       "      <td>6.75</td>\n",
       "      <td>13085.0</td>\n",
       "      <td>United Kingdom</td>\n",
       "      <td>28</td>\n",
       "    </tr>\n",
       "    <tr>\n",
       "      <th>3</th>\n",
       "      <td>489434</td>\n",
       "      <td>22041</td>\n",
       "      <td>RECORD FRAME 7\" SINGLE SIZE</td>\n",
       "      <td>48</td>\n",
       "      <td>2009-12-01 07:45:00</td>\n",
       "      <td>2.10</td>\n",
       "      <td>13085.0</td>\n",
       "      <td>United Kingdom</td>\n",
       "      <td>72</td>\n",
       "    </tr>\n",
       "    <tr>\n",
       "      <th>4</th>\n",
       "      <td>489434</td>\n",
       "      <td>21232</td>\n",
       "      <td>STRAWBERRY CERAMIC TRINKET BOX</td>\n",
       "      <td>24</td>\n",
       "      <td>2009-12-01 07:45:00</td>\n",
       "      <td>1.25</td>\n",
       "      <td>13085.0</td>\n",
       "      <td>United Kingdom</td>\n",
       "      <td>36</td>\n",
       "    </tr>\n",
       "  </tbody>\n",
       "</table>\n",
       "</div>"
      ],
      "text/plain": [
       "  Invoice StockCode                          Description  Quantity  \\\n",
       "0  489434     85048  15CM CHRISTMAS GLASS BALL 20 LIGHTS        12   \n",
       "1  489434    79323P                   PINK CHERRY LIGHTS        12   \n",
       "2  489434    79323W                  WHITE CHERRY LIGHTS        12   \n",
       "3  489434     22041         RECORD FRAME 7\" SINGLE SIZE         48   \n",
       "4  489434     21232       STRAWBERRY CERAMIC TRINKET BOX        24   \n",
       "\n",
       "          InvoiceDate  Price  Customer ID         Country  \\\n",
       "0 2009-12-01 07:45:00   6.95      13085.0  United Kingdom   \n",
       "1 2009-12-01 07:45:00   6.75      13085.0  United Kingdom   \n",
       "2 2009-12-01 07:45:00   6.75      13085.0  United Kingdom   \n",
       "3 2009-12-01 07:45:00   2.10      13085.0  United Kingdom   \n",
       "4 2009-12-01 07:45:00   1.25      13085.0  United Kingdom   \n",
       "\n",
       "   CIDxSC Summed Quantity  \n",
       "0                      12  \n",
       "1                      28  \n",
       "2                      28  \n",
       "3                      72  \n",
       "4                      36  "
      ]
     },
     "execution_count": 89,
     "metadata": {},
     "output_type": "execute_result"
    }
   ],
   "source": [
    "df.head()"
   ]
  },
  {
   "cell_type": "code",
   "execution_count": 90,
   "id": "b10595e9",
   "metadata": {},
   "outputs": [
    {
     "data": {
      "text/plain": [
       "\" gia tou logou to ali9es\\na = df['StockCode']=='79323P'\\nb = df['Customer ID'] == 13085.0\\nc = a & b\\ndf[c]\\n\""
      ]
     },
     "execution_count": 90,
     "metadata": {},
     "output_type": "execute_result"
    }
   ],
   "source": [
    "\"\"\" gia tou logou to ali9es\n",
    "a = df['StockCode']=='79323P'\n",
    "b = df['Customer ID'] == 13085.0\n",
    "c = a & b\n",
    "df[c]\n",
    "\"\"\""
   ]
  },
  {
   "cell_type": "code",
   "execution_count": 91,
   "id": "5dcb6d43",
   "metadata": {},
   "outputs": [
    {
     "data": {
      "text/plain": [
       "Int64Index([   221,    285,    318,    399,    400,    401,    576,    589,\n",
       "               590,    591,\n",
       "            ...\n",
       "            531616, 531759, 531799, 531800, 531816, 532722, 533082, 534308,\n",
       "            537595, 541541],\n",
       "           dtype='int64', length=2209)"
      ]
     },
     "execution_count": 91,
     "metadata": {},
     "output_type": "execute_result"
    }
   ],
   "source": [
    "df_grp_cid_stc_negq = df[df[\"CIDxSC Summed Quantity\"] < 0]\n",
    "df_grp_cid_stc_negq_idx = df_grp_cid_stc_negq.index\n",
    "df_grp_cid_stc_negq_idx"
   ]
  },
  {
   "cell_type": "code",
   "execution_count": 92,
   "id": "1079198b",
   "metadata": {
    "scrolled": true
   },
   "outputs": [],
   "source": [
    "df.drop(df_grp_cid_stc_negq_idx, inplace=True)"
   ]
  },
  {
   "cell_type": "code",
   "execution_count": 93,
   "id": "5b3a4663",
   "metadata": {},
   "outputs": [
    {
     "data": {
      "text/plain": [
       "(805701, 9)"
      ]
     },
     "execution_count": 93,
     "metadata": {},
     "output_type": "execute_result"
    }
   ],
   "source": [
    "# After\n",
    "rows_after_negq_drop = df.shape[0]\n",
    "df.shape"
   ]
  },
  {
   "cell_type": "code",
   "execution_count": 94,
   "id": "e28d6191",
   "metadata": {},
   "outputs": [
    {
     "data": {
      "text/plain": [
       "3860"
      ]
     },
     "execution_count": 94,
     "metadata": {},
     "output_type": "execute_result"
    }
   ],
   "source": [
    "# This is the number of rows deleted: for this combination of customer id and stock code: \n",
    "# the summed quantity of those particular stock codes was found to be negative.\n",
    "rows_before_negq_drop-rows_after_negq_drop"
   ]
  },
  {
   "cell_type": "code",
   "execution_count": 95,
   "id": "689c161f",
   "metadata": {
    "scrolled": true
   },
   "outputs": [
    {
     "data": {
      "text/plain": [
       "0"
      ]
     },
     "execution_count": 95,
     "metadata": {},
     "output_type": "execute_result"
    }
   ],
   "source": [
    "# After\n",
    "df.shape\n",
    "len(df[df['CIDxSC Summed Quantity'] < 0])"
   ]
  },
  {
   "cell_type": "code",
   "execution_count": 96,
   "id": "4db38a78",
   "metadata": {
    "scrolled": false
   },
   "outputs": [
    {
     "data": {
      "text/plain": [
       "16494"
      ]
     },
     "execution_count": 96,
     "metadata": {},
     "output_type": "execute_result"
    }
   ],
   "source": [
    "# After. These don't matter. The ones that matter are those of column 'CIDxSC Summed Quantity', which have been dropped already\n",
    "df.shape\n",
    "len(df[df['Quantity'] < 0])"
   ]
  },
  {
   "cell_type": "code",
   "execution_count": 103,
   "id": "c9cd2c57",
   "metadata": {},
   "outputs": [
    {
     "data": {
      "text/html": [
       "<div>\n",
       "<style scoped>\n",
       "    .dataframe tbody tr th:only-of-type {\n",
       "        vertical-align: middle;\n",
       "    }\n",
       "\n",
       "    .dataframe tbody tr th {\n",
       "        vertical-align: top;\n",
       "    }\n",
       "\n",
       "    .dataframe thead th {\n",
       "        text-align: right;\n",
       "    }\n",
       "</style>\n",
       "<table border=\"1\" class=\"dataframe\">\n",
       "  <thead>\n",
       "    <tr style=\"text-align: right;\">\n",
       "      <th></th>\n",
       "      <th>Invoice</th>\n",
       "      <th>StockCode</th>\n",
       "      <th>Description</th>\n",
       "      <th>Quantity</th>\n",
       "      <th>InvoiceDate</th>\n",
       "      <th>Price</th>\n",
       "      <th>Customer ID</th>\n",
       "      <th>Country</th>\n",
       "    </tr>\n",
       "  </thead>\n",
       "  <tbody>\n",
       "    <tr>\n",
       "      <th>0</th>\n",
       "      <td>489434</td>\n",
       "      <td>85048</td>\n",
       "      <td>15CM CHRISTMAS GLASS BALL 20 LIGHTS</td>\n",
       "      <td>12</td>\n",
       "      <td>2009-12-01 07:45:00</td>\n",
       "      <td>6.95</td>\n",
       "      <td>13085.0</td>\n",
       "      <td>United Kingdom</td>\n",
       "    </tr>\n",
       "    <tr>\n",
       "      <th>1</th>\n",
       "      <td>489434</td>\n",
       "      <td>79323P</td>\n",
       "      <td>PINK CHERRY LIGHTS</td>\n",
       "      <td>12</td>\n",
       "      <td>2009-12-01 07:45:00</td>\n",
       "      <td>6.75</td>\n",
       "      <td>13085.0</td>\n",
       "      <td>United Kingdom</td>\n",
       "    </tr>\n",
       "    <tr>\n",
       "      <th>2</th>\n",
       "      <td>489434</td>\n",
       "      <td>79323W</td>\n",
       "      <td>WHITE CHERRY LIGHTS</td>\n",
       "      <td>12</td>\n",
       "      <td>2009-12-01 07:45:00</td>\n",
       "      <td>6.75</td>\n",
       "      <td>13085.0</td>\n",
       "      <td>United Kingdom</td>\n",
       "    </tr>\n",
       "    <tr>\n",
       "      <th>3</th>\n",
       "      <td>489434</td>\n",
       "      <td>22041</td>\n",
       "      <td>RECORD FRAME 7\" SINGLE SIZE</td>\n",
       "      <td>48</td>\n",
       "      <td>2009-12-01 07:45:00</td>\n",
       "      <td>2.10</td>\n",
       "      <td>13085.0</td>\n",
       "      <td>United Kingdom</td>\n",
       "    </tr>\n",
       "    <tr>\n",
       "      <th>4</th>\n",
       "      <td>489434</td>\n",
       "      <td>21232</td>\n",
       "      <td>STRAWBERRY CERAMIC TRINKET BOX</td>\n",
       "      <td>24</td>\n",
       "      <td>2009-12-01 07:45:00</td>\n",
       "      <td>1.25</td>\n",
       "      <td>13085.0</td>\n",
       "      <td>United Kingdom</td>\n",
       "    </tr>\n",
       "  </tbody>\n",
       "</table>\n",
       "</div>"
      ],
      "text/plain": [
       "  Invoice StockCode                          Description  Quantity  \\\n",
       "0  489434     85048  15CM CHRISTMAS GLASS BALL 20 LIGHTS        12   \n",
       "1  489434    79323P                   PINK CHERRY LIGHTS        12   \n",
       "2  489434    79323W                  WHITE CHERRY LIGHTS        12   \n",
       "3  489434     22041         RECORD FRAME 7\" SINGLE SIZE         48   \n",
       "4  489434     21232       STRAWBERRY CERAMIC TRINKET BOX        24   \n",
       "\n",
       "          InvoiceDate  Price  Customer ID         Country  \n",
       "0 2009-12-01 07:45:00   6.95      13085.0  United Kingdom  \n",
       "1 2009-12-01 07:45:00   6.75      13085.0  United Kingdom  \n",
       "2 2009-12-01 07:45:00   6.75      13085.0  United Kingdom  \n",
       "3 2009-12-01 07:45:00   2.10      13085.0  United Kingdom  \n",
       "4 2009-12-01 07:45:00   1.25      13085.0  United Kingdom  "
      ]
     },
     "execution_count": 103,
     "metadata": {},
     "output_type": "execute_result"
    }
   ],
   "source": [
    "# Now drop the 'CIDxSC Summed Quantity' column: its only utility was for dropping the negative summed quantities\n",
    "df.drop(['CIDxSC Summed Quantity'], axis=1, inplace=True)\n",
    "df.head()"
   ]
  },
  {
   "cell_type": "code",
   "execution_count": 97,
   "id": "3e8041b5",
   "metadata": {},
   "outputs": [],
   "source": [
    "#len(df[df[\"Invoice\"].str.contains(\"C\")])"
   ]
  },
  {
   "cell_type": "code",
   "execution_count": 98,
   "id": "ba3dc910",
   "metadata": {
    "scrolled": true
   },
   "outputs": [],
   "source": [
    "#df_price_positive = df2[df2[\"Price\"] >= 0.0]"
   ]
  },
  {
   "cell_type": "code",
   "execution_count": 99,
   "id": "c09b7a5d",
   "metadata": {
    "scrolled": true
   },
   "outputs": [],
   "source": [
    "#df_price_negative = df2[df2[\"Price\"] < 0.0]"
   ]
  },
  {
   "cell_type": "code",
   "execution_count": 100,
   "id": "5d130bef",
   "metadata": {},
   "outputs": [],
   "source": [
    "# We concatenate the two DataFrames.\n",
    "#df_nnz_prices = pd.concat([df_price_positive, df_price_negative])"
   ]
  },
  {
   "cell_type": "code",
   "execution_count": 101,
   "id": "46a7344f",
   "metadata": {},
   "outputs": [],
   "source": [
    "# Convert InvoiceDate column to datetime format\n",
    "#df3[\"InvoiceDate\"] = pd.to_datetime(df3[\"InvoiceDate\"])\n",
    "\n",
    "# Create Month column\n",
    "#df3[\"Month\"] = df3[\"InvoiceDate\"].dt.strftime(\"%B\")\n",
    "\n",
    "# Create TotalAmount column\n",
    "#df3[\"TotalAmount\"] = df3[\"Price\"] * df3[\"Quantity\"] "
   ]
  }
 ],
 "metadata": {
  "kernelspec": {
   "display_name": "Python 3 (ipykernel)",
   "language": "python",
   "name": "python3"
  },
  "language_info": {
   "codemirror_mode": {
    "name": "ipython",
    "version": 3
   },
   "file_extension": ".py",
   "mimetype": "text/x-python",
   "name": "python",
   "nbconvert_exporter": "python",
   "pygments_lexer": "ipython3",
   "version": "3.9.12"
  }
 },
 "nbformat": 4,
 "nbformat_minor": 5
}
