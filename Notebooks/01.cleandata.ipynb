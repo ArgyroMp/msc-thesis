{
 "cells": [
  {
   "cell_type": "markdown",
   "id": "c0856b78",
   "metadata": {},
   "source": [
    "## Data Cleaning"
   ]
  },
  {
   "cell_type": "code",
   "execution_count": 456,
   "id": "a0b86c09",
   "metadata": {},
   "outputs": [],
   "source": [
    "# Import libraries\n",
    "import numpy as np \n",
    "import pandas as pd \n",
    "import datetime as dt\n",
    "import matplotlib.pyplot as plt \n",
    "from IPython.display import display\n",
    "from collections import defaultdict"
   ]
  },
  {
   "cell_type": "code",
   "execution_count": 457,
   "id": "9add78fc",
   "metadata": {
    "scrolled": true
   },
   "outputs": [
    {
     "data": {
      "text/plain": [
       "(1067371, 8)"
      ]
     },
     "execution_count": 457,
     "metadata": {},
     "output_type": "execute_result"
    }
   ],
   "source": [
    "# Merge τα δύο spreadsheets\n",
    "df1_raw = pd.read_excel(\"online_retail_II.xlsx\", sheet_name = \"Year 2009-2010\")\n",
    "df1_raw.reset_index()\n",
    "df2_raw = pd.read_excel(\"online_retail_II.xlsx\", sheet_name = \"Year 2010-2011\")\n",
    "df_raw = pd.concat([df1_raw, df2_raw])\n",
    "df_raw.shape"
   ]
  },
  {
   "cell_type": "code",
   "execution_count": 458,
   "id": "c25fac65",
   "metadata": {},
   "outputs": [
    {
     "data": {
      "text/plain": [
       "(1044848, 8)"
      ]
     },
     "execution_count": 458,
     "metadata": {},
     "output_type": "execute_result"
    }
   ],
   "source": [
    "# Remove 9 days overlap\n",
    "df = pd.concat([df1_raw[df1_raw[\"InvoiceDate\"] < df2_raw_start_date], df2_raw])\n",
    "df.shape "
   ]
  },
  {
   "cell_type": "code",
   "execution_count": 459,
   "id": "7cc779f3",
   "metadata": {},
   "outputs": [
    {
     "data": {
      "text/plain": [
       "(1044848, 8)"
      ]
     },
     "execution_count": 459,
     "metadata": {},
     "output_type": "execute_result"
    }
   ],
   "source": [
    "# Column datatype conversions: Invoice to string \n",
    "df[\"Invoice\"] = df[\"Invoice\"].astype(str)\n",
    "df.shape"
   ]
  },
  {
   "cell_type": "code",
   "execution_count": 460,
   "id": "673db691",
   "metadata": {},
   "outputs": [
    {
     "data": {
      "text/plain": [
       "(1044848, 8)"
      ]
     },
     "execution_count": 460,
     "metadata": {},
     "output_type": "execute_result"
    }
   ],
   "source": [
    "# Column datatype conversions: StockCode to string, uppercase letters, substract blank space from value names\n",
    "df['StockCode'] = df['StockCode'].astype(str).str.upper().str.strip()\n",
    "df.shape"
   ]
  },
  {
   "cell_type": "code",
   "execution_count": 461,
   "id": "be73d7d3",
   "metadata": {},
   "outputs": [
    {
     "data": {
      "text/plain": [
       "(1044848, 8)"
      ]
     },
     "execution_count": 461,
     "metadata": {},
     "output_type": "execute_result"
    }
   ],
   "source": [
    "# Drop missing values in Customer ID (235 287)\n",
    "df = df.dropna(subset = [\"Customer ID\"])\n",
    "df.shape"
   ]
  },
  {
   "cell_type": "code",
   "execution_count": 462,
   "id": "8faf7486",
   "metadata": {},
   "outputs": [],
   "source": [
    "#duplicated = df[df.duplicated(keep = 'first')]\n",
    "#duplicated\n",
    "#df = df.drop_duplicates()\n",
    "#df.shape"
   ]
  },
  {
   "cell_type": "code",
   "execution_count": 463,
   "id": "30fac316",
   "metadata": {
    "scrolled": true
   },
   "outputs": [
    {
     "data": {
      "text/plain": [
       "22557"
      ]
     },
     "execution_count": 463,
     "metadata": {},
     "output_type": "execute_result"
    }
   ],
   "source": [
    "len(df[df[\"Quantity\"] < 0])"
   ]
  },
  {
   "cell_type": "code",
   "execution_count": 464,
   "id": "77db81b0",
   "metadata": {},
   "outputs": [
    {
     "data": {
      "text/html": [
       "<div>\n",
       "<style scoped>\n",
       "    .dataframe tbody tr th:only-of-type {\n",
       "        vertical-align: middle;\n",
       "    }\n",
       "\n",
       "    .dataframe tbody tr th {\n",
       "        vertical-align: top;\n",
       "    }\n",
       "\n",
       "    .dataframe thead th {\n",
       "        text-align: right;\n",
       "    }\n",
       "</style>\n",
       "<table border=\"1\" class=\"dataframe\">\n",
       "  <thead>\n",
       "    <tr style=\"text-align: right;\">\n",
       "      <th></th>\n",
       "      <th></th>\n",
       "      <th>Quantity</th>\n",
       "    </tr>\n",
       "    <tr>\n",
       "      <th>Customer ID</th>\n",
       "      <th>StockCode</th>\n",
       "      <th></th>\n",
       "    </tr>\n",
       "  </thead>\n",
       "  <tbody>\n",
       "    <tr>\n",
       "      <th rowspan=\"30\" valign=\"top\">12346.0</th>\n",
       "      <th>15056BL</th>\n",
       "      <td>1</td>\n",
       "    </tr>\n",
       "    <tr>\n",
       "      <th>15056N</th>\n",
       "      <td>1</td>\n",
       "    </tr>\n",
       "    <tr>\n",
       "      <th>15056P</th>\n",
       "      <td>1</td>\n",
       "    </tr>\n",
       "    <tr>\n",
       "      <th>20679</th>\n",
       "      <td>1</td>\n",
       "    </tr>\n",
       "    <tr>\n",
       "      <th>20682</th>\n",
       "      <td>1</td>\n",
       "    </tr>\n",
       "    <tr>\n",
       "      <th>20685</th>\n",
       "      <td>1</td>\n",
       "    </tr>\n",
       "    <tr>\n",
       "      <th>21523</th>\n",
       "      <td>1</td>\n",
       "    </tr>\n",
       "    <tr>\n",
       "      <th>21524</th>\n",
       "      <td>1</td>\n",
       "    </tr>\n",
       "    <tr>\n",
       "      <th>21955</th>\n",
       "      <td>1</td>\n",
       "    </tr>\n",
       "    <tr>\n",
       "      <th>22365</th>\n",
       "      <td>1</td>\n",
       "    </tr>\n",
       "    <tr>\n",
       "      <th>22366</th>\n",
       "      <td>1</td>\n",
       "    </tr>\n",
       "    <tr>\n",
       "      <th>22660</th>\n",
       "      <td>1</td>\n",
       "    </tr>\n",
       "    <tr>\n",
       "      <th>22687</th>\n",
       "      <td>1</td>\n",
       "    </tr>\n",
       "    <tr>\n",
       "      <th>22688</th>\n",
       "      <td>1</td>\n",
       "    </tr>\n",
       "    <tr>\n",
       "      <th>22689</th>\n",
       "      <td>1</td>\n",
       "    </tr>\n",
       "    <tr>\n",
       "      <th>22690</th>\n",
       "      <td>1</td>\n",
       "    </tr>\n",
       "    <tr>\n",
       "      <th>22691</th>\n",
       "      <td>1</td>\n",
       "    </tr>\n",
       "    <tr>\n",
       "      <th>22692</th>\n",
       "      <td>1</td>\n",
       "    </tr>\n",
       "    <tr>\n",
       "      <th>23166</th>\n",
       "      <td>0</td>\n",
       "    </tr>\n",
       "    <tr>\n",
       "      <th>48111</th>\n",
       "      <td>1</td>\n",
       "    </tr>\n",
       "    <tr>\n",
       "      <th>48138</th>\n",
       "      <td>1</td>\n",
       "    </tr>\n",
       "    <tr>\n",
       "      <th>48173C</th>\n",
       "      <td>1</td>\n",
       "    </tr>\n",
       "    <tr>\n",
       "      <th>48185</th>\n",
       "      <td>1</td>\n",
       "    </tr>\n",
       "    <tr>\n",
       "      <th>48187</th>\n",
       "      <td>1</td>\n",
       "    </tr>\n",
       "    <tr>\n",
       "      <th>48188</th>\n",
       "      <td>1</td>\n",
       "    </tr>\n",
       "    <tr>\n",
       "      <th>ADJUST</th>\n",
       "      <td>-1</td>\n",
       "    </tr>\n",
       "    <tr>\n",
       "      <th>D</th>\n",
       "      <td>-1</td>\n",
       "    </tr>\n",
       "    <tr>\n",
       "      <th>M</th>\n",
       "      <td>-15</td>\n",
       "    </tr>\n",
       "    <tr>\n",
       "      <th>TEST001</th>\n",
       "      <td>44</td>\n",
       "    </tr>\n",
       "    <tr>\n",
       "      <th>TEST002</th>\n",
       "      <td>1</td>\n",
       "    </tr>\n",
       "  </tbody>\n",
       "</table>\n",
       "</div>"
      ],
      "text/plain": [
       "                       Quantity\n",
       "Customer ID StockCode          \n",
       "12346.0     15056BL           1\n",
       "            15056N            1\n",
       "            15056P            1\n",
       "            20679             1\n",
       "            20682             1\n",
       "            20685             1\n",
       "            21523             1\n",
       "            21524             1\n",
       "            21955             1\n",
       "            22365             1\n",
       "            22366             1\n",
       "            22660             1\n",
       "            22687             1\n",
       "            22688             1\n",
       "            22689             1\n",
       "            22690             1\n",
       "            22691             1\n",
       "            22692             1\n",
       "            23166             0\n",
       "            48111             1\n",
       "            48138             1\n",
       "            48173C            1\n",
       "            48185             1\n",
       "            48187             1\n",
       "            48188             1\n",
       "            ADJUST           -1\n",
       "            D                -1\n",
       "            M               -15\n",
       "            TEST001          44\n",
       "            TEST002           1"
      ]
     },
     "execution_count": 464,
     "metadata": {},
     "output_type": "execute_result"
    }
   ],
   "source": [
    "df2=df.groupby(['Customer ID', 'StockCode'])['Quantity'].sum()\n",
    "df2 = pd.DataFrame(df2)\n",
    "df2.head(30)"
   ]
  },
  {
   "cell_type": "code",
   "execution_count": 465,
   "id": "8e54f91d",
   "metadata": {},
   "outputs": [
    {
     "data": {
      "text/plain": [
       "481740"
      ]
     },
     "execution_count": 465,
     "metadata": {},
     "output_type": "execute_result"
    }
   ],
   "source": [
    "len(df2[df2[\"Quantity\"] >= 0])"
   ]
  },
  {
   "cell_type": "code",
   "execution_count": 466,
   "id": "5dcb6d43",
   "metadata": {},
   "outputs": [
    {
     "data": {
      "text/plain": [
       "MultiIndex([(12346.0, 'ADJUST'),\n",
       "            (12346.0,      'D'),\n",
       "            (12346.0,      'M'),\n",
       "            (12349.0,  '20747'),\n",
       "            (12382.0, 'ADJUST'),\n",
       "            (12421.0,      'M'),\n",
       "            (12424.0,  '21125'),\n",
       "            (12424.0,  '22220'),\n",
       "            (12433.0,      'M'),\n",
       "            (12437.0,  '22325'),\n",
       "            ...\n",
       "            (18223.0,   'POST'),\n",
       "            (18226.0,   'POST'),\n",
       "            (18247.0,  '22281'),\n",
       "            (18248.0,  '21314'),\n",
       "            (18257.0,   'POST'),\n",
       "            (18267.0,  '21380'),\n",
       "            (18270.0,   'POST'),\n",
       "            (18277.0,      'D'),\n",
       "            (18286.0, '79323B'),\n",
       "            (18287.0,  '22301')],\n",
       "           names=['Customer ID', 'StockCode'], length=1492)"
      ]
     },
     "execution_count": 466,
     "metadata": {},
     "output_type": "execute_result"
    }
   ],
   "source": [
    "df3 = df2[df2[\"Quantity\"] < 0]\n",
    "df3.index"
   ]
  },
  {
   "cell_type": "code",
   "execution_count": 467,
   "id": "1681900c",
   "metadata": {},
   "outputs": [
    {
     "data": {
      "text/html": [
       "<div>\n",
       "<style scoped>\n",
       "    .dataframe tbody tr th:only-of-type {\n",
       "        vertical-align: middle;\n",
       "    }\n",
       "\n",
       "    .dataframe tbody tr th {\n",
       "        vertical-align: top;\n",
       "    }\n",
       "\n",
       "    .dataframe thead th {\n",
       "        text-align: right;\n",
       "    }\n",
       "</style>\n",
       "<table border=\"1\" class=\"dataframe\">\n",
       "  <thead>\n",
       "    <tr style=\"text-align: right;\">\n",
       "      <th></th>\n",
       "      <th></th>\n",
       "      <th>Quantity</th>\n",
       "    </tr>\n",
       "    <tr>\n",
       "      <th>Customer ID</th>\n",
       "      <th>StockCode</th>\n",
       "      <th></th>\n",
       "    </tr>\n",
       "  </thead>\n",
       "  <tbody>\n",
       "    <tr>\n",
       "      <th rowspan=\"3\" valign=\"top\">12346.0</th>\n",
       "      <th>ADJUST</th>\n",
       "      <td>-1</td>\n",
       "    </tr>\n",
       "    <tr>\n",
       "      <th>D</th>\n",
       "      <td>-1</td>\n",
       "    </tr>\n",
       "    <tr>\n",
       "      <th>M</th>\n",
       "      <td>-15</td>\n",
       "    </tr>\n",
       "    <tr>\n",
       "      <th>12349.0</th>\n",
       "      <th>20747</th>\n",
       "      <td>-1</td>\n",
       "    </tr>\n",
       "    <tr>\n",
       "      <th>12382.0</th>\n",
       "      <th>ADJUST</th>\n",
       "      <td>-1</td>\n",
       "    </tr>\n",
       "    <tr>\n",
       "      <th>12421.0</th>\n",
       "      <th>M</th>\n",
       "      <td>-1</td>\n",
       "    </tr>\n",
       "    <tr>\n",
       "      <th rowspan=\"2\" valign=\"top\">12424.0</th>\n",
       "      <th>21125</th>\n",
       "      <td>-1</td>\n",
       "    </tr>\n",
       "    <tr>\n",
       "      <th>22220</th>\n",
       "      <td>-3</td>\n",
       "    </tr>\n",
       "    <tr>\n",
       "      <th>12433.0</th>\n",
       "      <th>M</th>\n",
       "      <td>-1</td>\n",
       "    </tr>\n",
       "    <tr>\n",
       "      <th>12437.0</th>\n",
       "      <th>22325</th>\n",
       "      <td>-6</td>\n",
       "    </tr>\n",
       "    <tr>\n",
       "      <th>12454.0</th>\n",
       "      <th>ADJUST</th>\n",
       "      <td>-1</td>\n",
       "    </tr>\n",
       "    <tr>\n",
       "      <th>12463.0</th>\n",
       "      <th>37449</th>\n",
       "      <td>-1</td>\n",
       "    </tr>\n",
       "    <tr>\n",
       "      <th rowspan=\"3\" valign=\"top\">12468.0</th>\n",
       "      <th>22138</th>\n",
       "      <td>-1</td>\n",
       "    </tr>\n",
       "    <tr>\n",
       "      <th>35970</th>\n",
       "      <td>-1</td>\n",
       "    </tr>\n",
       "    <tr>\n",
       "      <th>47594B</th>\n",
       "      <td>-2</td>\n",
       "    </tr>\n",
       "    <tr>\n",
       "      <th>12471.0</th>\n",
       "      <th>22221</th>\n",
       "      <td>-1</td>\n",
       "    </tr>\n",
       "    <tr>\n",
       "      <th rowspan=\"4\" valign=\"top\">12472.0</th>\n",
       "      <th>21284</th>\n",
       "      <td>-12</td>\n",
       "    </tr>\n",
       "    <tr>\n",
       "      <th>21286</th>\n",
       "      <td>-12</td>\n",
       "    </tr>\n",
       "    <tr>\n",
       "      <th>22767</th>\n",
       "      <td>-2</td>\n",
       "    </tr>\n",
       "    <tr>\n",
       "      <th>85232B</th>\n",
       "      <td>-2</td>\n",
       "    </tr>\n",
       "    <tr>\n",
       "      <th>12474.0</th>\n",
       "      <th>22779</th>\n",
       "      <td>-10</td>\n",
       "    </tr>\n",
       "    <tr>\n",
       "      <th>12477.0</th>\n",
       "      <th>79191C</th>\n",
       "      <td>-1</td>\n",
       "    </tr>\n",
       "    <tr>\n",
       "      <th>12482.0</th>\n",
       "      <th>M</th>\n",
       "      <td>-1</td>\n",
       "    </tr>\n",
       "    <tr>\n",
       "      <th>12484.0</th>\n",
       "      <th>20870</th>\n",
       "      <td>-1</td>\n",
       "    </tr>\n",
       "    <tr>\n",
       "      <th>12487.0</th>\n",
       "      <th>21680</th>\n",
       "      <td>-30</td>\n",
       "    </tr>\n",
       "    <tr>\n",
       "      <th>12497.0</th>\n",
       "      <th>ADJUST</th>\n",
       "      <td>-1</td>\n",
       "    </tr>\n",
       "    <tr>\n",
       "      <th>12500.0</th>\n",
       "      <th>47504J</th>\n",
       "      <td>-1</td>\n",
       "    </tr>\n",
       "    <tr>\n",
       "      <th>12503.0</th>\n",
       "      <th>M</th>\n",
       "      <td>-1</td>\n",
       "    </tr>\n",
       "    <tr>\n",
       "      <th>12505.0</th>\n",
       "      <th>M</th>\n",
       "      <td>-1</td>\n",
       "    </tr>\n",
       "    <tr>\n",
       "      <th rowspan=\"2\" valign=\"top\">12525.0</th>\n",
       "      <th>21265</th>\n",
       "      <td>-1</td>\n",
       "    </tr>\n",
       "    <tr>\n",
       "      <th>21527</th>\n",
       "      <td>-1</td>\n",
       "    </tr>\n",
       "    <tr>\n",
       "      <th>12536.0</th>\n",
       "      <th>M</th>\n",
       "      <td>-20</td>\n",
       "    </tr>\n",
       "    <tr>\n",
       "      <th>12539.0</th>\n",
       "      <th>M</th>\n",
       "      <td>-1</td>\n",
       "    </tr>\n",
       "    <tr>\n",
       "      <th>12540.0</th>\n",
       "      <th>22486</th>\n",
       "      <td>-1</td>\n",
       "    </tr>\n",
       "    <tr>\n",
       "      <th>12560.0</th>\n",
       "      <th>22998</th>\n",
       "      <td>-24</td>\n",
       "    </tr>\n",
       "    <tr>\n",
       "      <th>12578.0</th>\n",
       "      <th>20980</th>\n",
       "      <td>-9</td>\n",
       "    </tr>\n",
       "    <tr>\n",
       "      <th rowspan=\"2\" valign=\"top\">12590.0</th>\n",
       "      <th>20914</th>\n",
       "      <td>-1</td>\n",
       "    </tr>\n",
       "    <tr>\n",
       "      <th>22312</th>\n",
       "      <td>-1</td>\n",
       "    </tr>\n",
       "    <tr>\n",
       "      <th>12592.0</th>\n",
       "      <th>M</th>\n",
       "      <td>-2</td>\n",
       "    </tr>\n",
       "    <tr>\n",
       "      <th>12600.0</th>\n",
       "      <th>M</th>\n",
       "      <td>-1</td>\n",
       "    </tr>\n",
       "  </tbody>\n",
       "</table>\n",
       "</div>"
      ],
      "text/plain": [
       "                       Quantity\n",
       "Customer ID StockCode          \n",
       "12346.0     ADJUST           -1\n",
       "            D                -1\n",
       "            M               -15\n",
       "12349.0     20747            -1\n",
       "12382.0     ADJUST           -1\n",
       "12421.0     M                -1\n",
       "12424.0     21125            -1\n",
       "            22220            -3\n",
       "12433.0     M                -1\n",
       "12437.0     22325            -6\n",
       "12454.0     ADJUST           -1\n",
       "12463.0     37449            -1\n",
       "12468.0     22138            -1\n",
       "            35970            -1\n",
       "            47594B           -2\n",
       "12471.0     22221            -1\n",
       "12472.0     21284           -12\n",
       "            21286           -12\n",
       "            22767            -2\n",
       "            85232B           -2\n",
       "12474.0     22779           -10\n",
       "12477.0     79191C           -1\n",
       "12482.0     M                -1\n",
       "12484.0     20870            -1\n",
       "12487.0     21680           -30\n",
       "12497.0     ADJUST           -1\n",
       "12500.0     47504J           -1\n",
       "12503.0     M                -1\n",
       "12505.0     M                -1\n",
       "12525.0     21265            -1\n",
       "            21527            -1\n",
       "12536.0     M               -20\n",
       "12539.0     M                -1\n",
       "12540.0     22486            -1\n",
       "12560.0     22998           -24\n",
       "12578.0     20980            -9\n",
       "12590.0     20914            -1\n",
       "            22312            -1\n",
       "12592.0     M                -2\n",
       "12600.0     M                -1"
      ]
     },
     "execution_count": 467,
     "metadata": {},
     "output_type": "execute_result"
    }
   ],
   "source": [
    "df3.head(40)"
   ]
  },
  {
   "cell_type": "code",
   "execution_count": 468,
   "id": "0ec5b7bd",
   "metadata": {},
   "outputs": [
    {
     "data": {
      "text/plain": [
       "1492"
      ]
     },
     "execution_count": 468,
     "metadata": {},
     "output_type": "execute_result"
    }
   ],
   "source": [
    "len(df2[df2[\"Quantity\"] < 0])"
   ]
  },
  {
   "cell_type": "code",
   "execution_count": 469,
   "id": "5b72437d",
   "metadata": {},
   "outputs": [],
   "source": [
    "# drop works for df2 but not original df\n",
    "df_test=df2.copy()\n",
    "df_test.drop(df3.index, inplace = True)"
   ]
  },
  {
   "cell_type": "code",
   "execution_count": 470,
   "id": "96681acc",
   "metadata": {},
   "outputs": [
    {
     "data": {
      "text/plain": [
       "20629"
      ]
     },
     "execution_count": 470,
     "metadata": {},
     "output_type": "execute_result"
    }
   ],
   "source": [
    "df_test=df.copy()\n",
    "df_test.set_index(['Customer ID', 'StockCode'], inplace = True, drop=False)\n",
    "#df_test.index\n",
    "df_test.drop(df3.index, inplace = True)\n",
    "len(df_test[df_test[\"Quantity\"] < 0])"
   ]
  },
  {
   "cell_type": "code",
   "execution_count": 471,
   "id": "3e8041b5",
   "metadata": {},
   "outputs": [],
   "source": [
    "#len(df[df[\"Invoice\"].str.contains(\"C\")])"
   ]
  },
  {
   "cell_type": "code",
   "execution_count": 472,
   "id": "ba3dc910",
   "metadata": {
    "scrolled": true
   },
   "outputs": [],
   "source": [
    "#df_price_positive = df2[df2[\"Price\"] >= 0.0]"
   ]
  },
  {
   "cell_type": "code",
   "execution_count": 473,
   "id": "c09b7a5d",
   "metadata": {
    "scrolled": true
   },
   "outputs": [],
   "source": [
    "#df_price_negative = df2[df2[\"Price\"] < 0.0]"
   ]
  },
  {
   "cell_type": "code",
   "execution_count": 474,
   "id": "5d130bef",
   "metadata": {},
   "outputs": [],
   "source": [
    "# We concatenate the two DataFrames.\n",
    "#df_nnz_prices = pd.concat([df_price_positive, df_price_negative])"
   ]
  },
  {
   "cell_type": "code",
   "execution_count": 475,
   "id": "46a7344f",
   "metadata": {},
   "outputs": [],
   "source": [
    "# Convert InvoiceDate column to datetime format\n",
    "#df3[\"InvoiceDate\"] = pd.to_datetime(df3[\"InvoiceDate\"])\n",
    "\n",
    "# Create Month column\n",
    "#df3[\"Month\"] = df3[\"InvoiceDate\"].dt.strftime(\"%B\")\n",
    "\n",
    "# Create TotalAmount column\n",
    "#df3[\"TotalAmount\"] = df3[\"Price\"] * df3[\"Quantity\"] "
   ]
  }
 ],
 "metadata": {
  "kernelspec": {
   "display_name": "Python 3 (ipykernel)",
   "language": "python",
   "name": "python3"
  },
  "language_info": {
   "codemirror_mode": {
    "name": "ipython",
    "version": 3
   },
   "file_extension": ".py",
   "mimetype": "text/x-python",
   "name": "python",
   "nbconvert_exporter": "python",
   "pygments_lexer": "ipython3",
   "version": "3.9.12"
  }
 },
 "nbformat": 4,
 "nbformat_minor": 5
}
