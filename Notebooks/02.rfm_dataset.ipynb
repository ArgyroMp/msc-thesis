{
 "cells": [
  {
   "cell_type": "markdown",
   "id": "c6fd9040",
   "metadata": {},
   "source": [
    "## Create RFM dataset"
   ]
  },
  {
   "cell_type": "code",
   "execution_count": 165,
   "id": "7202e36f",
   "metadata": {},
   "outputs": [],
   "source": [
    "# Import libraries\n",
    "import numpy as np \n",
    "import pandas as pd\n",
    "import datetime as dt\n",
    "import matplotlib.pyplot as plt\n",
    "# from sklearn.preprocessing import StandardScaler  <--  this is to normalize data before applying Kmeans\n",
    "from sklearn.cluster import KMeans"
   ]
  },
  {
   "cell_type": "code",
   "execution_count": 166,
   "id": "1e57fe3c",
   "metadata": {},
   "outputs": [
    {
     "data": {
      "text/html": [
       "<div>\n",
       "<style scoped>\n",
       "    .dataframe tbody tr th:only-of-type {\n",
       "        vertical-align: middle;\n",
       "    }\n",
       "\n",
       "    .dataframe tbody tr th {\n",
       "        vertical-align: top;\n",
       "    }\n",
       "\n",
       "    .dataframe thead th {\n",
       "        text-align: right;\n",
       "    }\n",
       "</style>\n",
       "<table border=\"1\" class=\"dataframe\">\n",
       "  <thead>\n",
       "    <tr style=\"text-align: right;\">\n",
       "      <th></th>\n",
       "      <th>Invoice</th>\n",
       "      <th>StockCode</th>\n",
       "      <th>Description</th>\n",
       "      <th>Quantity</th>\n",
       "      <th>InvoiceDate</th>\n",
       "      <th>Price</th>\n",
       "      <th>Customer ID</th>\n",
       "      <th>Country</th>\n",
       "    </tr>\n",
       "  </thead>\n",
       "  <tbody>\n",
       "    <tr>\n",
       "      <th>0</th>\n",
       "      <td>489434</td>\n",
       "      <td>85048</td>\n",
       "      <td>15CM CHRISTMAS GLASS BALL 20 LIGHTS</td>\n",
       "      <td>12</td>\n",
       "      <td>2009-12-01</td>\n",
       "      <td>6.95</td>\n",
       "      <td>13085</td>\n",
       "      <td>United Kingdom</td>\n",
       "    </tr>\n",
       "    <tr>\n",
       "      <th>1</th>\n",
       "      <td>489434</td>\n",
       "      <td>79323P</td>\n",
       "      <td>PINK CHERRY LIGHTS</td>\n",
       "      <td>12</td>\n",
       "      <td>2009-12-01</td>\n",
       "      <td>6.75</td>\n",
       "      <td>13085</td>\n",
       "      <td>United Kingdom</td>\n",
       "    </tr>\n",
       "    <tr>\n",
       "      <th>2</th>\n",
       "      <td>489434</td>\n",
       "      <td>79323W</td>\n",
       "      <td>WHITE CHERRY LIGHTS</td>\n",
       "      <td>12</td>\n",
       "      <td>2009-12-01</td>\n",
       "      <td>6.75</td>\n",
       "      <td>13085</td>\n",
       "      <td>United Kingdom</td>\n",
       "    </tr>\n",
       "    <tr>\n",
       "      <th>3</th>\n",
       "      <td>489434</td>\n",
       "      <td>22041</td>\n",
       "      <td>RECORD FRAME 7\" SINGLE SIZE</td>\n",
       "      <td>48</td>\n",
       "      <td>2009-12-01</td>\n",
       "      <td>2.10</td>\n",
       "      <td>13085</td>\n",
       "      <td>United Kingdom</td>\n",
       "    </tr>\n",
       "    <tr>\n",
       "      <th>4</th>\n",
       "      <td>489434</td>\n",
       "      <td>21232</td>\n",
       "      <td>STRAWBERRY CERAMIC TRINKET BOX</td>\n",
       "      <td>24</td>\n",
       "      <td>2009-12-01</td>\n",
       "      <td>1.25</td>\n",
       "      <td>13085</td>\n",
       "      <td>United Kingdom</td>\n",
       "    </tr>\n",
       "  </tbody>\n",
       "</table>\n",
       "</div>"
      ],
      "text/plain": [
       "  Invoice StockCode                          Description  Quantity  \\\n",
       "0  489434     85048  15CM CHRISTMAS GLASS BALL 20 LIGHTS        12   \n",
       "1  489434    79323P                   PINK CHERRY LIGHTS        12   \n",
       "2  489434    79323W                  WHITE CHERRY LIGHTS        12   \n",
       "3  489434     22041         RECORD FRAME 7\" SINGLE SIZE         48   \n",
       "4  489434     21232       STRAWBERRY CERAMIC TRINKET BOX        24   \n",
       "\n",
       "  InvoiceDate  Price  Customer ID         Country  \n",
       "0  2009-12-01   6.95        13085  United Kingdom  \n",
       "1  2009-12-01   6.75        13085  United Kingdom  \n",
       "2  2009-12-01   6.75        13085  United Kingdom  \n",
       "3  2009-12-01   2.10        13085  United Kingdom  \n",
       "4  2009-12-01   1.25        13085  United Kingdom  "
      ]
     },
     "execution_count": 166,
     "metadata": {},
     "output_type": "execute_result"
    }
   ],
   "source": [
    "# Import clean_data\n",
    "customer_data = pd.read_excel(r'C:\\Users\\argyr\\OneDrive\\Υπολογιστής\\Diplvm\\Giftware dataset\\clean_data.xlsx')\n",
    "customer_data.head()"
   ]
  },
  {
   "cell_type": "code",
   "execution_count": 167,
   "id": "4df8d4ae",
   "metadata": {},
   "outputs": [
    {
     "data": {
      "text/plain": [
       "(800909, 8)"
      ]
     },
     "execution_count": 167,
     "metadata": {},
     "output_type": "execute_result"
    }
   ],
   "source": [
    "customer_data.shape"
   ]
  },
  {
   "cell_type": "code",
   "execution_count": 168,
   "id": "63c5af98",
   "metadata": {},
   "outputs": [],
   "source": [
    "# In order to calculate the monetary value for each customer we first need to create 'TotalValue' column\n",
    "customer_data[\"TotalValue\"] = customer_data[\"Quantity\"] * customer_data[\"Price\"]"
   ]
  },
  {
   "cell_type": "code",
   "execution_count": 169,
   "id": "0b38ea61",
   "metadata": {},
   "outputs": [
    {
     "name": "stdout",
     "output_type": "stream",
     "text": [
      "2011-12-09 00:00:00\n"
     ]
    }
   ],
   "source": [
    "# In order to calculate the recency value we need to find out which was the last transaction date\n",
    "last_transaction_date = customer_data[\"InvoiceDate\"].max()\n",
    "print(last_transaction_date)"
   ]
  },
  {
   "cell_type": "code",
   "execution_count": 170,
   "id": "29b0236b",
   "metadata": {
    "scrolled": true
   },
   "outputs": [],
   "source": [
    "# Set date 12/10/20211, which is one day after the last transaction date, as today_date\n",
    "today_date = dt.datetime(2011,12,10)"
   ]
  },
  {
   "cell_type": "code",
   "execution_count": 176,
   "id": "bf52db64",
   "metadata": {},
   "outputs": [
    {
     "data": {
      "text/html": [
       "<div>\n",
       "<style scoped>\n",
       "    .dataframe tbody tr th:only-of-type {\n",
       "        vertical-align: middle;\n",
       "    }\n",
       "\n",
       "    .dataframe tbody tr th {\n",
       "        vertical-align: top;\n",
       "    }\n",
       "\n",
       "    .dataframe thead th {\n",
       "        text-align: right;\n",
       "    }\n",
       "</style>\n",
       "<table border=\"1\" class=\"dataframe\">\n",
       "  <thead>\n",
       "    <tr style=\"text-align: right;\">\n",
       "      <th></th>\n",
       "      <th>Customer ID</th>\n",
       "      <th>InvoiceDate</th>\n",
       "      <th>Invoice</th>\n",
       "      <th>TotalValue</th>\n",
       "    </tr>\n",
       "  </thead>\n",
       "  <tbody>\n",
       "    <tr>\n",
       "      <th>0</th>\n",
       "      <td>12346</td>\n",
       "      <td>432</td>\n",
       "      <td>34</td>\n",
       "      <td>368.36</td>\n",
       "    </tr>\n",
       "    <tr>\n",
       "      <th>1</th>\n",
       "      <td>12347</td>\n",
       "      <td>3</td>\n",
       "      <td>222</td>\n",
       "      <td>4921.53</td>\n",
       "    </tr>\n",
       "    <tr>\n",
       "      <th>2</th>\n",
       "      <td>12348</td>\n",
       "      <td>76</td>\n",
       "      <td>51</td>\n",
       "      <td>2019.40</td>\n",
       "    </tr>\n",
       "    <tr>\n",
       "      <th>3</th>\n",
       "      <td>12349</td>\n",
       "      <td>19</td>\n",
       "      <td>179</td>\n",
       "      <td>4419.49</td>\n",
       "    </tr>\n",
       "    <tr>\n",
       "      <th>4</th>\n",
       "      <td>12350</td>\n",
       "      <td>311</td>\n",
       "      <td>17</td>\n",
       "      <td>334.40</td>\n",
       "    </tr>\n",
       "  </tbody>\n",
       "</table>\n",
       "</div>"
      ],
      "text/plain": [
       "   Customer ID  InvoiceDate  Invoice  TotalValue\n",
       "0        12346          432       34      368.36\n",
       "1        12347            3      222     4921.53\n",
       "2        12348           76       51     2019.40\n",
       "3        12349           19      179     4419.49\n",
       "4        12350          311       17      334.40"
      ]
     },
     "execution_count": 176,
     "metadata": {},
     "output_type": "execute_result"
    }
   ],
   "source": [
    "# Group by Customer ID and calculate RFM values\n",
    "rfm = customer_data.groupby([\"Customer ID\"], as_index=False).agg(\n",
    "                            {\"InvoiceDate\": lambda x :(today_date-x.max()).days,\n",
    "                               \"Invoice\": lambda x : x.count(),\n",
    "                               \"TotalValue\":lambda x : x.sum()})\n",
    "rfm.head()"
   ]
  },
  {
   "cell_type": "code",
   "execution_count": 177,
   "id": "e161982d",
   "metadata": {},
   "outputs": [],
   "source": [
    "#rfm[\"TotalValue\"] = rfm[\"TotalValue\"] / rfm[\"Quantity\"]"
   ]
  },
  {
   "cell_type": "code",
   "execution_count": 178,
   "id": "e5071cbd",
   "metadata": {},
   "outputs": [
    {
     "data": {
      "text/html": [
       "<div>\n",
       "<style scoped>\n",
       "    .dataframe tbody tr th:only-of-type {\n",
       "        vertical-align: middle;\n",
       "    }\n",
       "\n",
       "    .dataframe tbody tr th {\n",
       "        vertical-align: top;\n",
       "    }\n",
       "\n",
       "    .dataframe thead th {\n",
       "        text-align: right;\n",
       "    }\n",
       "</style>\n",
       "<table border=\"1\" class=\"dataframe\">\n",
       "  <thead>\n",
       "    <tr style=\"text-align: right;\">\n",
       "      <th></th>\n",
       "      <th>Customer ID</th>\n",
       "      <th>Recency</th>\n",
       "      <th>Frequency</th>\n",
       "      <th>Monetary</th>\n",
       "    </tr>\n",
       "  </thead>\n",
       "  <tbody>\n",
       "    <tr>\n",
       "      <th>0</th>\n",
       "      <td>12346</td>\n",
       "      <td>432</td>\n",
       "      <td>34</td>\n",
       "      <td>368.36</td>\n",
       "    </tr>\n",
       "    <tr>\n",
       "      <th>1</th>\n",
       "      <td>12347</td>\n",
       "      <td>3</td>\n",
       "      <td>222</td>\n",
       "      <td>4921.53</td>\n",
       "    </tr>\n",
       "    <tr>\n",
       "      <th>2</th>\n",
       "      <td>12348</td>\n",
       "      <td>76</td>\n",
       "      <td>51</td>\n",
       "      <td>2019.40</td>\n",
       "    </tr>\n",
       "    <tr>\n",
       "      <th>3</th>\n",
       "      <td>12349</td>\n",
       "      <td>19</td>\n",
       "      <td>179</td>\n",
       "      <td>4419.49</td>\n",
       "    </tr>\n",
       "    <tr>\n",
       "      <th>4</th>\n",
       "      <td>12350</td>\n",
       "      <td>311</td>\n",
       "      <td>17</td>\n",
       "      <td>334.40</td>\n",
       "    </tr>\n",
       "  </tbody>\n",
       "</table>\n",
       "</div>"
      ],
      "text/plain": [
       "   Customer ID  Recency  Frequency  Monetary\n",
       "0        12346      432         34    368.36\n",
       "1        12347        3        222   4921.53\n",
       "2        12348       76         51   2019.40\n",
       "3        12349       19        179   4419.49\n",
       "4        12350      311         17    334.40"
      ]
     },
     "execution_count": 178,
     "metadata": {},
     "output_type": "execute_result"
    }
   ],
   "source": [
    "# Rename columns accordingly\n",
    "rfm.columns = [\"Customer ID\", \"Recency\", \"Frequency\", \"Monetary\"]\n",
    "rfm.head()"
   ]
  },
  {
   "cell_type": "code",
   "execution_count": 179,
   "id": "3c676d6e",
   "metadata": {},
   "outputs": [],
   "source": [
    "rfm[\"Recency\"] = rfm[\"Recency\"].astype(float)\n",
    "rfm[\"Frequency\"] = rfm[\"Frequency\"].astype(float)\n",
    "rfm[\"Monetary\"] = rfm[\"Monetary\"].astype(float).round(2)"
   ]
  },
  {
   "cell_type": "code",
   "execution_count": 180,
   "id": "21f73a6c",
   "metadata": {},
   "outputs": [
    {
     "data": {
      "text/plain": [
       "(5848, 4)"
      ]
     },
     "execution_count": 180,
     "metadata": {},
     "output_type": "execute_result"
    }
   ],
   "source": [
    "rfm.shape"
   ]
  },
  {
   "cell_type": "code",
   "execution_count": 181,
   "id": "08bc351c",
   "metadata": {},
   "outputs": [],
   "source": [
    "rfm_values = rfm.to_csv(r'C:\\Users\\argyr\\OneDrive\\Υπολογιστής\\Diplvm\\Giftware dataset\\rfm_values.csv', index=False)"
   ]
  },
  {
   "cell_type": "markdown",
   "id": "7987c3ef",
   "metadata": {},
   "source": [
    "### Create RFM score"
   ]
  },
  {
   "cell_type": "code",
   "execution_count": 182,
   "id": "0e2734a6",
   "metadata": {},
   "outputs": [
    {
     "data": {
      "text/html": [
       "<div>\n",
       "<style scoped>\n",
       "    .dataframe tbody tr th:only-of-type {\n",
       "        vertical-align: middle;\n",
       "    }\n",
       "\n",
       "    .dataframe tbody tr th {\n",
       "        vertical-align: top;\n",
       "    }\n",
       "\n",
       "    .dataframe thead th {\n",
       "        text-align: right;\n",
       "    }\n",
       "</style>\n",
       "<table border=\"1\" class=\"dataframe\">\n",
       "  <thead>\n",
       "    <tr style=\"text-align: right;\">\n",
       "      <th></th>\n",
       "      <th>Customer ID</th>\n",
       "      <th>Recency</th>\n",
       "      <th>Frequency</th>\n",
       "      <th>Monetary</th>\n",
       "      <th>Recency_Score</th>\n",
       "      <th>Frequency_Score</th>\n",
       "      <th>Monetary_Score</th>\n",
       "    </tr>\n",
       "  </thead>\n",
       "  <tbody>\n",
       "    <tr>\n",
       "      <th>0</th>\n",
       "      <td>12346</td>\n",
       "      <td>432.0</td>\n",
       "      <td>34.0</td>\n",
       "      <td>368.36</td>\n",
       "      <td>1</td>\n",
       "      <td>2</td>\n",
       "      <td>2</td>\n",
       "    </tr>\n",
       "    <tr>\n",
       "      <th>1</th>\n",
       "      <td>12347</td>\n",
       "      <td>3.0</td>\n",
       "      <td>222.0</td>\n",
       "      <td>4921.53</td>\n",
       "      <td>5</td>\n",
       "      <td>5</td>\n",
       "      <td>5</td>\n",
       "    </tr>\n",
       "    <tr>\n",
       "      <th>2</th>\n",
       "      <td>12348</td>\n",
       "      <td>76.0</td>\n",
       "      <td>51.0</td>\n",
       "      <td>2019.40</td>\n",
       "      <td>3</td>\n",
       "      <td>3</td>\n",
       "      <td>4</td>\n",
       "    </tr>\n",
       "    <tr>\n",
       "      <th>3</th>\n",
       "      <td>12349</td>\n",
       "      <td>19.0</td>\n",
       "      <td>179.0</td>\n",
       "      <td>4419.49</td>\n",
       "      <td>5</td>\n",
       "      <td>4</td>\n",
       "      <td>5</td>\n",
       "    </tr>\n",
       "    <tr>\n",
       "      <th>4</th>\n",
       "      <td>12350</td>\n",
       "      <td>311.0</td>\n",
       "      <td>17.0</td>\n",
       "      <td>334.40</td>\n",
       "      <td>2</td>\n",
       "      <td>1</td>\n",
       "      <td>2</td>\n",
       "    </tr>\n",
       "  </tbody>\n",
       "</table>\n",
       "</div>"
      ],
      "text/plain": [
       "   Customer ID  Recency  Frequency  Monetary Recency_Score Frequency_Score  \\\n",
       "0        12346    432.0       34.0    368.36             1               2   \n",
       "1        12347      3.0      222.0   4921.53             5               5   \n",
       "2        12348     76.0       51.0   2019.40             3               3   \n",
       "3        12349     19.0      179.0   4419.49             5               4   \n",
       "4        12350    311.0       17.0    334.40             2               1   \n",
       "\n",
       "  Monetary_Score  \n",
       "0              2  \n",
       "1              5  \n",
       "2              4  \n",
       "3              5  \n",
       "4              2  "
      ]
     },
     "execution_count": 182,
     "metadata": {},
     "output_type": "execute_result"
    }
   ],
   "source": [
    "# Calculate RFM scores\n",
    "# Using pd.qcut() categorize each customer into 5 bins based on their value in each one of the metrics R,F,M\n",
    "rfm[\"Recency_Score\"] = pd.qcut(rfm[\"Recency\"], 5, labels = [5, 4 , 3, 2, 1])\n",
    "rfm[\"Frequency_Score\"]= pd.qcut(rfm[\"Frequency\"], 5, labels = [1, 2, 3, 4, 5])\n",
    "rfm[\"Monetary_Score\"] = pd.qcut(rfm['Monetary'], 5, labels = [1, 2, 3, 4, 5])\n",
    "rfm.head()"
   ]
  },
  {
   "cell_type": "code",
   "execution_count": 183,
   "id": "9773fd27",
   "metadata": {
    "scrolled": false
   },
   "outputs": [
    {
     "data": {
      "text/html": [
       "<div>\n",
       "<style scoped>\n",
       "    .dataframe tbody tr th:only-of-type {\n",
       "        vertical-align: middle;\n",
       "    }\n",
       "\n",
       "    .dataframe tbody tr th {\n",
       "        vertical-align: top;\n",
       "    }\n",
       "\n",
       "    .dataframe thead th {\n",
       "        text-align: right;\n",
       "    }\n",
       "</style>\n",
       "<table border=\"1\" class=\"dataframe\">\n",
       "  <thead>\n",
       "    <tr style=\"text-align: right;\">\n",
       "      <th></th>\n",
       "      <th>Customer ID</th>\n",
       "      <th>Recency</th>\n",
       "      <th>Frequency</th>\n",
       "      <th>Monetary</th>\n",
       "      <th>Recency_Score</th>\n",
       "      <th>Frequency_Score</th>\n",
       "      <th>Monetary_Score</th>\n",
       "      <th>RFM_Score</th>\n",
       "    </tr>\n",
       "  </thead>\n",
       "  <tbody>\n",
       "    <tr>\n",
       "      <th>0</th>\n",
       "      <td>12346</td>\n",
       "      <td>432.0</td>\n",
       "      <td>34.0</td>\n",
       "      <td>368.36</td>\n",
       "      <td>1</td>\n",
       "      <td>2</td>\n",
       "      <td>2</td>\n",
       "      <td>122</td>\n",
       "    </tr>\n",
       "    <tr>\n",
       "      <th>1</th>\n",
       "      <td>12347</td>\n",
       "      <td>3.0</td>\n",
       "      <td>222.0</td>\n",
       "      <td>4921.53</td>\n",
       "      <td>5</td>\n",
       "      <td>5</td>\n",
       "      <td>5</td>\n",
       "      <td>555</td>\n",
       "    </tr>\n",
       "    <tr>\n",
       "      <th>2</th>\n",
       "      <td>12348</td>\n",
       "      <td>76.0</td>\n",
       "      <td>51.0</td>\n",
       "      <td>2019.40</td>\n",
       "      <td>3</td>\n",
       "      <td>3</td>\n",
       "      <td>4</td>\n",
       "      <td>334</td>\n",
       "    </tr>\n",
       "    <tr>\n",
       "      <th>3</th>\n",
       "      <td>12349</td>\n",
       "      <td>19.0</td>\n",
       "      <td>179.0</td>\n",
       "      <td>4419.49</td>\n",
       "      <td>5</td>\n",
       "      <td>4</td>\n",
       "      <td>5</td>\n",
       "      <td>545</td>\n",
       "    </tr>\n",
       "    <tr>\n",
       "      <th>4</th>\n",
       "      <td>12350</td>\n",
       "      <td>311.0</td>\n",
       "      <td>17.0</td>\n",
       "      <td>334.40</td>\n",
       "      <td>2</td>\n",
       "      <td>1</td>\n",
       "      <td>2</td>\n",
       "      <td>212</td>\n",
       "    </tr>\n",
       "  </tbody>\n",
       "</table>\n",
       "</div>"
      ],
      "text/plain": [
       "   Customer ID  Recency  Frequency  Monetary Recency_Score Frequency_Score  \\\n",
       "0        12346    432.0       34.0    368.36             1               2   \n",
       "1        12347      3.0      222.0   4921.53             5               5   \n",
       "2        12348     76.0       51.0   2019.40             3               3   \n",
       "3        12349     19.0      179.0   4419.49             5               4   \n",
       "4        12350    311.0       17.0    334.40             2               1   \n",
       "\n",
       "  Monetary_Score RFM_Score  \n",
       "0              2       122  \n",
       "1              5       555  \n",
       "2              4       334  \n",
       "3              5       545  \n",
       "4              2       212  "
      ]
     },
     "execution_count": 183,
     "metadata": {},
     "output_type": "execute_result"
    }
   ],
   "source": [
    "rfm[\"RFM_Score\"] = rfm[\"Recency_Score\"].astype(str) + rfm[\"Frequency_Score\"].astype(str) + rfm[\"Monetary_Score\"].astype(str)\n",
    "rfm.head()"
   ]
  },
  {
   "cell_type": "code",
   "execution_count": 184,
   "id": "cac395ea",
   "metadata": {},
   "outputs": [],
   "source": [
    "rfmdata = rfm.to_csv(r'C:\\Users\\argyr\\OneDrive\\Υπολογιστής\\Diplvm\\Giftware dataset\\rfm_data_ipynb.csv', index=False)"
   ]
  },
  {
   "cell_type": "code",
   "execution_count": 185,
   "id": "99f75083",
   "metadata": {},
   "outputs": [
    {
     "data": {
      "image/png": "[encoded data removed]",
      "text/plain": [
       "<Figure size 432x288 with 1 Axes>"
      ]
     },
     "metadata": {
      "needs_background": "light"
     },
     "output_type": "display_data"
    }
   ],
   "source": [
    "# We better not split customers in 5 equal-in-size categories wrt frequency:\n",
    "# their distribution is not uniform:\n",
    "data = rfm[\"Frequency\"].astype(float)\n",
    "df = pd.DataFrame(data)\n",
    "hist = df.hist(bins=20)\n",
    "#plt.xlim(1,10)"
   ]
  },
  {
   "cell_type": "code",
   "execution_count": 186,
   "id": "a06be8a7",
   "metadata": {},
   "outputs": [
    {
     "data": {
      "text/plain": [
       "107"
      ]
     },
     "execution_count": 186,
     "metadata": {},
     "output_type": "execute_result"
    }
   ],
   "source": [
    "# how many freq = 1?\n",
    "sum(rfm[\"Frequency\"] == 1)"
   ]
  },
  {
   "cell_type": "code",
   "execution_count": 187,
   "id": "11fd370d",
   "metadata": {},
   "outputs": [
    {
     "data": {
      "text/plain": [
       "1169.6"
      ]
     },
     "execution_count": 187,
     "metadata": {},
     "output_type": "execute_result"
    }
   ],
   "source": [
    "# but len(rfm)/4 = 1170 < 1475!\n",
    "len(rfm)/5"
   ]
  },
  {
   "cell_type": "code",
   "execution_count": 188,
   "id": "78862525",
   "metadata": {},
   "outputs": [
    {
     "data": {
      "text/plain": [
       "1462.0"
      ]
     },
     "execution_count": 188,
     "metadata": {},
     "output_type": "execute_result"
    }
   ],
   "source": [
    "# we cannot even split to 4 categories!\n",
    "len(rfm)/4"
   ]
  },
  {
   "cell_type": "code",
   "execution_count": 189,
   "id": "73fc57eb",
   "metadata": {},
   "outputs": [],
   "source": [
    "# ... for this reason it would be preferable to cluster recency, frequency, and monetary via kmeans.\n",
    "# The code below is kmeans Python code for Power BI.\n",
    "# We can run it in Power BI and in Jupyter and come up with the scores individually.\n",
    "# If the process was deterministic, i.e. if the k centers of the k clusters were not \n",
    "# initialised randomly, then there would be no problem, since the same code would produce\n",
    "# the same results in each tool. But the clusters are indeed initialised randomly.\n",
    "# ...\n",
    "# We could try to run this code at each tool and try to \"sync\" their results, but this would take time. \n",
    "# Instead we will produce the results here (they may as well had been produced in Power BI),\n",
    "# and feed the produced dataset to Power BI, as if *it* had produced them, which is perfectly capable of,\n",
    "# and which we would, if only for the randomness inherent to kmeans.\n",
    "#\n",
    "# The other problem is that since the process is random: which is the correct clustering?\n",
    "# Run if for N times and take that which is the most frequent."
   ]
  },
  {
   "cell_type": "code",
   "execution_count": 190,
   "id": "54363d52",
   "metadata": {},
   "outputs": [],
   "source": [
    "def my_iterative_kmeans(rfm, rfm_column_name, num_runs, n_clusters):\n",
    "        \n",
    "    uids = []\n",
    "    rfms = []\n",
    "    \n",
    "    # python produces 0:4 labels, we want 1:5\n",
    "    labels_mapping = {0:1, 1:2, 2:3, 3:4, 4:5}\n",
    "    \n",
    "    for i in range(num_runs):\n",
    "        # The following two lines are the essence of Kmeans\n",
    "        # After appropriate renamings these two lines constitute the code that should run in Power BI\n",
    "        kmeans = KMeans(n_clusters=n_clusters).fit(rfm[[rfm_column_name]])\n",
    "        rfm[rfm_column_name+'_clustered'] = kmeans.labels_\n",
    "        \n",
    "        # https://stackoverflow.com/questions/44888415/how-to-set-k-means-clustering-labels-from-highest-to-lowest-with-python\n",
    "        idx = np.argsort(kmeans.cluster_centers_.sum(axis=1))\n",
    "        lut = np.zeros_like(idx)\n",
    "        lut[idx] = np.arange(n_clusters)\n",
    "        \n",
    "        # Map from 0-4 to 1-5\n",
    "        lut[kmeans.labels_] = [labels_mapping[i] for i in lut[kmeans.labels_]]\n",
    "        rfm[rfm_column_name+'_clustered'] = [labels_mapping[i] for i in rfm[rfm_column_name+'_clustered']]\n",
    "\n",
    "        uid = [sum(lut[kmeans.labels_] == 1), \n",
    "               sum(lut[kmeans.labels_] == 2), \n",
    "               sum(lut[kmeans.labels_] == 3), \n",
    "               sum(lut[kmeans.labels_] == 4), \n",
    "               sum(lut[kmeans.labels_] == 5)],\n",
    "              \n",
    "        uids.append(''.join(str(uid)))\n",
    "        rfms.append(rfm)\n",
    "        \n",
    "    return uids,rfms"
   ]
  },
  {
   "cell_type": "code",
   "execution_count": 191,
   "id": "f7ff2e0f",
   "metadata": {},
   "outputs": [],
   "source": [
    "# Run 5-means ntimes for each column\n",
    "\n",
    "ntimes = 100\n",
    "nclusters = 5\n",
    "\n",
    "mik_r = my_iterative_kmeans(rfm, 'Recency',   ntimes, nclusters)\n",
    "mik_f = my_iterative_kmeans(rfm, 'Frequency', ntimes, nclusters)\n",
    "mik_m = my_iterative_kmeans(rfm, 'Monetary',  ntimes, nclusters)\n",
    "\n",
    "# counts\n",
    "counts_r = {}\n",
    "counts_f = {}\n",
    "counts_m = {}\n",
    "\n",
    "for i in mik_r[0]:\n",
    "  counts_r[i] = (counts_r[i] + 1) if (i in counts_r) else 1\n",
    "for i in mik_f[0]:\n",
    "  counts_f[i] = (counts_f[i] + 1) if (i in counts_f) else 1\n",
    "for i in mik_m[0]:\n",
    "  counts_m[i] = (counts_m[i] + 1) if (i in counts_m) else 1"
   ]
  },
  {
   "cell_type": "code",
   "execution_count": 192,
   "id": "ac31a80e",
   "metadata": {},
   "outputs": [
    {
     "data": {
      "text/plain": [
       "[{'([2836, 777, 606, 1028, 601],)': 4,\n",
       "  '([2824, 783, 612, 1029, 600],)': 15,\n",
       "  '([2874, 758, 587, 1029, 600],)': 18,\n",
       "  '([2864, 763, 592, 1029, 600],)': 14,\n",
       "  '([2824, 770, 625, 1029, 600],)': 1,\n",
       "  '([2856, 766, 597, 1029, 600],)': 4,\n",
       "  '([2796, 785, 638, 1029, 600],)': 5,\n",
       "  '([2824, 776, 619, 1028, 601],)': 6,\n",
       "  '([2856, 757, 606, 1029, 600],)': 5,\n",
       "  '([2784, 790, 645, 1028, 601],)': 1,\n",
       "  '([2581, 916, 719, 1031, 601],)': 3,\n",
       "  '([2581, 916, 719, 1032, 600],)': 3,\n",
       "  '([2824, 783, 612, 1028, 601],)': 3,\n",
       "  '([2864, 763, 592, 1028, 601],)': 1,\n",
       "  '([2824, 776, 619, 1029, 600],)': 3,\n",
       "  '([2722, 837, 660, 1028, 601],)': 1,\n",
       "  '([2796, 778, 645, 1028, 601],)': 2,\n",
       "  '([2796, 785, 638, 1028, 601],)': 2,\n",
       "  '([2796, 778, 645, 1029, 600],)': 2,\n",
       "  '([2784, 782, 653, 1023, 606],)': 1,\n",
       "  '([2856, 757, 606, 1028, 601],)': 2,\n",
       "  '([2824, 783, 612, 1023, 606],)': 1,\n",
       "  '([2836, 777, 606, 1029, 600],)': 2,\n",
       "  '([2856, 766, 597, 1028, 601],)': 1},\n",
       " {'([4863, 839, 136, 8, 2],)': 8,\n",
       "  '([4879, 827, 132, 8, 2],)': 6,\n",
       "  '([4873, 833, 132, 8, 2],)': 62,\n",
       "  '([4829, 861, 145, 11, 2],)': 1,\n",
       "  '([4870, 836, 132, 8, 2],)': 11,\n",
       "  '([4867, 836, 135, 8, 2],)': 2,\n",
       "  '([4867, 838, 133, 8, 2],)': 4,\n",
       "  '([4867, 835, 136, 8, 2],)': 3,\n",
       "  '([4867, 837, 134, 8, 2],)': 2,\n",
       "  '([4870, 835, 133, 8, 2],)': 1},\n",
       " {'([5492, 322, 27, 5, 2],)': 7,\n",
       "  '([5480, 333, 28, 5, 2],)': 32,\n",
       "  '([5486, 328, 27, 5, 2],)': 9,\n",
       "  '([5478, 335, 28, 5, 2],)': 3,\n",
       "  '([5490, 324, 27, 5, 2],)': 13,\n",
       "  '([5489, 325, 27, 5, 2],)': 2,\n",
       "  '([5520, 295, 26, 5, 2],)': 1,\n",
       "  '([5484, 330, 27, 5, 2],)': 2,\n",
       "  '([5493, 321, 27, 5, 2],)': 3,\n",
       "  '([5487, 327, 27, 5, 2],)': 4,\n",
       "  '([5528, 287, 26, 5, 2],)': 4,\n",
       "  '([5483, 331, 27, 5, 2],)': 1,\n",
       "  '([5479, 334, 28, 5, 2],)': 3,\n",
       "  '([5491, 323, 27, 5, 2],)': 2,\n",
       "  '([5519, 295, 27, 5, 2],)': 4,\n",
       "  '([5530, 285, 26, 5, 2],)': 1,\n",
       "  '([5518, 296, 27, 5, 2],)': 3,\n",
       "  '([5475, 337, 27, 7, 2],)': 1,\n",
       "  '([5525, 290, 26, 5, 2],)': 1,\n",
       "  '([5481, 332, 28, 5, 2],)': 1,\n",
       "  '([5482, 331, 28, 5, 2],)': 1,\n",
       "  '([5513, 301, 27, 5, 2],)': 1,\n",
       "  '([5504, 310, 27, 5, 2],)': 1}]"
      ]
     },
     "execution_count": 192,
     "metadata": {},
     "output_type": "execute_result"
    }
   ],
   "source": [
    "[counts_r, counts_f, counts_m]"
   ]
  },
  {
   "cell_type": "code",
   "execution_count": 193,
   "id": "ab7c3150",
   "metadata": {},
   "outputs": [],
   "source": [
    "# find uid with max counts\n",
    "# max(counts_r, key=counts_r.get)\n",
    "# This gives the string located in `uids` that is most frequent\n",
    "# https://stackoverflow.com/a/280156\n",
    "\n",
    "# We want to obtain one such clustering that is stored in the mik_*[1] element of the `my_iterative_kmeans` return object.\n",
    "# These are the rid, fid, and mids\n",
    "# https://stackoverflow.com/a/176921\n",
    "rid = mik_r[0].index(max(counts_r, key=counts_r.get))\n",
    "fid = mik_f[0].index(max(counts_f, key=counts_f.get))\n",
    "mid = mik_m[0].index(max(counts_m, key=counts_m.get))\n",
    "\n",
    "# These clusterings are saved here:\n",
    "# mik_r[1][rid]\n",
    "# mik_f[1][fid]\n",
    "# mik_m[1][mid]"
   ]
  },
  {
   "cell_type": "code",
   "execution_count": 194,
   "id": "1c97ce37",
   "metadata": {},
   "outputs": [
    {
     "data": {
      "text/html": [
       "<div>\n",
       "<style scoped>\n",
       "    .dataframe tbody tr th:only-of-type {\n",
       "        vertical-align: middle;\n",
       "    }\n",
       "\n",
       "    .dataframe tbody tr th {\n",
       "        vertical-align: top;\n",
       "    }\n",
       "\n",
       "    .dataframe thead th {\n",
       "        text-align: right;\n",
       "    }\n",
       "</style>\n",
       "<table border=\"1\" class=\"dataframe\">\n",
       "  <thead>\n",
       "    <tr style=\"text-align: right;\">\n",
       "      <th></th>\n",
       "      <th>Customer ID</th>\n",
       "      <th>Recency_Score</th>\n",
       "      <th>Frequency_Score</th>\n",
       "      <th>Monetary_Score</th>\n",
       "    </tr>\n",
       "  </thead>\n",
       "  <tbody>\n",
       "    <tr>\n",
       "      <th>0</th>\n",
       "      <td>12346</td>\n",
       "      <td>1</td>\n",
       "      <td>2</td>\n",
       "      <td>2</td>\n",
       "    </tr>\n",
       "    <tr>\n",
       "      <th>1</th>\n",
       "      <td>12347</td>\n",
       "      <td>5</td>\n",
       "      <td>5</td>\n",
       "      <td>5</td>\n",
       "    </tr>\n",
       "    <tr>\n",
       "      <th>2</th>\n",
       "      <td>12348</td>\n",
       "      <td>3</td>\n",
       "      <td>3</td>\n",
       "      <td>4</td>\n",
       "    </tr>\n",
       "    <tr>\n",
       "      <th>3</th>\n",
       "      <td>12349</td>\n",
       "      <td>5</td>\n",
       "      <td>4</td>\n",
       "      <td>5</td>\n",
       "    </tr>\n",
       "    <tr>\n",
       "      <th>4</th>\n",
       "      <td>12350</td>\n",
       "      <td>2</td>\n",
       "      <td>1</td>\n",
       "      <td>2</td>\n",
       "    </tr>\n",
       "    <tr>\n",
       "      <th>5</th>\n",
       "      <td>12351</td>\n",
       "      <td>2</td>\n",
       "      <td>2</td>\n",
       "      <td>2</td>\n",
       "    </tr>\n",
       "    <tr>\n",
       "      <th>6</th>\n",
       "      <td>12352</td>\n",
       "      <td>4</td>\n",
       "      <td>4</td>\n",
       "      <td>4</td>\n",
       "    </tr>\n",
       "    <tr>\n",
       "      <th>7</th>\n",
       "      <td>12353</td>\n",
       "      <td>2</td>\n",
       "      <td>2</td>\n",
       "      <td>2</td>\n",
       "    </tr>\n",
       "    <tr>\n",
       "      <th>8</th>\n",
       "      <td>12354</td>\n",
       "      <td>2</td>\n",
       "      <td>3</td>\n",
       "      <td>3</td>\n",
       "    </tr>\n",
       "    <tr>\n",
       "      <th>9</th>\n",
       "      <td>12355</td>\n",
       "      <td>2</td>\n",
       "      <td>2</td>\n",
       "      <td>3</td>\n",
       "    </tr>\n",
       "  </tbody>\n",
       "</table>\n",
       "</div>"
      ],
      "text/plain": [
       "   Customer ID Recency_Score Frequency_Score Monetary_Score\n",
       "0        12346             1               2              2\n",
       "1        12347             5               5              5\n",
       "2        12348             3               3              4\n",
       "3        12349             5               4              5\n",
       "4        12350             2               1              2\n",
       "5        12351             2               2              2\n",
       "6        12352             4               4              4\n",
       "7        12353             2               2              2\n",
       "8        12354             2               3              3\n",
       "9        12355             2               2              3"
      ]
     },
     "execution_count": 194,
     "metadata": {},
     "output_type": "execute_result"
    }
   ],
   "source": [
    "rfm2 = rfm[[\"Customer ID\", \"Recency_Score\", \"Frequency_Score\", \"Monetary_Score\"]]\n",
    "rfm2.head(10)"
   ]
  },
  {
   "cell_type": "code",
   "execution_count": 195,
   "id": "83d46d04",
   "metadata": {},
   "outputs": [],
   "source": [
    "rfmdata_clustered = rfm2.to_csv(r'C:\\Users\\argyr\\OneDrive\\Υπολογιστής\\Diplvm\\Giftware dataset\\rfm_scores_via_kmeans.csv', index=False)"
   ]
  },
  {
   "cell_type": "code",
   "execution_count": 196,
   "id": "30de7818",
   "metadata": {},
   "outputs": [
    {
     "data": {
      "image/png": "[encoded data removed]",
      "text/plain": [
       "<Figure size 1080x864 with 1 Axes>"
      ]
     },
     "metadata": {
      "needs_background": "light"
     },
     "output_type": "display_data"
    }
   ],
   "source": [
    "from mpl_toolkits.mplot3d import Axes3D\n",
    "\n",
    "fig = plt.figure(figsize=(15, 12))\n",
    "ax = fig.add_subplot(111, projection='3d')\n",
    "\n",
    "# Scatter plot\n",
    "ax.scatter(rfm2['Recency_Score'], rfm2['Frequency_Score'], rfm2['Monetary_Score'], c='b', marker='o')\n",
    "\n",
    "# Set labels\n",
    "ax.set_xlabel('Recency Score')\n",
    "ax.set_ylabel('Frequency Score')\n",
    "ax.set_zlabel('Monetary Score')\n",
    "\n",
    "# Set title\n",
    "ax.set_title('3D Scatter Plot of Recency, Frequency, and Monetary Scores')\n",
    "\n",
    "plt.show()"
   ]
  },
  {
   "cell_type": "code",
   "execution_count": null,
   "id": "baf31c2c",
   "metadata": {},
   "outputs": [],
   "source": []
  }
 ],
 "metadata": {
  "kernelspec": {
   "display_name": "Python 3 (ipykernel)",
   "language": "python",
   "name": "python3"
  },
  "language_info": {
   "codemirror_mode": {
    "name": "ipython",
    "version": 3
   },
   "file_extension": ".py",
   "mimetype": "text/x-python",
   "name": "python",
   "nbconvert_exporter": "python",
   "pygments_lexer": "ipython3",
   "version": "3.9.12"
  }
 },
 "nbformat": 4,
 "nbformat_minor": 5
}
