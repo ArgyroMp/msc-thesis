{
 "cells": [
  {
   "cell_type": "code",
   "execution_count": 59,
   "id": "1c5b2e2c",
   "metadata": {},
   "outputs": [],
   "source": [
    "# Import libraries\n",
    "import numpy as np \n",
    "import pandas as pd\n",
    "import matplotlib.pyplot as plt\n",
    "import seaborn as sns\n",
    "import datetime as dt\n",
    "\n",
    "import feature_engine\n",
    "from feature_engine.outliers import Winsorizer\n",
    "\n",
    "import warnings\n",
    "warnings.filterwarnings(\"ignore\")\n",
    "\n",
    "import plotly.express as px\n",
    "\n",
    "%matplotlib ipympl\n"
   ]
  },
  {
   "cell_type": "code",
   "execution_count": 60,
   "id": "ce55353f",
   "metadata": {},
   "outputs": [],
   "source": [
    "rfm_perc = pd.read_csv(r'C:\\Users\\argyr\\OneDrive\\Υπολογιστής\\Diplvm\\Giftware dataset\\rfm_sc_perc.csv')\n",
    "rfm_km   = pd.read_csv(r'C:\\Users\\argyr\\OneDrive\\Υπολογιστής\\Diplvm\\Giftware dataset\\rfm_sc_km.csv')\n",
    "rfm_km4  = pd.read_csv(r'C:\\Users\\argyr\\OneDrive\\Υπολογιστής\\Diplvm\\Giftware dataset\\df_rfm_k4.csv')"
   ]
  },
  {
   "cell_type": "code",
   "execution_count": 61,
   "id": "5d3b9bc1",
   "metadata": {},
   "outputs": [
    {
     "data": {
      "text/html": [
       "<div>\n",
       "<style scoped>\n",
       "    .dataframe tbody tr th:only-of-type {\n",
       "        vertical-align: middle;\n",
       "    }\n",
       "\n",
       "    .dataframe tbody tr th {\n",
       "        vertical-align: top;\n",
       "    }\n",
       "\n",
       "    .dataframe thead th {\n",
       "        text-align: right;\n",
       "    }\n",
       "</style>\n",
       "<table border=\"1\" class=\"dataframe\">\n",
       "  <thead>\n",
       "    <tr style=\"text-align: right;\">\n",
       "      <th></th>\n",
       "      <th>Customer ID</th>\n",
       "      <th>Recency</th>\n",
       "      <th>Frequency</th>\n",
       "      <th>Monetary</th>\n",
       "      <th>score</th>\n",
       "      <th>segment id</th>\n",
       "      <th>segment_name</th>\n",
       "    </tr>\n",
       "  </thead>\n",
       "  <tbody>\n",
       "    <tr>\n",
       "      <th>0</th>\n",
       "      <td>12346</td>\n",
       "      <td>432.0</td>\n",
       "      <td>34.0</td>\n",
       "      <td>368.36</td>\n",
       "      <td>122</td>\n",
       "      <td>9</td>\n",
       "      <td>hibernating</td>\n",
       "    </tr>\n",
       "    <tr>\n",
       "      <th>1</th>\n",
       "      <td>12347</td>\n",
       "      <td>3.0</td>\n",
       "      <td>222.0</td>\n",
       "      <td>4921.53</td>\n",
       "      <td>555</td>\n",
       "      <td>0</td>\n",
       "      <td>champions</td>\n",
       "    </tr>\n",
       "    <tr>\n",
       "      <th>2</th>\n",
       "      <td>12348</td>\n",
       "      <td>76.0</td>\n",
       "      <td>51.0</td>\n",
       "      <td>2019.40</td>\n",
       "      <td>334</td>\n",
       "      <td>5</td>\n",
       "      <td>need_attention</td>\n",
       "    </tr>\n",
       "    <tr>\n",
       "      <th>3</th>\n",
       "      <td>12349</td>\n",
       "      <td>19.0</td>\n",
       "      <td>179.0</td>\n",
       "      <td>4419.49</td>\n",
       "      <td>545</td>\n",
       "      <td>0</td>\n",
       "      <td>champions</td>\n",
       "    </tr>\n",
       "    <tr>\n",
       "      <th>4</th>\n",
       "      <td>12350</td>\n",
       "      <td>311.0</td>\n",
       "      <td>17.0</td>\n",
       "      <td>334.40</td>\n",
       "      <td>212</td>\n",
       "      <td>9</td>\n",
       "      <td>hibernating</td>\n",
       "    </tr>\n",
       "  </tbody>\n",
       "</table>\n",
       "</div>"
      ],
      "text/plain": [
       "   Customer ID  Recency  Frequency  Monetary  score  segment id  \\\n",
       "0        12346    432.0       34.0    368.36    122           9   \n",
       "1        12347      3.0      222.0   4921.53    555           0   \n",
       "2        12348     76.0       51.0   2019.40    334           5   \n",
       "3        12349     19.0      179.0   4419.49    545           0   \n",
       "4        12350    311.0       17.0    334.40    212           9   \n",
       "\n",
       "     segment_name  \n",
       "0     hibernating  \n",
       "1       champions  \n",
       "2  need_attention  \n",
       "3       champions  \n",
       "4     hibernating  "
      ]
     },
     "execution_count": 61,
     "metadata": {},
     "output_type": "execute_result"
    }
   ],
   "source": [
    "rfm_perc.head()"
   ]
  },
  {
   "cell_type": "code",
   "execution_count": 62,
   "id": "fac8a871",
   "metadata": {},
   "outputs": [],
   "source": [
    "# This is our grouping of 11 segments into 4 groups\n",
    "segments_group_0 = [\"champions\", \"loyal\"]\n",
    "segments_group_1 = [\"potential_loyalist\", \"new_customers\", \"promising\", \"need_attention\"]\n",
    "segments_group_2 = [\"about_to_sleep\", \"cannot_lose_them_but_losing\", \"at_risk\"]\n",
    "segments_group_3 = [\"hibernating\", \"lost\"]"
   ]
  },
  {
   "cell_type": "code",
   "execution_count": 63,
   "id": "04967f9d",
   "metadata": {},
   "outputs": [],
   "source": [
    "# Compute the 4 groups for rfm_perc\n",
    "rfm_perc_g0 = rfm_perc[rfm_perc['segment_name'].isin(segments_group_0)]\n",
    "rfm_perc_g1 = rfm_perc[rfm_perc['segment_name'].isin(segments_group_1)]\n",
    "rfm_perc_g2 = rfm_perc[rfm_perc['segment_name'].isin(segments_group_2)]\n",
    "rfm_perc_g3 = rfm_perc[rfm_perc['segment_name'].isin(segments_group_3)]"
   ]
  },
  {
   "cell_type": "code",
   "execution_count": 64,
   "id": "d9655bf1",
   "metadata": {},
   "outputs": [],
   "source": [
    "# Compute the 4 groups for rfm_km\n",
    "rfm_km_g0 = rfm_km[rfm_km['segment_name'].isin(segments_group_0)]\n",
    "rfm_km_g1 = rfm_km[rfm_km['segment_name'].isin(segments_group_1)]\n",
    "rfm_km_g2 = rfm_km[rfm_km['segment_name'].isin(segments_group_2)]\n",
    "rfm_km_g3 = rfm_km[rfm_km['segment_name'].isin(segments_group_3)]"
   ]
  },
  {
   "cell_type": "code",
   "execution_count": 65,
   "id": "a81c908d",
   "metadata": {},
   "outputs": [
    {
     "data": {
      "text/plain": [
       "(1735, 1547, 833, 1733)"
      ]
     },
     "execution_count": 65,
     "metadata": {},
     "output_type": "execute_result"
    }
   ],
   "source": [
    "rfm_perc_g0.shape[0],rfm_perc_g1.shape[0],rfm_perc_g2.shape[0],rfm_perc_g3.shape[0]"
   ]
  },
  {
   "cell_type": "code",
   "execution_count": 66,
   "id": "b0e044d2",
   "metadata": {},
   "outputs": [
    {
     "data": {
      "text/plain": [
       "(7, 4173, 63, 1605)"
      ]
     },
     "execution_count": 66,
     "metadata": {},
     "output_type": "execute_result"
    }
   ],
   "source": [
    "rfm_km_g0.shape[0],rfm_km_g1.shape[0],rfm_km_g2.shape[0],rfm_km_g3.shape[0]"
   ]
  },
  {
   "cell_type": "code",
   "execution_count": 67,
   "id": "8a8ff2f9",
   "metadata": {
    "scrolled": true
   },
   "outputs": [
    {
     "name": "stdout",
     "output_type": "stream",
     "text": [
      "1384 1562 1552 1350\n"
     ]
    }
   ],
   "source": [
    "def rfm_values(df):\n",
    "\n",
    "    df_new = df.groupby(['Cluster']).agg({\n",
    "        'Recency': 'mean',\n",
    "        'Frequency': 'mean',\n",
    "        'Monetary': ['mean', 'count']\n",
    "    }).round(0)\n",
    "    \n",
    "    return df_new\n",
    "\n",
    "print(rfm_values(rfm_km4).loc[0, ('Monetary', 'count')], rfm_values(rfm_km4).loc[1, ('Monetary', 'count')], rfm_values(rfm_km4).loc[2, ('Monetary', 'count')], rfm_values(rfm_km4).loc[3, ('Monetary', 'count')])"
   ]
  },
  {
   "cell_type": "code",
   "execution_count": 68,
   "id": "c8a8ccce",
   "metadata": {},
   "outputs": [],
   "source": [
    "def compute_total_value(sizes, weights):\n",
    "    return sum([a * b for a, b in zip(sizes, weights)])"
   ]
  },
  {
   "cell_type": "code",
   "execution_count": 83,
   "id": "9c07df49",
   "metadata": {},
   "outputs": [
    {
     "name": "stdout",
     "output_type": "stream",
     "text": [
      "Percentiles score:    14260\n",
      "Column k-means score: 14962\n",
      "RFM k-means score:    14564\n"
     ]
    }
   ],
   "source": [
    "weights = [1,2,3,4]\n",
    "rfm_perc_gsz = [rfm_perc_g0.shape[0],rfm_perc_g1.shape[0],rfm_perc_g2.shape[0],rfm_perc_g3.shape[0]]\n",
    "rfm_km_gsz = [rfm_km_g0.shape[0],rfm_km_g1.shape[0],rfm_km_g2.shape[0],rfm_km_g3.shape[0]]\n",
    "rfm_km4_gsz = [rfm_values(rfm_km4).loc[0, ('Monetary', 'count')], rfm_values(rfm_km4).loc[1, ('Monetary', 'count')], rfm_values(rfm_km4).loc[2, ('Monetary', 'count')], rfm_values(rfm_km4).loc[3, ('Monetary', 'count')]]\n",
    "\n",
    "print(\"Percentiles score:   \", compute_total_value(rfm_perc_gsz, weights))\n",
    "print(\"Column k-means score:\", compute_total_value(rfm_km_gsz, weights))\n",
    "print(\"RFM k-means score:   \", compute_total_value(rfm_km4_gsz, weights))"
   ]
  }
 ],
 "metadata": {
  "kernelspec": {
   "display_name": "Python 3 (ipykernel)",
   "language": "python",
   "name": "python3"
  },
  "language_info": {
   "codemirror_mode": {
    "name": "ipython",
    "version": 3
   },
   "file_extension": ".py",
   "mimetype": "text/x-python",
   "name": "python",
   "nbconvert_exporter": "python",
   "pygments_lexer": "ipython3",
   "version": "3.9.12"
  }
 },
 "nbformat": 4,
 "nbformat_minor": 5
}
